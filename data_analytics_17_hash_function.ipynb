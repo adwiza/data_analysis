{
 "cells": [
  {
   "cell_type": "code",
   "execution_count": 6,
   "metadata": {},
   "outputs": [],
   "source": [
    "import pandas as pd\n",
    "import hashlib"
   ]
  },
  {
   "cell_type": "code",
   "execution_count": 4,
   "metadata": {},
   "outputs": [],
   "source": [
    "orders = pd.read_csv('orders.txt', sep='\\t')"
   ]
  },
  {
   "cell_type": "code",
   "execution_count": 5,
   "metadata": {},
   "outputs": [
    {
     "data": {
      "text/html": [
       "<div>\n",
       "<style scoped>\n",
       "    .dataframe tbody tr th:only-of-type {\n",
       "        vertical-align: middle;\n",
       "    }\n",
       "\n",
       "    .dataframe tbody tr th {\n",
       "        vertical-align: top;\n",
       "    }\n",
       "\n",
       "    .dataframe thead th {\n",
       "        text-align: right;\n",
       "    }\n",
       "</style>\n",
       "<table border=\"1\" class=\"dataframe\">\n",
       "  <thead>\n",
       "    <tr style=\"text-align: right;\">\n",
       "      <th></th>\n",
       "      <th>tel</th>\n",
       "      <th>order</th>\n",
       "      <th>region</th>\n",
       "      <th>city</th>\n",
       "      <th>address</th>\n",
       "    </tr>\n",
       "  </thead>\n",
       "  <tbody>\n",
       "    <tr>\n",
       "      <th>0</th>\n",
       "      <td>d76182a41a</td>\n",
       "      <td>dbd28-2a6</td>\n",
       "      <td>A</td>\n",
       "      <td>Сусуман</td>\n",
       "      <td>Кирова 10</td>\n",
       "    </tr>\n",
       "    <tr>\n",
       "      <th>1</th>\n",
       "      <td>d4d482c479</td>\n",
       "      <td>5f375-8c9</td>\n",
       "      <td>B</td>\n",
       "      <td>Якутск</td>\n",
       "      <td>Турку 3</td>\n",
       "    </tr>\n",
       "    <tr>\n",
       "      <th>2</th>\n",
       "      <td>113ab84955</td>\n",
       "      <td>b9ce9-caf</td>\n",
       "      <td>C</td>\n",
       "      <td>Пионерский</td>\n",
       "      <td>Лермонтовская 5</td>\n",
       "    </tr>\n",
       "    <tr>\n",
       "      <th>3</th>\n",
       "      <td>92bb06cf14</td>\n",
       "      <td>9bad8-af4</td>\n",
       "      <td>A</td>\n",
       "      <td>Владивосток</td>\n",
       "      <td>Красноармейская 7</td>\n",
       "    </tr>\n",
       "    <tr>\n",
       "      <th>4</th>\n",
       "      <td>41a27123c7</td>\n",
       "      <td>77c85-fd6</td>\n",
       "      <td>D</td>\n",
       "      <td>Донецк</td>\n",
       "      <td>Солнечный 8</td>\n",
       "    </tr>\n",
       "  </tbody>\n",
       "</table>\n",
       "</div>"
      ],
      "text/plain": [
       "          tel      order region         city            address\n",
       "0  d76182a41a  dbd28-2a6      A      Сусуман          Кирова 10\n",
       "1  d4d482c479  5f375-8c9      B       Якутск            Турку 3\n",
       "2  113ab84955  b9ce9-caf      C   Пионерский    Лермонтовская 5\n",
       "3  92bb06cf14  9bad8-af4      A  Владивосток  Красноармейская 7\n",
       "4  41a27123c7  77c85-fd6      D       Донецк        Солнечный 8"
      ]
     },
     "execution_count": 5,
     "metadata": {},
     "output_type": "execute_result"
    }
   ],
   "source": [
    "orders.head()"
   ]
  },
  {
   "cell_type": "code",
   "execution_count": 7,
   "metadata": {},
   "outputs": [
    {
     "data": {
      "text/plain": [
       "'2388d885ffef200977eefc0a585a578bc30e00cc0b1cde0678ed49ef04659d51'"
      ]
     },
     "execution_count": 7,
     "metadata": {},
     "output_type": "execute_result"
    }
   ],
   "source": [
    "hashlib.sha256('username@yandex.ru'.encode('utf-8')).hexdigest()"
   ]
  },
  {
   "cell_type": "code",
   "execution_count": 9,
   "metadata": {},
   "outputs": [],
   "source": [
    "def hash_name(row):\n",
    "    return hashlib.sha256(row['tel'].encode('utf-8')).hexdigest()"
   ]
  },
  {
   "cell_type": "code",
   "execution_count": 15,
   "metadata": {},
   "outputs": [],
   "source": [
    "orders['hash_tel'] = orders.apply(hash_name, axis=1)"
   ]
  },
  {
   "cell_type": "code",
   "execution_count": 13,
   "metadata": {},
   "outputs": [
    {
     "data": {
      "text/html": [
       "<div>\n",
       "<style scoped>\n",
       "    .dataframe tbody tr th:only-of-type {\n",
       "        vertical-align: middle;\n",
       "    }\n",
       "\n",
       "    .dataframe tbody tr th {\n",
       "        vertical-align: top;\n",
       "    }\n",
       "\n",
       "    .dataframe thead th {\n",
       "        text-align: right;\n",
       "    }\n",
       "</style>\n",
       "<table border=\"1\" class=\"dataframe\">\n",
       "  <thead>\n",
       "    <tr style=\"text-align: right;\">\n",
       "      <th></th>\n",
       "      <th>tel</th>\n",
       "      <th>order</th>\n",
       "      <th>region</th>\n",
       "      <th>city</th>\n",
       "      <th>address</th>\n",
       "      <th>hash_tel</th>\n",
       "    </tr>\n",
       "  </thead>\n",
       "  <tbody>\n",
       "    <tr>\n",
       "      <th>0</th>\n",
       "      <td>d76182a41a</td>\n",
       "      <td>dbd28-2a6</td>\n",
       "      <td>A</td>\n",
       "      <td>Сусуман</td>\n",
       "      <td>Кирова 10</td>\n",
       "      <td>bdba74b6cc3a08b85eb0b279bc38f0ed69d07841181b2f...</td>\n",
       "    </tr>\n",
       "    <tr>\n",
       "      <th>1</th>\n",
       "      <td>d4d482c479</td>\n",
       "      <td>5f375-8c9</td>\n",
       "      <td>B</td>\n",
       "      <td>Якутск</td>\n",
       "      <td>Турку 3</td>\n",
       "      <td>110100dabb6eac601603c12c788d16c9c6978f2a6ecb5f...</td>\n",
       "    </tr>\n",
       "    <tr>\n",
       "      <th>2</th>\n",
       "      <td>113ab84955</td>\n",
       "      <td>b9ce9-caf</td>\n",
       "      <td>C</td>\n",
       "      <td>Пионерский</td>\n",
       "      <td>Лермонтовская 5</td>\n",
       "      <td>f9daf4c77347481bda6b052a9068f9e106bb5c1d11f8e9...</td>\n",
       "    </tr>\n",
       "    <tr>\n",
       "      <th>3</th>\n",
       "      <td>92bb06cf14</td>\n",
       "      <td>9bad8-af4</td>\n",
       "      <td>A</td>\n",
       "      <td>Владивосток</td>\n",
       "      <td>Красноармейская 7</td>\n",
       "      <td>5c842619d83d519f01c7cd274c893133a61a8038a42645...</td>\n",
       "    </tr>\n",
       "    <tr>\n",
       "      <th>4</th>\n",
       "      <td>41a27123c7</td>\n",
       "      <td>77c85-fd6</td>\n",
       "      <td>D</td>\n",
       "      <td>Донецк</td>\n",
       "      <td>Солнечный 8</td>\n",
       "      <td>701bfdd4e2c3e78b91bf8c7847e19dce7f89d98761099f...</td>\n",
       "    </tr>\n",
       "  </tbody>\n",
       "</table>\n",
       "</div>"
      ],
      "text/plain": [
       "          tel      order region         city            address  \\\n",
       "0  d76182a41a  dbd28-2a6      A      Сусуман          Кирова 10   \n",
       "1  d4d482c479  5f375-8c9      B       Якутск            Турку 3   \n",
       "2  113ab84955  b9ce9-caf      C   Пионерский    Лермонтовская 5   \n",
       "3  92bb06cf14  9bad8-af4      A  Владивосток  Красноармейская 7   \n",
       "4  41a27123c7  77c85-fd6      D       Донецк        Солнечный 8   \n",
       "\n",
       "                                            hash_tel  \n",
       "0  bdba74b6cc3a08b85eb0b279bc38f0ed69d07841181b2f...  \n",
       "1  110100dabb6eac601603c12c788d16c9c6978f2a6ecb5f...  \n",
       "2  f9daf4c77347481bda6b052a9068f9e106bb5c1d11f8e9...  \n",
       "3  5c842619d83d519f01c7cd274c893133a61a8038a42645...  \n",
       "4  701bfdd4e2c3e78b91bf8c7847e19dce7f89d98761099f...  "
      ]
     },
     "execution_count": 13,
     "metadata": {},
     "output_type": "execute_result"
    }
   ],
   "source": [
    "orders.head()"
   ]
  },
  {
   "cell_type": "code",
   "execution_count": null,
   "metadata": {},
   "outputs": [],
   "source": []
  }
 ],
 "metadata": {
  "kernelspec": {
   "display_name": "Python 3",
   "language": "python",
   "name": "python3"
  },
  "language_info": {
   "codemirror_mode": {
    "name": "ipython",
    "version": 3
   },
   "file_extension": ".py",
   "mimetype": "text/x-python",
   "name": "python",
   "nbconvert_exporter": "python",
   "pygments_lexer": "ipython3",
   "version": "3.8.3"
  }
 },
 "nbformat": 4,
 "nbformat_minor": 4
}
