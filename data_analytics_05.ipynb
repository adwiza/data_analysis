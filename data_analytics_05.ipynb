{
 "cells": [
  {
   "cell_type": "code",
   "execution_count": 1,
   "metadata": {},
   "outputs": [],
   "source": [
    "import openpyxl"
   ]
  },
  {
   "cell_type": "code",
   "execution_count": 2,
   "metadata": {},
   "outputs": [],
   "source": [
    "workbook = 'data.xlsx'\n",
    "sheetName = 'data'"
   ]
  },
  {
   "cell_type": "code",
   "execution_count": 3,
   "metadata": {},
   "outputs": [],
   "source": [
    "sheet = openpyxl.load_workbook(workbook)[sheetName]"
   ]
  },
  {
   "cell_type": "code",
   "execution_count": 7,
   "metadata": {},
   "outputs": [
    {
     "name": "stdout",
     "output_type": "stream",
     "text": [
      "(<Cell 'data'.A1>, <Cell 'data'.B1>, <Cell 'data'.C1>, <Cell 'data'.D1>, <Cell 'data'.E1>, <Cell 'data'.F1>, <Cell 'data'.G1>, <Cell 'data'.H1>, <Cell 'data'.I1>)\n"
     ]
    }
   ],
   "source": [
    "for line in sheet['A1:I1']:\n",
    "    print(line)\n"
   ]
  },
  {
   "cell_type": "code",
   "execution_count": 12,
   "metadata": {},
   "outputs": [
    {
     "data": {
      "text/plain": [
       "'medium'"
      ]
     },
     "execution_count": 12,
     "metadata": {},
     "output_type": "execute_result"
    }
   ],
   "source": [
    "line[4].value\n"
   ]
  },
  {
   "cell_type": "code",
   "execution_count": 14,
   "metadata": {},
   "outputs": [
    {
     "name": "stdout",
     "output_type": "stream",
     "text": [
      "google seo 20.2\n",
      "yandex sem 15.6\n",
      "promo email 13.2\n",
      "yandex sem 9.8\n",
      "<class 'float'>\n"
     ]
    }
   ],
   "source": [
    "for line in sheet[ 'E2:I5' ]:\n",
    "    medium = line[0].value\n",
    "    source = line[1].value\n",
    "    amount_paid = line[4].value\n",
    "    print( source, medium, amount_paid )\n",
    "print(type(amount_paid))"
   ]
  },
  {
   "cell_type": "code",
   "execution_count": 15,
   "metadata": {},
   "outputs": [
    {
     "name": "stdout",
     "output_type": "stream",
     "text": [
      "5129.8\n"
     ]
    }
   ],
   "source": [
    "total_amount_paid = 0\n",
    "for line in sheet[ 'E2:I295' ]:  \n",
    "    amount_paid = line[4].value\n",
    "    total_amount_paid += amount_paid\n",
    "print(total_amount_paid)"
   ]
  },
  {
   "cell_type": "code",
   "execution_count": null,
   "metadata": {},
   "outputs": [],
   "source": []
  }
 ],
 "metadata": {
  "kernelspec": {
   "display_name": "Python 3",
   "language": "python",
   "name": "python3"
  },
  "language_info": {
   "codemirror_mode": {
    "name": "ipython",
    "version": 3
   },
   "file_extension": ".py",
   "mimetype": "text/x-python",
   "name": "python",
   "nbconvert_exporter": "python",
   "pygments_lexer": "ipython3",
   "version": "3.8.3"
  }
 },
 "nbformat": 4,
 "nbformat_minor": 4
}
