{
 "cells": [
  {
   "cell_type": "code",
   "execution_count": 1,
   "metadata": {},
   "outputs": [
    {
     "data": {
      "text/plain": [
       "2500"
      ]
     },
     "execution_count": 1,
     "metadata": {},
     "output_type": "execute_result"
    }
   ],
   "source": [
    "total_costs = {'google': 1319, 'yandex': 1818, 'promo': 1181}\n",
    "total_costs['google'] + total_costs['promo']"
   ]
  },
  {
   "cell_type": "code",
   "execution_count": 2,
   "metadata": {},
   "outputs": [
    {
     "ename": "KeyError",
     "evalue": "'brand'",
     "output_type": "error",
     "traceback": [
      "\u001b[1;31m---------------------------------------------------------------------------\u001b[0m",
      "\u001b[1;31mKeyError\u001b[0m                                  Traceback (most recent call last)",
      "\u001b[1;32m<ipython-input-2-df6aaff9adb4>\u001b[0m in \u001b[0;36m<module>\u001b[1;34m\u001b[0m\n\u001b[1;32m----> 1\u001b[1;33m \u001b[0mtotal_costs\u001b[0m\u001b[1;33m[\u001b[0m\u001b[1;34m'brand'\u001b[0m\u001b[1;33m]\u001b[0m\u001b[1;33m\u001b[0m\u001b[1;33m\u001b[0m\u001b[0m\n\u001b[0m",
      "\u001b[1;31mKeyError\u001b[0m: 'brand'"
     ]
    }
   ],
   "source": [
    "total_costs['brand']"
   ]
  },
  {
   "cell_type": "code",
   "execution_count": null,
   "metadata": {},
   "outputs": [],
   "source": [
    "source = 'google'\n",
    "if source in total_costs:\n",
    "    print(f\"Расходы на источник {source} составили {total_costs['google']} рублей\")\n",
    "else:\n",
    "    print(f\"Источник {source} не найден в итоговой статистике\")\n"
   ]
  },
  {
   "cell_type": "code",
   "execution_count": null,
   "metadata": {},
   "outputs": [],
   "source": [
    "for key in total_costs.keys():\n",
    "\n",
    "    print(key)"
   ]
  },
  {
   "cell_type": "code",
   "execution_count": null,
   "metadata": {},
   "outputs": [],
   "source": [
    "for value in total_costs.values():\n",
    "\n",
    "    print(value)"
   ]
  },
  {
   "cell_type": "code",
   "execution_count": null,
   "metadata": {},
   "outputs": [],
   "source": [
    "for key, value in total_costs.items():\n",
    "\n",
    "    print(key, value)"
   ]
  },
  {
   "cell_type": "code",
   "execution_count": null,
   "metadata": {},
   "outputs": [],
   "source": [
    "users_stats_dict = {}\n",
    "i = 0"
   ]
  },
  {
   "cell_type": "code",
   "execution_count": null,
   "metadata": {},
   "outputs": [],
   "source": [
    "with open('data_no_header.txt', 'r') as f:\n",
    "    for line in f:\n",
    "        line  = line.strip().split('\\t')\n",
    "        current_user_id = line[2]\n",
    "        if current_user_id in users_stats_dict:\n",
    "            users_stats_dict[current_user_id] += 1\n",
    "        else:\n",
    "            users_stats_dict[current_user_id] = 1\n",
    "\n",
    "#         print('Текущий ID: {}'.format(current_user_id))\n",
    "#         print(users_stats_dict)\n",
    "#         print( '' )\n",
    "        \n",
    "#         # если прошли более 5 шагов, то выходим из цикла - это для того, чтобы посмотреть, что у нас получается (команда break)\n",
    "#         i += 1\n",
    "#         if i > 5:\n",
    "#             break\n"
   ]
  },
  {
   "cell_type": "code",
   "execution_count": null,
   "metadata": {},
   "outputs": [],
   "source": [
    "print(users_stats_dict['1042'])"
   ]
  },
  {
   "cell_type": "code",
   "execution_count": null,
   "metadata": {},
   "outputs": [],
   "source": [
    "campaign_stats = {\n",
    "\n",
    "    'google': { 'cost': 1000, 'clicks': 500 },\n",
    "\n",
    "    'yandex': { 'cost': 1500, 'clicks': 900 }\n",
    "\n",
    "}"
   ]
  },
  {
   "cell_type": "code",
   "execution_count": null,
   "metadata": {},
   "outputs": [],
   "source": [
    "for campaign, stats in campaign_stats.items():\n",
    "    if campaign == 'yandex':\n",
    "        print('Кампания {}, цена клика {:.2f}'.format(campaign, stats['cost'] / stats['clicks']))"
   ]
  },
  {
   "cell_type": "code",
   "execution_count": null,
   "metadata": {},
   "outputs": [],
   "source": [
    "with open('data_no_header.txt', 'r') as f:\n",
    "    for line in f:\n",
    "        line = line.strip().split('\\t')\n",
    "        source = line[5]\n",
    "        medium = line[4]\n",
    "        if source == 'google' or source == 'yandex':\n",
    "            if medium == 'seo' or medium == 'sem':\n",
    "                sourceType = 'search engines seo'\n",
    "            elif medium == 'brand':\n",
    "                sourceType = 'search engines brand'\n",
    "            else:\n",
    "                # если вдруг встретится другой вариант, то ставим \"undefined\"\n",
    "                sourceType = 'search engines undefined'\n",
    "        else:\n",
    "            sourceType = 'other'\n",
    "\n",
    "        current_user_id = line[2]\n",
    "        \n",
    "        if current_user_id in users_stats_dict:\n",
    "            users_stats_dict[current_user_id] += 1\n",
    "        else:\n",
    "            users_stats_dict[current_user_id] = 1"
   ]
  },
  {
   "cell_type": "code",
   "execution_count": null,
   "metadata": {},
   "outputs": [],
   "source": [
    "def source_type_classification(source, medium):\n",
    "    \"\"\"\n",
    "    Функция классифицирует источник трафика в зависимости от значения source и medium.\n",
    "    Возвращает название типа источника по правилам:\n",
    "        - если source равен 'google' или 'yandex', то проверяем medium:\n",
    "            - для medium 'seo' или 'sem' возвращаем 'search engines seo'\n",
    "            - для medium 'brand' - возвращаем 'search engines brand'\n",
    "            - для остальных случаев возвращаем 'search engines undefined'\n",
    "        - если условие не выполнено, то возвращаем 'other'\n",
    "    \"\"\"\n",
    "    if source == 'google' or source == 'yandex':\n",
    "            if medium == 'seo' or medium == 'sem':\n",
    "                return 'search engines seo'\n",
    "            elif medium == 'brand':\n",
    "                return 'search engines brand'\n",
    "            else:\n",
    "                # если вдруг встретится другой вариант, то ставим \"undefined\"\n",
    "                return 'search engines undefined'\n",
    "    else:\n",
    "        return 'other'\n"
   ]
  },
  {
   "cell_type": "code",
   "execution_count": null,
   "metadata": {},
   "outputs": [],
   "source": [
    "source_type_classification('google', 'seo')"
   ]
  },
  {
   "cell_type": "code",
   "execution_count": null,
   "metadata": {},
   "outputs": [],
   "source": [
    "print(source_type_classification('yandex', 'seo')) # должны получить 'search engines seo'"
   ]
  },
  {
   "cell_type": "code",
   "execution_count": null,
   "metadata": {},
   "outputs": [],
   "source": [
    "print(source_type_classification('google', 'brand')) # должны получить 'search engines brand'"
   ]
  },
  {
   "cell_type": "code",
   "execution_count": null,
   "metadata": {},
   "outputs": [],
   "source": [
    "print(source_type_classification('google','123'))"
   ]
  },
  {
   "cell_type": "code",
   "execution_count": null,
   "metadata": {},
   "outputs": [],
   "source": [
    "with open('data_no_header.txt', 'r') as f:\n",
    "    for line in f:\n",
    "        line = line.strip().split('\\t')\n",
    "        source = line[5]\n",
    "        medium = line[4]\n",
    "        sourceType = source_type_classification(source, medium)\n",
    "        \n",
    "        current_user_id = line[2]\n",
    "        \n",
    "        if current_user_id in users_stats_dict:\n",
    "            users_stats_dict[current_user_id] += 1\n",
    "        else:\n",
    "            users_stats_dict[current_user_id] = 1"
   ]
  },
  {
   "cell_type": "code",
   "execution_count": null,
   "metadata": {},
   "outputs": [],
   "source": [
    "source_type_stats = {}\n",
    "with open( 'data_no_header.txt', 'r' ) as f:\n",
    "    for line in f:       \n",
    "        line = line.strip().split('\\t')\n",
    "        source = line[5]\n",
    "        medium = line[4]\n",
    "        sourceType = source_type_classification(source, medium)\n",
    "        if sourceType in source_type_stats:\n",
    "            source_type_stats[ sourceType ] += 1\n",
    "        else:\n",
    "            source_type_stats[ sourceType ] = 1"
   ]
  },
  {
   "cell_type": "code",
   "execution_count": null,
   "metadata": {},
   "outputs": [],
   "source": [
    "print(source_type_stats)"
   ]
  },
  {
   "cell_type": "code",
   "execution_count": 3,
   "metadata": {},
   "outputs": [],
   "source": [
    "def source_type_classification(line):\n",
    "    \"\"\"\n",
    "    Пример строки на входе функции:\n",
    "    ['40443', '05.10.2016 23:18', '1010', '0,000925926', 'seo', 'google', '0', '6243', '20,20']\n",
    "    Функция классифицирует источник трафика в зависимости от значения source и medium.\n",
    "    Возвращает название типа источника по правилам:\n",
    "        - если source равен 'google' или 'yandex', то проверяем medium:\n",
    "            - для medium 'seo' или 'sem' возвращаем 'search engines seo'\n",
    "            - для medium 'brand' - возвращаем 'search engines brand'\n",
    "            - для остальных случаев возвращаем 'search engines undefined'\n",
    "        - если условие не выполнено, то возвращаем 'other'\n",
    "    \"\"\"\n",
    "    source = line[5]\n",
    "    medium = line[4]\n",
    "    amount_paid = float(line[-1].replace(',', '.'))\n",
    "    if amount_paid >= 20:\n",
    "        orderType = 'expensive'\n",
    "    else:\n",
    "        orderType = 'cheap'\n",
    "\n",
    "    if source == 'google' or source == 'yandex':\n",
    "        if medium == 'seo' or medium == 'sem':\n",
    "            sourceType = 'search engines seo'\n",
    "        elif medium == 'brand':\n",
    "            sourceType = 'search engines brand'\n",
    "        else:\n",
    "            # если вдруг встретится другой вариант, то ставим \"undefined\"\n",
    "            sourceType = 'search engines undefined'\n",
    "    else:\n",
    "        return 'other'\n",
    "    return sourceType, orderType"
   ]
  },
  {
   "cell_type": "code",
   "execution_count": 4,
   "metadata": {},
   "outputs": [
    {
     "data": {
      "text/plain": [
       "('search engines seo', 'expensive')"
      ]
     },
     "execution_count": 4,
     "metadata": {},
     "output_type": "execute_result"
    }
   ],
   "source": [
    "source_type_classification(['40443', '05.10.2016 23:18', '1010', '0,000925926', 'seo', 'google', '0', '6243', '20,20'])"
   ]
  },
  {
   "cell_type": "code",
   "execution_count": 11,
   "metadata": {},
   "outputs": [],
   "source": [
    "source_type_stats = {}\n",
    "with open('data_no_header.txt', 'r') as f:\n",
    "    for line in f:\n",
    "        line = line.strip().split('\\t')\n",
    "        if source_type_classification(line) == 'other':\n",
    "            continue\n",
    "        else:\n",
    "            sourceType, orderType = source_type_classification(line)\n",
    "        source_order_type = sourceType + ' ' + orderType\n",
    "        if source_order_type in source_type_stats:\n",
    "            source_type_stats[ source_order_type ] += 1\n",
    "        else:\n",
    "            source_type_stats[ source_order_type ] = 1\n"
   ]
  },
  {
   "cell_type": "code",
   "execution_count": 12,
   "metadata": {},
   "outputs": [
    {
     "name": "stdout",
     "output_type": "stream",
     "text": [
      "{'search engines seo expensive': 47, 'search engines seo cheap': 121, 'search engines brand expensive': 4, 'search engines brand cheap': 9}\n"
     ]
    }
   ],
   "source": [
    "print(source_type_stats)"
   ]
  },
  {
   "cell_type": "code",
   "execution_count": null,
   "metadata": {},
   "outputs": [],
   "source": []
  }
 ],
 "metadata": {
  "kernelspec": {
   "display_name": "Python 3",
   "language": "python",
   "name": "python3"
  },
  "language_info": {
   "codemirror_mode": {
    "name": "ipython",
    "version": 3
   },
   "file_extension": ".py",
   "mimetype": "text/x-python",
   "name": "python",
   "nbconvert_exporter": "python",
   "pygments_lexer": "ipython3",
   "version": "3.8.3"
  }
 },
 "nbformat": 4,
 "nbformat_minor": 4
}
