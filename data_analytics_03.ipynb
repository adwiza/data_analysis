{
 "cells": [
  {
   "cell_type": "code",
   "execution_count": 10,
   "metadata": {},
   "outputs": [],
   "source": [
    "user_ids = []\n",
    "with open('user_ids.txt', 'r') as f:\n",
    "    for line in f:\n",
    "        userid = line.strip()\n",
    "        user_ids.append(userid)"
   ]
  },
  {
   "cell_type": "code",
   "execution_count": 13,
   "metadata": {},
   "outputs": [
    {
     "data": {
      "text/plain": [
       "['1010', '1036', '1041', '1041', '1042']"
      ]
     },
     "execution_count": 13,
     "metadata": {},
     "output_type": "execute_result"
    }
   ],
   "source": [
    "user_ids[:5]"
   ]
  },
  {
   "cell_type": "code",
   "execution_count": 14,
   "metadata": {},
   "outputs": [],
   "source": [
    "list_of_zeros_and_ones = [0, 1, 0, 1, 0, 1]"
   ]
  },
  {
   "cell_type": "code",
   "execution_count": 15,
   "metadata": {},
   "outputs": [],
   "source": [
    "unique_ids = set(user_ids)"
   ]
  },
  {
   "cell_type": "code",
   "execution_count": 20,
   "metadata": {},
   "outputs": [
    {
     "name": "stdout",
     "output_type": "stream",
     "text": [
      "Уникальных элементов в списке \n",
      " {'1236', '1296', '1323', '1353', '1135', '1128', '1181', '1330', '1366', '1111', '1219', '1100', '1134', '1057', '1052', '1209', '1047', '1230', '1149', '1377', '1114', '1397', '1293', '1213', '1118', '1388', '1140', '1218', '1201', '1334', '1320', '1315', '1291', '1123', '1246', '1354', '1062', '1383', '1294', '1108', '1374', '1364', '1281', '1154', '1243', '1096', '1380', '1145', '1141', '1331', '1098', '1371', '1223', '1268', '1298', '1233', '1328', '1167', '1203', '1343', '1387', '1300', '1112', '1175', '1258', '1355', '1372', '1164', '1041', '1350', '1393', '1010', '1113', '1198', '1105', '1248', '1269', '1382', '1283', '1351', '1392', '1333', '1150', '1228', '1224', '1308', '1067', '1359', '1313', '1267', '1270', '1159', '1288', '1116', '1278', '1274', '1302', '1042', '1424', '1252', '1136', '1238', '1263', '1273', '1078', '1036', '1394', '1303', '1208', '1242', '1182', '1363', '1367', '1279', '1253', '1207', '1085', '1398', '1332', '1362', '1193', '1386', '1318', '1226'}\n",
      "Уникальных ID в файле 124\n"
     ]
    }
   ],
   "source": [
    "print(f'Уникальных элементов в списке \\n {unique_ids}')\n",
    "print( 'Уникальных ID в файле {}'.format(len(unique_ids)))"
   ]
  },
  {
   "cell_type": "code",
   "execution_count": null,
   "metadata": {},
   "outputs": [],
   "source": []
  }
 ],
 "metadata": {
  "kernelspec": {
   "display_name": "Python 3",
   "language": "python",
   "name": "python3"
  },
  "language_info": {
   "codemirror_mode": {
    "name": "ipython",
    "version": 3
   },
   "file_extension": ".py",
   "mimetype": "text/x-python",
   "name": "python",
   "nbconvert_exporter": "python",
   "pygments_lexer": "ipython3",
   "version": "3.8.3"
  }
 },
 "nbformat": 4,
 "nbformat_minor": 4
}
