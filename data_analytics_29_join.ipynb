{
 "cells": [
  {
   "cell_type": "code",
   "execution_count": 2,
   "metadata": {},
   "outputs": [],
   "source": [
    "orders_dict = {}\n",
    "with open('orders_by_source.txt', 'r') as f:\n",
    "    for line in f:\n",
    "        line = line.strip().split('\\t')\n",
    "        orders_dict.update({line[0]: int(line[1])})"
   ]
  },
  {
   "cell_type": "code",
   "execution_count": 38,
   "metadata": {},
   "outputs": [],
   "source": [
    "def search_for_line(source, orders_dict):\n",
    "    \"\"\"\n",
    "    Функция по названию источника source ищет соответствующую строку в файле orders_by_source.txt.\n",
    "    Возвращает количество покупок, соответствующее источнику source. Если источник не найден, то возвращает 0    \n",
    "    Пример\n",
    "    searchForLine('burgerclub')\n",
    "    10    \n",
    "    searchForLine('source_123')\n",
    "    0\n",
    "    \"\"\"\n",
    "    if source in orders_dict:\n",
    "        return int(orders_dict[source])\n",
    "    else:\n",
    "        return 0"
   ]
  },
  {
   "cell_type": "code",
   "execution_count": 39,
   "metadata": {},
   "outputs": [],
   "source": [
    "source = 'burgerclub'"
   ]
  },
  {
   "cell_type": "code",
   "execution_count": 40,
   "metadata": {},
   "outputs": [
    {
     "data": {
      "text/plain": [
       "10"
      ]
     },
     "execution_count": 40,
     "metadata": {},
     "output_type": "execute_result"
    }
   ],
   "source": [
    "search_for_line(source, orders_dict)"
   ]
  },
  {
   "cell_type": "code",
   "execution_count": 41,
   "metadata": {},
   "outputs": [
    {
     "data": {
      "text/plain": [
       "68"
      ]
     },
     "execution_count": 41,
     "metadata": {},
     "output_type": "execute_result"
    }
   ],
   "source": [
    "orders_dict['promo']"
   ]
  },
  {
   "cell_type": "code",
   "execution_count": 42,
   "metadata": {},
   "outputs": [
    {
     "data": {
      "text/plain": [
       "0"
      ]
     },
     "execution_count": 42,
     "metadata": {},
     "output_type": "execute_result"
    }
   ],
   "source": [
    "search_for_line('source_123', orders_dict)"
   ]
  },
  {
   "cell_type": "code",
   "execution_count": 43,
   "metadata": {},
   "outputs": [
    {
     "data": {
      "text/plain": [
       "10"
      ]
     },
     "execution_count": 43,
     "metadata": {},
     "output_type": "execute_result"
    }
   ],
   "source": [
    "search_for_line('burgerclub', orders_dict)"
   ]
  },
  {
   "cell_type": "code",
   "execution_count": 66,
   "metadata": {},
   "outputs": [],
   "source": [
    "# Создаем новый файл joined\n",
    "with open('joined_by_source.txt', 'w') as f_joined:\n",
    "    with open('visits_by_source.txt', 'r') as f:\n",
    "        for line in f:\n",
    "            line = line.strip().split('\\t')\n",
    "            source = line[0]\n",
    "            visits = int(line[1])\n",
    "            orders = search_for_line(source, orders_dict)\n",
    "            f_joined.write(f'{source}\\t{visits}\\t{orders}\\t{round((orders / visits), 3)}\\n')"
   ]
  },
  {
   "cell_type": "code",
   "execution_count": 68,
   "metadata": {},
   "outputs": [],
   "source": [
    "# Добавляем заголовки столбцов в файл\n",
    "new_line = 'source, quantity, sum, conversion\\n'\n",
    "\n",
    "with open('joined_by_source.txt', 'r') as f:\n",
    "    for line in f:\n",
    "        line = line.strip().split('\\t')\n",
    "        new_line += ','.join(line)+ '\\n'\n",
    "        \n",
    "with open('new_joined_by_source.csv', 'w') as f_orders:\n",
    "    f_orders.write(new_line)"
   ]
  },
  {
   "cell_type": "code",
   "execution_count": null,
   "metadata": {},
   "outputs": [],
   "source": []
  }
 ],
 "metadata": {
  "kernelspec": {
   "display_name": "Python 3",
   "language": "python",
   "name": "python3"
  },
  "language_info": {
   "codemirror_mode": {
    "name": "ipython",
    "version": 3
   },
   "file_extension": ".py",
   "mimetype": "text/x-python",
   "name": "python",
   "nbconvert_exporter": "python",
   "pygments_lexer": "ipython3",
   "version": "3.8.5"
  }
 },
 "nbformat": 4,
 "nbformat_minor": 4
}
