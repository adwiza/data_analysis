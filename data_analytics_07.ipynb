{
 "cells": [
  {
   "cell_type": "code",
   "execution_count": 6,
   "metadata": {},
   "outputs": [],
   "source": [
    "cpa_commission = {\n",
    "\n",
    "    'burgerclub': 0.3,\n",
    "\n",
    "    'food-delivery': 0.25\n",
    "\n",
    "}\n",
    "\n",
    "cpc_commission = {\n",
    "\n",
    "    'city-magazine': 7,\n",
    "\n",
    "    'foody': 9\n",
    "\n",
    "}\n",
    "\n",
    "fixed_commission = 4"
   ]
  },
  {
   "cell_type": "code",
   "execution_count": 4,
   "metadata": {},
   "outputs": [],
   "source": [
    "def costs_classification( amount_paid, source ):\n",
    "\n",
    "    \"\"\"\n",
    "\n",
    "    Функция по названию канала source возвращает размер комиссии.\n",
    "\n",
    "    Размеры комиссий берутся из словарей cpa_commission, cpc_commission и значения fixed_commission\n",
    "\n",
    "    \"\"\"\n",
    "\n",
    "    # если источник source входит в словарь cpa_commission, то возвращаем долю от выручки\n",
    "\n",
    "    if source in cpa_commission:\n",
    "\n",
    "        return amount_paid * cpa_commission[source]\n",
    "\n",
    "    # в случае партнеров CPC стоимость расходов постоянная\n",
    "\n",
    "    if source in cpc_commission:\n",
    "\n",
    "        return cpc_commission[source]\n",
    "\n",
    "    # если ни один случай не подходит, то возвращаем фиксированную стоимость fixed_commission\n",
    "\n",
    "    return fixed_commission"
   ]
  },
  {
   "cell_type": "code",
   "execution_count": 26,
   "metadata": {},
   "outputs": [
    {
     "data": {
      "text/plain": [
       "3.0"
      ]
     },
     "execution_count": 26,
     "metadata": {},
     "output_type": "execute_result"
    }
   ],
   "source": [
    "costs_classification(10, 'burgerclub')"
   ]
  },
  {
   "cell_type": "code",
   "execution_count": 27,
   "metadata": {},
   "outputs": [
    {
     "data": {
      "text/plain": [
       "9"
      ]
     },
     "execution_count": 27,
     "metadata": {},
     "output_type": "execute_result"
    }
   ],
   "source": [
    "costs_classification( 10, 'foody' )"
   ]
  },
  {
   "cell_type": "code",
   "execution_count": 28,
   "metadata": {},
   "outputs": [],
   "source": [
    "line = ['40443', '05.10.2016 23:18', '1010', '0,000925926', 'seo', 'google', '0', '6243', '20,20']"
   ]
  },
  {
   "cell_type": "code",
   "execution_count": 2,
   "metadata": {},
   "outputs": [],
   "source": [
    "def expense_and_income(line):\n",
    "    \"\"\"\n",
    "    Функция для строки line возвращает итоговый расход и доход\n",
    "    \"\"\"\n",
    "    source = line[5]\n",
    "    amount_paid = float( line[-1].replace(',', '.' ))\n",
    "    cost = float(line[6].replace(',', '.' ))\n",
    "    partner_comission = costs_classification(amount_paid, source)\n",
    "    return source, cost + partner_comission, amount_paid\n"
   ]
  },
  {
   "cell_type": "code",
   "execution_count": 32,
   "metadata": {},
   "outputs": [
    {
     "data": {
      "text/plain": [
       "('google', 4.0, 20.2)"
      ]
     },
     "execution_count": 32,
     "metadata": {},
     "output_type": "execute_result"
    }
   ],
   "source": [
    "expense_and_income(line)"
   ]
  },
  {
   "cell_type": "code",
   "execution_count": 33,
   "metadata": {},
   "outputs": [
    {
     "data": {
      "text/plain": [
       "('burgerclub', 7.06, 20.2)"
      ]
     },
     "execution_count": 33,
     "metadata": {},
     "output_type": "execute_result"
    }
   ],
   "source": [
    "expense_and_income( ['40443', '05.10.2016 23:18', '1010', '0,000925926', 'seo', 'burgerclub', '1', '6243', '20,20'] )"
   ]
  },
  {
   "cell_type": "code",
   "execution_count": 8,
   "metadata": {},
   "outputs": [],
   "source": [
    "roi_stats = {}"
   ]
  },
  {
   "cell_type": "code",
   "execution_count": 9,
   "metadata": {},
   "outputs": [],
   "source": [
    "with open('data_no_header.txt', 'r') as f:\n",
    "    for line in f:\n",
    "        line = line.strip().split('\\t')\n",
    "        source, cost, income = expense_and_income(line)\n",
    "        if source in roi_stats:\n",
    "            roi_stats[source]['cost'] += cost\n",
    "            roi_stats[source]['income'] += income\n",
    "        else:\n",
    "            roi_stats[source] = {}\n",
    "            roi_stats[source]['cost'] = cost\n",
    "            roi_stats[source]['income'] = income\n",
    "\n"
   ]
  },
  {
   "cell_type": "code",
   "execution_count": 10,
   "metadata": {},
   "outputs": [],
   "source": [
    "for source, data in roi_stats.items():\n",
    "\n",
    "    data['roi'] = (data['income'] - data['cost']) / data['cost']"
   ]
  },
  {
   "cell_type": "code",
   "execution_count": 11,
   "metadata": {},
   "outputs": [
    {
     "name": "stdout",
     "output_type": "stream",
     "text": [
      "google\t3.19\n",
      "yandex\t3.29\n",
      "promo\t3.34\n",
      "burgerclub\t1.64\n",
      "food-delivery\t1.56\n",
      "city-magazine\t1.26\n",
      "foody\t1.42\n",
      "newsletter\t3.91\n",
      "facebook\t3.53\n",
      "direct\t3.42\n",
      "vk\t2.62\n"
     ]
    }
   ],
   "source": [
    "for source, data in roi_stats.items():\n",
    "\n",
    "    print('{}\\t{:.2f}'.format(source, data['roi']))"
   ]
  },
  {
   "cell_type": "code",
   "execution_count": 15,
   "metadata": {},
   "outputs": [],
   "source": [
    "with open('data_no_header.txt', 'r') as f:\n",
    "    for line in f:\n",
    "        line = line.strip().split('\\t')\n",
    "        source, cost, income = expense_and_income(line)\n",
    "        medium = line[4]\n",
    "        if source == 'google' or source == 'yandex':\n",
    "            if medium == 'seo' or medium == 'sem':\n",
    "                source = 'search engines seo'\n",
    "                if source in roi_stats:\n",
    "                    roi_stats[source]['cost'] += cost\n",
    "                    roi_stats[source]['income'] += income\n",
    "                else:\n",
    "                    roi_stats[source] = {}\n",
    "                    roi_stats[source]['cost'] = cost\n",
    "                    roi_stats[source]['income'] = income\n",
    "\n",
    "            elif medium == 'brand':\n",
    "                source = 'search engines brand'\n",
    "                if source in roi_stats:\n",
    "                    roi_stats[source]['cost'] += cost\n",
    "                    roi_stats[source]['income'] += income\n",
    "                else:\n",
    "                    roi_stats[source] = {}\n",
    "                    roi_stats[source]['cost'] = cost\n",
    "                    roi_stats[source]['income'] = income\n",
    "\n",
    "            else:\n",
    "                source = 'search engines undefined'\n",
    "                if source in roi_stats:\n",
    "                    roi_stats[source]['cost'] += cost\n",
    "                    roi_stats[source]['income'] += income\n",
    "                else:\n",
    "                    roi_stats[source] = {}\n",
    "                    roi_stats[source]['cost'] = cost\n",
    "                    roi_stats[source]['income'] = income\n",
    "\n",
    "        else:\n",
    "            source = 'other'\n",
    "            if source in roi_stats:\n",
    "                    roi_stats[source]['cost'] += cost\n",
    "                    roi_stats[source]['income'] += income\n",
    "            else:\n",
    "                    roi_stats[source] = {}\n",
    "                    roi_stats[source]['cost'] = cost\n",
    "                    roi_stats[source]['income'] = income\n",
    "\n",
    "        \n"
   ]
  },
  {
   "cell_type": "code",
   "execution_count": 22,
   "metadata": {},
   "outputs": [
    {
     "name": "stdout",
     "output_type": "stream",
     "text": [
      "{'cost': 1372.5399999999984, 'income': 5804.800000000001}\n",
      "{'cost': 52.0, 'income': 234.60000000000005}\n",
      "{'cost': 541.1059999999999, 'income': 1992.7999999999997}\n"
     ]
    }
   ],
   "source": [
    "print(roi_stats['search engines seo'])\n",
    "print(roi_stats['search engines brand'])\n",
    "print(roi_stats['other'])"
   ]
  },
  {
   "cell_type": "code",
   "execution_count": null,
   "metadata": {},
   "outputs": [],
   "source": []
  }
 ],
 "metadata": {
  "kernelspec": {
   "display_name": "Python 3",
   "language": "python",
   "name": "python3"
  },
  "language_info": {
   "codemirror_mode": {
    "name": "ipython",
    "version": 3
   },
   "file_extension": ".py",
   "mimetype": "text/x-python",
   "name": "python",
   "nbconvert_exporter": "python",
   "pygments_lexer": "ipython3",
   "version": "3.8.3"
  }
 },
 "nbformat": 4,
 "nbformat_minor": 4
}
