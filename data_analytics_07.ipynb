{
 "cells": [
  {
   "cell_type": "code",
   "execution_count": 1,
   "metadata": {},
   "outputs": [],
   "source": [
    "cpa_commission = {\n",
    "\n",
    "    'burgerclub': 0.3,\n",
    "\n",
    "    'food-delivery': 0.25\n",
    "\n",
    "}\n",
    "\n",
    "cpc_commission = {\n",
    "\n",
    "    'city-magazine': 7,\n",
    "\n",
    "    'foody': 9\n",
    "\n",
    "}"
   ]
  },
  {
   "cell_type": "code",
   "execution_count": 2,
   "metadata": {},
   "outputs": [],
   "source": [
    "def costs_classification( amount_paid, source ):\n",
    "\n",
    "    \"\"\"\n",
    "\n",
    "    Функция по названию канала source возвращает размер комиссии.\n",
    "\n",
    "    Размеры комиссий берутся из словарей cpa_commission, cpc_commission и значения fixed_commission\n",
    "\n",
    "    \"\"\"\n",
    "\n",
    "    # если источник source входит в словарь cpa_commission, то возвращаем долю от выручки\n",
    "\n",
    "    if source in cpa_commission:\n",
    "\n",
    "        return amount_paid * cpa_commission[source]\n",
    "\n",
    "    # в случае партнеров CPC стоимость расходов постоянная\n",
    "\n",
    "    if source in cpc_commission:\n",
    "\n",
    "        return cpc_commission[source]\n",
    "\n",
    "    # если ни один случай не подходит, то возвращаем фиксированную стоимость fixed_commission\n",
    "\n",
    "    return fixed_commission"
   ]
  },
  {
   "cell_type": "code",
   "execution_count": 3,
   "metadata": {},
   "outputs": [
    {
     "data": {
      "text/plain": [
       "3.0"
      ]
     },
     "execution_count": 3,
     "metadata": {},
     "output_type": "execute_result"
    }
   ],
   "source": [
    "costs_classification(10, 'burgerclub')"
   ]
  },
  {
   "cell_type": "code",
   "execution_count": null,
   "metadata": {},
   "outputs": [],
   "source": []
  }
 ],
 "metadata": {
  "kernelspec": {
   "display_name": "Python 3",
   "language": "python",
   "name": "python3"
  },
  "language_info": {
   "codemirror_mode": {
    "name": "ipython",
    "version": 3
   },
   "file_extension": ".py",
   "mimetype": "text/x-python",
   "name": "python",
   "nbconvert_exporter": "python",
   "pygments_lexer": "ipython3",
   "version": "3.8.3"
  }
 },
 "nbformat": 4,
 "nbformat_minor": 4
}
