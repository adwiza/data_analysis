{
 "cells": [
  {
   "cell_type": "code",
   "execution_count": 4,
   "metadata": {},
   "outputs": [],
   "source": [
    "orders_dict = {'google' : {'seo': 50, 'sem': 100}, 'news_letter': {'email': 5}}"
   ]
  },
  {
   "cell_type": "code",
   "execution_count": 6,
   "metadata": {},
   "outputs": [
    {
     "data": {
      "text/plain": [
       "{'seo': 50, 'sem': 100}"
      ]
     },
     "execution_count": 6,
     "metadata": {},
     "output_type": "execute_result"
    }
   ],
   "source": [
    "orders_dict['google']"
   ]
  },
  {
   "cell_type": "code",
   "execution_count": 14,
   "metadata": {},
   "outputs": [
    {
     "name": "stdout",
     "output_type": "stream",
     "text": [
      "{'google': 1}\n"
     ]
    }
   ],
   "source": [
    "new_dict = {}\n",
    "new_dict.setdefault('google', 0)\n",
    "new_dict['google'] += 1\n",
    "print(new_dict)"
   ]
  },
  {
   "cell_type": "code",
   "execution_count": null,
   "metadata": {},
   "outputs": [],
   "source": [
    "with open('orders_by_source_and_medium.txt', 'r') as f:\n",
    "    for line in f:\n",
    "        line = line.strip().split('\\t')       \n",
    "        source = line[0]\n",
    "        medium = line[1]\n",
    "        orders_count = int( line[2] )      \n",
    "        orders_dict.setdefault(source, {})\n",
    "        orders_dict[source].setdefault(medium, 0)      \n",
    "        orders_dict[source][medium] = orders_count"
   ]
  },
  {
   "cell_type": "code",
   "execution_count": 16,
   "metadata": {},
   "outputs": [],
   "source": [
    "with open('orders_by_source_and_medium.txt', 'r') as f:\n",
    "    for line in f:\n",
    "        line = line.strip().split('\\t')\n",
    "        source = line[0]\n",
    "        medium = line[1]\n",
    "        orders_count = int(line[2])\n",
    "        orders_dict.setdefault(source, {})\n",
    "        orders_dict[source].setdefault(medium, {})\n",
    "        orders_dict[source][medium] = orders_count"
   ]
  },
  {
   "cell_type": "code",
   "execution_count": 17,
   "metadata": {},
   "outputs": [
    {
     "data": {
      "text/plain": [
       "{'google': {'seo': 15, 'sem': 56, 'brand': 6},\n",
       " 'news_letter': {'email': 5},\n",
       " 'burgerclub': {'cpa-partners': 10},\n",
       " 'city-magazine': {'cpc-partners': 5},\n",
       " 'direct': {'brand': 5},\n",
       " 'facebook': {'smm': 5},\n",
       " 'food-delivery': {'cpa-partners': 10},\n",
       " 'foody': {'cpc-partners': 3},\n",
       " 'newsletter': {'email': 5},\n",
       " 'promo': {'email': 68},\n",
       " 'vk': {'smm': 2},\n",
       " 'yandex': {'brand': 7, 'sem': 67, 'seo': 30}}"
      ]
     },
     "execution_count": 17,
     "metadata": {},
     "output_type": "execute_result"
    }
   ],
   "source": [
    "orders_dict"
   ]
  },
  {
   "cell_type": "code",
   "execution_count": 18,
   "metadata": {},
   "outputs": [
    {
     "data": {
      "text/plain": [
       "{'seo': 15, 'sem': 56, 'brand': 6}"
      ]
     },
     "execution_count": 18,
     "metadata": {},
     "output_type": "execute_result"
    }
   ],
   "source": [
    "orders_dict['google']"
   ]
  },
  {
   "cell_type": "code",
   "execution_count": 41,
   "metadata": {},
   "outputs": [],
   "source": [
    "def search_for_line(source, medium, orders_dict):\n",
    "    \"\"\"\n",
    "    Функция по названию источника source ищет соответствующую строку в файле orders_by_source.txt.\n",
    "    Возвращает количество покупок, соответствующее источнику source. Если источник не найден, то возвращает 0    \n",
    "    Пример\n",
    "    searchForLine('burgerclub')\n",
    "    10    \n",
    "    searchForLine('source_123')\n",
    "    0\n",
    "    \"\"\"\n",
    "    if source in orders_dict:\n",
    "        if medium in orders_dict[source]:\n",
    "            return int(orders_dict[source][medium])\n",
    "        else:\n",
    "            return 0                         \n",
    "    else:\n",
    "        return 0"
   ]
  },
  {
   "cell_type": "code",
   "execution_count": 42,
   "metadata": {},
   "outputs": [
    {
     "data": {
      "text/plain": [
       "15"
      ]
     },
     "execution_count": 42,
     "metadata": {},
     "output_type": "execute_result"
    }
   ],
   "source": [
    "\n",
    "search_for_line('google', 'seo', orders_dict)\n"
   ]
  },
  {
   "cell_type": "code",
   "execution_count": 43,
   "metadata": {},
   "outputs": [
    {
     "data": {
      "text/plain": [
       "0"
      ]
     },
     "execution_count": 43,
     "metadata": {},
     "output_type": "execute_result"
    }
   ],
   "source": [
    "search_for_line('google_123', 'seo', orders_dict)"
   ]
  },
  {
   "cell_type": "code",
   "execution_count": 44,
   "metadata": {},
   "outputs": [
    {
     "data": {
      "text/plain": [
       "0"
      ]
     },
     "execution_count": 44,
     "metadata": {},
     "output_type": "execute_result"
    }
   ],
   "source": [
    "search_for_line('google', 'seo_123', orders_dict)"
   ]
  },
  {
   "cell_type": "code",
   "execution_count": 45,
   "metadata": {},
   "outputs": [
    {
     "data": {
      "text/plain": [
       "56"
      ]
     },
     "execution_count": 45,
     "metadata": {},
     "output_type": "execute_result"
    }
   ],
   "source": [
    "search_for_line('google', 'sem', orders_dict)"
   ]
  }
 ],
 "metadata": {
  "kernelspec": {
   "display_name": "Python 3",
   "language": "python",
   "name": "python3"
  },
  "language_info": {
   "codemirror_mode": {
    "name": "ipython",
    "version": 3
   },
   "file_extension": ".py",
   "mimetype": "text/x-python",
   "name": "python",
   "nbconvert_exporter": "python",
   "pygments_lexer": "ipython3",
   "version": "3.8.5"
  }
 },
 "nbformat": 4,
 "nbformat_minor": 4
}
