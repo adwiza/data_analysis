{
 "cells": [
  {
   "cell_type": "code",
   "execution_count": 2,
   "metadata": {},
   "outputs": [],
   "source": [
    "import time\n",
    "import requests"
   ]
  },
  {
   "cell_type": "code",
   "execution_count": 11,
   "metadata": {},
   "outputs": [],
   "source": [
    "def knocking_on_service_api(url):\n",
    "    \"\"\"Достучаться до сервиса. Возвращает ответ после 5 обращений к API c \n",
    "    экспотенциальной задержкой.\n",
    "    В случае неудачи возвращает 0. При успешном получении данных возвращает код ответа.\"\"\"\n",
    "    \n",
    "    for n in range(0, 5):\n",
    "        try:\n",
    "            r = requests.get(url, timeout=5)\n",
    "            return r.status_code\n",
    "        except requests.ConnectionError:\n",
    "            if 2 ** n == 16:\n",
    "                return 0\n",
    "            else:\n",
    "                print(f'Похоже, сервис недоступен, жду {2 ** n} секунд(ы)')\n",
    "                time.sleep(2 ** n)\n",
    "    return 0"
   ]
  },
  {
   "cell_type": "code",
   "execution_count": 12,
   "metadata": {},
   "outputs": [
    {
     "name": "stdout",
     "output_type": "stream",
     "text": [
      "Похоже, сервис недоступен, жду 1 секунд(ы)\n",
      "Похоже, сервис недоступен, жду 2 секунд(ы)\n",
      "Похоже, сервис недоступен, жду 4 секунд(ы)\n",
      "Похоже, сервис недоступен, жду 8 секунд(ы)\n",
      "Wall time: 40 s\n"
     ]
    },
    {
     "data": {
      "text/plain": [
       "0"
      ]
     },
     "execution_count": 12,
     "metadata": {},
     "output_type": "execute_result"
    }
   ],
   "source": [
    "%%time\n",
    "knocking_on_service_api('https://ya.ru:81')"
   ]
  },
  {
   "cell_type": "code",
   "execution_count": null,
   "metadata": {},
   "outputs": [],
   "source": []
  }
 ],
 "metadata": {
  "kernelspec": {
   "display_name": "Python 3",
   "language": "python",
   "name": "python3"
  },
  "language_info": {
   "codemirror_mode": {
    "name": "ipython",
    "version": 3
   },
   "file_extension": ".py",
   "mimetype": "text/x-python",
   "name": "python",
   "nbconvert_exporter": "python",
   "pygments_lexer": "ipython3",
   "version": "3.8.5"
  }
 },
 "nbformat": 4,
 "nbformat_minor": 4
}
