{
  "nbformat": 4,
  "nbformat_minor": 0,
  "metadata": {
    "colab": {
      "name": "Университет искусственного интеллекта. Домашнее задание №1",
      "provenance": [],
      "collapsed_sections": []
    },
    "kernelspec": {
      "name": "python3",
      "display_name": "Python 3"
    }
  },
  "cells": [
    {
      "cell_type": "markdown",
      "metadata": {
        "id": "UfmBTgfeXsw8"
      },
      "source": [
        "### Задание №1"
      ]
    },
    {
      "cell_type": "markdown",
      "metadata": {
        "id": "DQKi5R2iYphJ"
      },
      "source": [
        "1. Попросите пользователя ввести его имя и сохраните введенные данные в переменной name (используйте функцию input())\n",
        "\n",
        "2. Попросите пользователя ввести его фамилию и сохраните введенные данные в переменной surname (используйте функцию input())\n",
        "\n",
        "3. Попросите пользователя ввести его возраст и сохраните введенные данные в переменной age (используйте функцию input())\n",
        "\n",
        "4. Выведите на экран следующую строку: \"Новый пользователь: Иванов Иван Возраст: 32\" (используйте функцию print() для вывода информации)\n",
        "\n",
        "Вместо Иванов Иван и 32 должна быть информация, введенная пользователем.\n"
      ]
    },
    {
      "cell_type": "code",
      "metadata": {
        "id": "gCnBiBvGSgkz",
        "colab": {
          "base_uri": "https://localhost:8080/"
        },
        "outputId": "c21c0bf5-3cd7-4047-d420-1db6ddd159d8"
      },
      "source": [
        "# Ваше рещение\n",
        "name = input('Введите имя: ')"
      ],
      "execution_count": 3,
      "outputs": [
        {
          "output_type": "stream",
          "text": [
            "Введите имя: Алексей\n"
          ],
          "name": "stdout"
        }
      ]
    },
    {
      "cell_type": "markdown",
      "metadata": {
        "id": "4jHn1JeOVdws"
      },
      "source": [
        "### Задание №2"
      ]
    },
    {
      "cell_type": "markdown",
      "metadata": {
        "id": "w6EE03IAZsCz"
      },
      "source": [
        "1. Создайте список, состоящий из последовательности календарных месяцев (Январь, Февраль, Март и т.д.)\n",
        "\n",
        "2. Попросите пользователя ввести число от 1 до 12 и сохраните введенные данные в переменной с именем value  (используйте функцию input(), а также функцию преобразования типа данных к целому числу int())\n",
        "\n",
        "3. Выведите на экран сообщение: \"Месяц с порядковым номером 3 - Март\" (Здесь вместо цифры 3 должна быть цифра, введенная пользователем, а вместо Март - соответствующий месяц)"
      ]
    },
    {
      "cell_type": "code",
      "metadata": {
        "id": "Z6KAOGExZk20",
        "colab": {
          "base_uri": "https://localhost:8080/"
        },
        "outputId": "51b68dfc-52b3-4130-f6b4-55b7cf9e8179"
      },
      "source": [
        "# Ваше решение\n",
        "month = ['Январь', 'Февраль', 'Март', 'Апрель', 'Май', 'Июнь', 'Июль', 'Август', 'Сентябрь', 'Октябрь', 'Ноябрь', 'Декабрь']\n",
        "value = (int(input('Введите чисмло от 1 до 12: ')))\n",
        "print(f'Месяц с порядковым номером {value} - {month[value-1]}')"
      ],
      "execution_count": 15,
      "outputs": [
        {
          "output_type": "stream",
          "text": [
            "Введите чисмло от 1 до 12: 12\n",
            "Месяц с порядковым номером 12 - Декабрь\n"
          ],
          "name": "stdout"
        }
      ]
    },
    {
      "cell_type": "markdown",
      "metadata": {
        "id": "AR_Ifp7kdzVM"
      },
      "source": [
        "### Задание 3"
      ]
    },
    {
      "cell_type": "markdown",
      "metadata": {
        "id": "0WM_bnb_gQ1l"
      },
      "source": [
        "1. Создайте список, который содержит следующие значения: [1, 5, 23, 63, 2, 108, 54, 7, 6, 1, 56].\n",
        "\n",
        "2. Напишите программу, которая с помощью цикла for найдет и выведет на экран все значения меньше 54 (используйте конструкцию цикла for in, а также функцию print() для вывода информации на экран)"
      ]
    },
    {
      "cell_type": "code",
      "metadata": {
        "id": "ydDXuW2za-sO",
        "colab": {
          "base_uri": "https://localhost:8080/"
        },
        "outputId": "d609b5d1-40f3-4541-9881-d698870c44a3"
      },
      "source": [
        "# Ваше решение\n",
        "my_list = [1, 5, 23, 63, 2, 108, 54, 7, 6, 1, 56]\n",
        "for digit in my_list:\n",
        "  if digit < 54:\n",
        "    print(digit)\n",
        "    "
      ],
      "execution_count": 16,
      "outputs": [
        {
          "output_type": "stream",
          "text": [
            "1\n",
            "5\n",
            "23\n",
            "2\n",
            "7\n",
            "6\n",
            "1\n"
          ],
          "name": "stdout"
        }
      ]
    },
    {
      "cell_type": "markdown",
      "metadata": {
        "id": "fta7u-v0hUp8"
      },
      "source": [
        "### Задание 4"
      ]
    },
    {
      "cell_type": "markdown",
      "metadata": {
        "id": "ec-SpIV8hXsa"
      },
      "source": [
        "1. Используя список, который вы получили на предыдущем шаге, сформируйте из него numpy-массив (воспользуйтесь способом создания numpy-массивов из списка)\n",
        "\n",
        "2. Выведите на экран произведение первого и последнего элементов массива (воспользуйтесь индексацией элементов списка)\n",
        "\n",
        "3. Выведите на экран сумму максимального и минимального элементов списка (используйте функции .min() и .max() для поиска соответствующих значений)"
      ]
    },
    {
      "cell_type": "code",
      "metadata": {
        "id": "vrvTcsQGhUAg",
        "colab": {
          "base_uri": "https://localhost:8080/"
        },
        "outputId": "4fa0164e-ced4-4eb8-d628-aaccd17e3f80"
      },
      "source": [
        "# Ваше решение\n",
        "import numpy as np # Подключаем библиотеку numpy\n",
        "np_array = np.array(my_list)\n",
        "print('first', np_array[0], 'last', np_array[-1])\n",
        "print('multiply = ', np_array[0] * np_array[-1])\n",
        "print('max + min = ', np_array.max() + np_array.min())"
      ],
      "execution_count": 25,
      "outputs": [
        {
          "output_type": "stream",
          "text": [
            "first 1 last 56\n",
            "multiply =  56\n",
            "max + min =  109\n"
          ],
          "name": "stdout"
        }
      ]
    },
    {
      "cell_type": "markdown",
      "metadata": {
        "id": "BcE7E_79iUk2"
      },
      "source": [
        "### Задание 5 * (для желающих проверить свои силы :)"
      ]
    },
    {
      "cell_type": "markdown",
      "metadata": {
        "id": "VnCyYyFsiirw"
      },
      "source": [
        "Задание со звездочкой.\n",
        "\n",
        "В данном задании нужно приложить чуть больше усилий, так как для решения потребуется объединить все полученные знания в рамках одной задачи\n",
        "\n",
        "1. Найдите в интернете температурные показатели за любой месяц (например, январь 2020 года)\n",
        "\n",
        "2. Создайте numpy-массив из показаний найденных температур (пример: [-13, -17, -18 ... ]\n",
        "\n",
        "3. Выведите на экран среднюю температуру за январь 2020 года\n",
        "\n",
        "4. Выведите на экран значения максимальной и минимальной температур за январь 2020 года\n",
        "\n",
        "5. Постройте график изменения температур\n",
        "\n",
        "6. Постройте гистограмму изменения температур"
      ]
    },
    {
      "cell_type": "code",
      "metadata": {
        "id": "EGZcoc9jiT6B",
        "colab": {
          "base_uri": "https://localhost:8080/",
          "height": 635
        },
        "outputId": "668ac814-6130-4178-d9f1-e47a211c9d4a"
      },
      "source": [
        "# Ваше решение\n",
        "import matplotlib.pyplot as plt # Подключаем модуль pyplot библиотеки matplotlib и задаем псевдоним plt\n",
        "from seaborn import set_style # Подключаем стили графиков\n",
        "import numpy as np # Подключаем библиотеку numpy\n",
        "# Команда для отрисовки графика непосредственно в ячейке\n",
        "%matplotlib inline  \n",
        "set_style('darkgrid') # Задаем стиль \n",
        "# Температуры за Январь 2020\n",
        "days = np.array([1, 2, 3, 4, 5, 6, 7, 8, 9, 10, 11, 12, 13, 14, 15, 16, \\\n",
        "                 17, 18, 19, 20, 21, 22, 23, 24, 25, 26, 27, 28, 29, 30, 31])\n",
        "np_array_temp = np.array([1.57, 3.71, 2.86, 0.71, -2.43, 0.71, 2.57, 2.86, \n",
        "             3, 1.43, -1.43, 4.14, 1.71, 1.86, 5.43, 5.5, \\\n",
        "             2.43, 1, 3, 2.43, 4.29, 0.86, 0.00,\\\n",
        "            4.29, 1.71, 2.71, 3, 1.14, 1.14, 0.57, 0.71])\n",
        "print(np_array_temp.mean())\n",
        "print(np_array_temp.min())\n",
        "print(np_array_temp.max())\n",
        "\n",
        "plt.xlabel(u'День')\n",
        "plt.ylabel(u'Температура')\n",
        "plt.title(u'График температуры Январь 2020')\n",
        "\n",
        "plt.plot(days, np_array_temp, color='b')\n",
        "\n",
        "plt.style.use('ggplot')\n",
        "\n",
        "fig = plt.figure()\n",
        "\n",
        "plt.ylim(-3, 10)\n",
        "plt.bar(days, np_array_temp)\n",
        "\n",
        "plt.grid(True)\n",
        "\n",
        "plt.xlabel(u'День')\n",
        "plt.ylabel(u'Температура')\n",
        "plt.title(u'Гистограмма температуры Январь 2020')\n",
        "\n",
        "plt.show()\n"
      ],
      "execution_count": 111,
      "outputs": [
        {
          "output_type": "stream",
          "text": [
            "2.047741935483871\n",
            "-2.43\n",
            "5.5\n"
          ],
          "name": "stdout"
        },
        {
          "output_type": "display_data",
          "data": {
            "image/png": "[encoded data removed]",
            "text/plain": [
              "<Figure size 432x288 with 1 Axes>"
            ]
          },
          "metadata": {
            "tags": []
          }
        },
        {
          "output_type": "display_data",
          "data": {
            "image/png": "[encoded data removed]",
            "text/plain": [
              "<Figure size 432x288 with 1 Axes>"
            ]
          },
          "metadata": {
            "tags": []
          }
        }
      ]
    },
    {
      "cell_type": "code",
      "metadata": {
        "id": "5DLK0YjfBvdE"
      },
      "source": [
        ""
      ],
      "execution_count": null,
      "outputs": []
    }
  ]
}