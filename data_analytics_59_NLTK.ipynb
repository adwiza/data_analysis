{
 "cells": [
  {
   "cell_type": "code",
   "execution_count": 1,
   "metadata": {},
   "outputs": [],
   "source": [
    "from nltk.stem import SnowballStemmer\n",
    "from yaml import load, SafeLoader\n",
    "import string"
   ]
  },
  {
   "cell_type": "code",
   "execution_count": 2,
   "metadata": {},
   "outputs": [],
   "source": [
    "snowball_stemmer = SnowballStemmer('russian')"
   ]
  },
  {
   "cell_type": "code",
   "execution_count": 3,
   "metadata": {},
   "outputs": [
    {
     "data": {
      "text/plain": [
       "'благодарн'"
      ]
     },
     "execution_count": 3,
     "metadata": {},
     "output_type": "execute_result"
    }
   ],
   "source": [
    "snowball_stemmer.stem('благодарны')"
   ]
  },
  {
   "cell_type": "code",
   "execution_count": 4,
   "metadata": {},
   "outputs": [
    {
     "name": "stdout",
     "output_type": "stream",
     "text": [
      "благодарн\n",
      "благодарн\n",
      "благодарн\n"
     ]
    }
   ],
   "source": [
    "for word in ['благодарность', 'благодарностью', 'благодарны']:\n",
    "    print(snowball_stemmer.stem(word))"
   ]
  },
  {
   "cell_type": "code",
   "execution_count": 5,
   "metadata": {},
   "outputs": [],
   "source": [
    "params = load(open('data/params.yaml', mode='r', encoding='utf-8'), Loader=SafeLoader)"
   ]
  },
  {
   "cell_type": "code",
   "execution_count": 6,
   "metadata": {},
   "outputs": [
    {
     "data": {
      "text/plain": [
       "{'positive': ['благодарн',\n",
       "  'хорош',\n",
       "  'довольн',\n",
       "  'качествен',\n",
       "  'отличн',\n",
       "  'понрав'],\n",
       " 'negative': ['ужасн', 'отвратительн']}"
      ]
     },
     "execution_count": 6,
     "metadata": {},
     "output_type": "execute_result"
    }
   ],
   "source": [
    "params"
   ]
  },
  {
   "cell_type": "code",
   "execution_count": 7,
   "metadata": {},
   "outputs": [],
   "source": [
    "def clear_punctuation(text):\n",
    "    \"\"\"Удаление знаков пунктуации из текста текст\"\"\"\n",
    "    symbols = '.,!()\"<>'\n",
    "    spaces = ' ' * len(symbols)\n",
    "    return text.translate(text.maketrans(symbols, spaces))"
   ]
  },
  {
   "cell_type": "code",
   "execution_count": 8,
   "metadata": {},
   "outputs": [],
   "source": [
    "text = 'Просто шикарный клуб! Ходили с другом на \"Animal Джаz\"! Остались очень довольны, атмосфера очень уютная, дружелюбная, есть второй этаж, бар'"
   ]
  },
  {
   "cell_type": "code",
   "execution_count": 9,
   "metadata": {},
   "outputs": [],
   "source": [
    "text_no_puctuation = clear_punctuation(text)\n",
    "positive_words_list = [x for x in text_no_puctuation.split(' ') if snowball_stemmer.stem(x) in params['positive']]"
   ]
  },
  {
   "cell_type": "code",
   "execution_count": 10,
   "metadata": {},
   "outputs": [
    {
     "data": {
      "text/plain": [
       "['довольны']"
      ]
     },
     "execution_count": 10,
     "metadata": {},
     "output_type": "execute_result"
    }
   ],
   "source": [
    "positive_words_list"
   ]
  },
  {
   "cell_type": "code",
   "execution_count": 11,
   "metadata": {},
   "outputs": [],
   "source": [
    "positive_word_count = len([x for x in text_no_puctuation.split(' ') if snowball_stemmer.stem(x) in params['positive']])"
   ]
  },
  {
   "cell_type": "code",
   "execution_count": 12,
   "metadata": {},
   "outputs": [
    {
     "data": {
      "text/plain": [
       "1"
      ]
     },
     "execution_count": 12,
     "metadata": {},
     "output_type": "execute_result"
    }
   ],
   "source": [
    "positive_word_count"
   ]
  },
  {
   "cell_type": "code",
   "execution_count": 13,
   "metadata": {},
   "outputs": [],
   "source": [
    "def classifier(text):\n",
    "    \"\"\"Классификация отзыва text на 'positive', 'negative' и 'undef' по совпадающим основам слов из params.yaml\"\"\"\n",
    "    text = clear_punctuation(text)\n",
    "    positive_word_count = len([x for x in text.split(' ') if snowball_stemmer.stem(x) in params['positive']])\n",
    "    negative_words_count = len([x for x in text.split(' ') if snowball_stemmer.stem(x) in params['negative']])\n",
    "    if positive_word_count > negative_words_count:\n",
    "        return 'positive'\n",
    "    elif positive_word_count < negative_words_count:\n",
    "        return 'negative'\n",
    "    return 'undef'"
   ]
  },
  {
   "cell_type": "code",
   "execution_count": 14,
   "metadata": {},
   "outputs": [],
   "source": [
    "text = 'Просто шикарный клуб! Ходили с другом на \"Animal Джаz\"! Остались очень довольны, атмосфера очень уютная, дружелюбная, есть второй этаж, бар'"
   ]
  },
  {
   "cell_type": "code",
   "execution_count": 15,
   "metadata": {},
   "outputs": [
    {
     "data": {
      "text/plain": [
       "'positive'"
      ]
     },
     "execution_count": 15,
     "metadata": {},
     "output_type": "execute_result"
    }
   ],
   "source": [
    "classifier(text)"
   ]
  },
  {
   "cell_type": "code",
   "execution_count": 16,
   "metadata": {},
   "outputs": [],
   "source": [
    "text = 'Ужасное место. Сотрудники клуба от них в восторге! А культурным людям тут не место.'"
   ]
  },
  {
   "cell_type": "code",
   "execution_count": 17,
   "metadata": {},
   "outputs": [
    {
     "data": {
      "text/plain": [
       "'negative'"
      ]
     },
     "execution_count": 17,
     "metadata": {},
     "output_type": "execute_result"
    }
   ],
   "source": [
    "classifier(text)"
   ]
  },
  {
   "cell_type": "code",
   "execution_count": 18,
   "metadata": {},
   "outputs": [],
   "source": [
    "f = open('data/texts_opinions.txt', mode='r', encoding='utf-8')\n",
    "f_classified = open('data/textclassified.txt', mode='w', encoding='utf8')\n",
    "for line in f:\n",
    "    line = line.strip()\n",
    "    f_classified.write(f'{classifier(line)}\\n')\n",
    "f.close()\n",
    "f_classified.close()"
   ]
  },
  {
   "cell_type": "code",
   "execution_count": 20,
   "metadata": {},
   "outputs": [
    {
     "name": "stdout",
     "output_type": "stream",
     "text": [
      "Доля верно классифицированных отзывов: 77%\n"
     ]
    }
   ],
   "source": [
    "f_classified = open('data/textclassified.txt', mode='r', encoding='utf8')\n",
    "f_ratings = open('data/texts_ratings.txt', mode = 'r', encoding = 'utf-8')\n",
    "classified_list = [line.strip() for line in f_classified]\n",
    "ratings_list = [line.strip() for line in f_ratings]\n",
    "right_classifications = 0\n",
    "total_defined_ratings = 0\n",
    "for i in range(len(classified_list)):\n",
    "    if classified_list[i] != 'undef':\n",
    "        total_defined_ratings += 1\n",
    "        if classified_list[i] == ratings_list[i]:\n",
    "            right_classifications += 1\n",
    "print('Доля верно классифицированных отзывов: {:.0%}'.format(right_classifications / total_defined_ratings))\n",
    "f_classified.close()\n",
    "f_ratings.close()"
   ]
  },
  {
   "cell_type": "code",
   "execution_count": null,
   "metadata": {},
   "outputs": [],
   "source": []
  }
 ],
 "metadata": {
  "kernelspec": {
   "display_name": "Python 3",
   "language": "python",
   "name": "python3"
  },
  "language_info": {
   "codemirror_mode": {
    "name": "ipython",
    "version": 3
   },
   "file_extension": ".py",
   "mimetype": "text/x-python",
   "name": "python",
   "nbconvert_exporter": "python",
   "pygments_lexer": "ipython3",
   "version": "3.8.5"
  }
 },
 "nbformat": 4,
 "nbformat_minor": 4
}
