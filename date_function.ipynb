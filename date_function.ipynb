{
 "cells": [
  {
   "cell_type": "code",
   "execution_count": 1,
   "metadata": {},
   "outputs": [],
   "source": [
    "from datetime import datetime,timedelta"
   ]
  },
  {
   "cell_type": "code",
   "execution_count": 6,
   "metadata": {},
   "outputs": [],
   "source": [
    "def date_range(start_date, end_date):\n",
    "    \"\"\"\n",
    "    Возвращает список дат между start_date и end_date с шагом в день.\n",
    "    Если start_date > end_date, то возвращает пустой список. \n",
    "    Пример\n",
    "    date_range('2018-01-01', '2018-01-07')\n",
    "    [\n",
    "        '2018-01-01',\n",
    "        '2018-01-02',\n",
    "        '2018-01-03',\n",
    "        '2018-01-04',\n",
    "        '2018-01-05',\n",
    "        '2018-01-06',\n",
    "        '2018-01-07'\n",
    "    ]\n",
    "    \"\"\" \n",
    "    date_range_list = []\n",
    "    current_date = start_date  \n",
    "    current_date_dt = datetime.strptime(start_date, '%d-%m-%Y')\n",
    "    end_date_dt = datetime.strptime(end_date, '%d-%m-%Y')   \n",
    "    while current_date_dt <= end_date_dt:\n",
    "        date_range_list.append(current_date)        \n",
    "        current_date_dt += timedelta(days=1)\n",
    "        current_date = current_date_dt.strftime('%d-%m-%Y')    \n",
    "    return date_range_list"
   ]
  },
  {
   "cell_type": "code",
   "execution_count": 8,
   "metadata": {},
   "outputs": [
    {
     "data": {
      "text/plain": [
       "['31-12-2020',\n",
       " '01-01-2021',\n",
       " '02-01-2021',\n",
       " '03-01-2021',\n",
       " '04-01-2021',\n",
       " '05-01-2021',\n",
       " '06-01-2021',\n",
       " '07-01-2021',\n",
       " '08-01-2021',\n",
       " '09-01-2021']"
      ]
     },
     "execution_count": 8,
     "metadata": {},
     "output_type": "execute_result"
    }
   ],
   "source": [
    "date_range('31-12-2020', '09-01-2021')"
   ]
  },
  {
   "cell_type": "code",
   "execution_count": null,
   "metadata": {},
   "outputs": [],
   "source": []
  }
 ],
 "metadata": {
  "kernelspec": {
   "display_name": "Python 3",
   "language": "python",
   "name": "python3"
  },
  "language_info": {
   "codemirror_mode": {
    "name": "ipython",
    "version": 3
   },
   "file_extension": ".py",
   "mimetype": "text/x-python",
   "name": "python",
   "nbconvert_exporter": "python",
   "pygments_lexer": "ipython3",
   "version": "3.8.3"
  }
 },
 "nbformat": 4,
 "nbformat_minor": 4
}
