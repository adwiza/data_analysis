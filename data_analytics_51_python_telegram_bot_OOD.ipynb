{
 "cells": [
  {
   "cell_type": "code",
   "execution_count": 1,
   "metadata": {},
   "outputs": [],
   "source": [
    "import telegram\n",
    "import os\n",
    "from yaml import load, SafeLoader"
   ]
  },
  {
   "cell_type": "code",
   "execution_count": 17,
   "metadata": {},
   "outputs": [],
   "source": [
    "class Notifier:\n",
    "    \n",
    "    def __init__(self, username):\n",
    "        \n",
    "        self.username = username\n",
    "        self.message_counter = 0\n",
    "        self.config = load(open(os.path.join(os.path.dirname(os.path.abspath(__file__)), 'config.yaml'), 'r'), Loader=SafeLoader)\n",
    "        self.bot = telegram.Bot(self.config['bot_token'])\n",
    "    \n",
    "    def counter_up(self):\n",
    "        self.message_counter += 1\n",
    "    \n",
    "    def notification(self, message):\n",
    "        if self.username in self.config['users']:\n",
    "            self.bot.sendMessage(chat_id=self.config['users'][self.username], text=message)\n",
    "        else:\n",
    "            print('Имя пользователя не найдено в файле config.yaml')"
   ]
  }
 ],
 "metadata": {
  "kernelspec": {
   "display_name": "Python 3",
   "language": "python",
   "name": "python3"
  },
  "language_info": {
   "codemirror_mode": {
    "name": "ipython",
    "version": 3
   },
   "file_extension": ".py",
   "mimetype": "text/x-python",
   "name": "python",
   "nbconvert_exporter": "python",
   "pygments_lexer": "ipython3",
   "version": "3.8.5"
  }
 },
 "nbformat": 4,
 "nbformat_minor": 4
}
