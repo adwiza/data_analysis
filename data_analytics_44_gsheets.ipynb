{
 "cells": [
  {
   "cell_type": "code",
   "execution_count": 23,
   "metadata": {},
   "outputs": [],
   "source": [
    "import httplib2\n",
    "import argparse\n",
    "import pandas as pd\n",
    "from pprint import pprint\n",
    "from oauth2client.file import Storage\n",
    "from oauth2client import tools\n",
    "from oauth2client import client\n",
    "from googleapiclient import discovery"
   ]
  },
  {
   "cell_type": "code",
   "execution_count": 17,
   "metadata": {},
   "outputs": [],
   "source": [
    "SCOPES = ['https://www.googleapis.com/auth/spreadsheets']\n",
    "CLIENT_SECRET_FILE = 'client_secret_grants.json' \n",
    "APPLICATION_NAME = 'Google Sheets API Report'\n",
    "credential_path = 'sheets.googleapis.com-report.json'"
   ]
  },
  {
   "cell_type": "code",
   "execution_count": 18,
   "metadata": {},
   "outputs": [
    {
     "name": "stdout",
     "output_type": "stream",
     "text": [
      "Storing credentials to sheets.googleapis.com-report.json\n"
     ]
    }
   ],
   "source": [
    "store = Storage(credential_path)\n",
    "credentials = store.get()\n",
    "parser = argparse.ArgumentParser(formatter_class=argparse.RawDescriptionHelpFormatter, parents=[tools.argparser])\n",
    "flags = parser.parse_args([])\n",
    "if not credentials or credentials.invalid:\n",
    "    flow = client.flow_from_clientsecrets(CLIENT_SECRET_FILE, SCOPES)\n",
    "    flow.user_agent = APPLICATION_NAME\n",
    "    if flags:\n",
    "        credentials = tools.run_flow(flow, store, flags)\n",
    "print('Storing credentials to ' + credential_path)"
   ]
  },
  {
   "cell_type": "code",
   "execution_count": 19,
   "metadata": {},
   "outputs": [],
   "source": [
    "http = credentials.authorize(httplib2.Http())\n",
    "discoveryUrl = ('https://sheets.googleapis.com/$discovery/rest?version=v4')\n",
    "service = discovery.build('sheets', 'v4', http = http, discoveryServiceUrl = discoveryUrl)\n",
    "spreadsheetId = '1CmQqTVuzqDs5WX7fNAlB43AvTsoOfYqIE266impvCJI'"
   ]
  },
  {
   "cell_type": "code",
   "execution_count": 20,
   "metadata": {},
   "outputs": [],
   "source": [
    "rangeName = 'partners dict!A1:C10'"
   ]
  },
  {
   "cell_type": "code",
   "execution_count": 21,
   "metadata": {},
   "outputs": [],
   "source": [
    "result = service.spreadsheets().values().get(spreadsheetId = spreadsheetId, range = rangeName).execute()\n",
    "values = result.get('values', [])"
   ]
  },
  {
   "cell_type": "code",
   "execution_count": 22,
   "metadata": {},
   "outputs": [
    {
     "name": "stdout",
     "output_type": "stream",
     "text": [
      "[['Партнер', 'utm_source', 'utm_medium'],\n",
      " ['СМИ2', 'smi2', 'cpm'],\n",
      " ['РБК', 'rbc', 'cpc'],\n",
      " ['Infox', 'infox', 'cpc'],\n",
      " ['Infox', 'infox-action', 'cpa']]\n"
     ]
    }
   ],
   "source": [
    "pprint(values)"
   ]
  },
  {
   "cell_type": "code",
   "execution_count": 29,
   "metadata": {},
   "outputs": [],
   "source": [
    "headers = values[0]\n",
    "rows = values[1:]\n",
    "data_top = pd.DataFrame.from_records(rows, columns = headers)\n",
    "data_bottom = pd.read_csv('data/metrika_data.txt', sep = '\\t')"
   ]
  },
  {
   "cell_type": "code",
   "execution_count": 33,
   "metadata": {},
   "outputs": [
    {
     "data": {
      "text/html": [
       "<div>\n",
       "<style scoped>\n",
       "    .dataframe tbody tr th:only-of-type {\n",
       "        vertical-align: middle;\n",
       "    }\n",
       "\n",
       "    .dataframe tbody tr th {\n",
       "        vertical-align: top;\n",
       "    }\n",
       "\n",
       "    .dataframe thead th {\n",
       "        text-align: right;\n",
       "    }\n",
       "</style>\n",
       "<table border=\"1\" class=\"dataframe\">\n",
       "  <thead>\n",
       "    <tr style=\"text-align: right;\">\n",
       "      <th></th>\n",
       "      <th>Партнер</th>\n",
       "      <th>utm_source</th>\n",
       "      <th>utm_medium</th>\n",
       "    </tr>\n",
       "  </thead>\n",
       "  <tbody>\n",
       "    <tr>\n",
       "      <th>0</th>\n",
       "      <td>СМИ2</td>\n",
       "      <td>smi2</td>\n",
       "      <td>cpm</td>\n",
       "    </tr>\n",
       "    <tr>\n",
       "      <th>1</th>\n",
       "      <td>РБК</td>\n",
       "      <td>rbc</td>\n",
       "      <td>cpc</td>\n",
       "    </tr>\n",
       "    <tr>\n",
       "      <th>2</th>\n",
       "      <td>Infox</td>\n",
       "      <td>infox</td>\n",
       "      <td>cpc</td>\n",
       "    </tr>\n",
       "    <tr>\n",
       "      <th>3</th>\n",
       "      <td>Infox</td>\n",
       "      <td>infox-action</td>\n",
       "      <td>cpa</td>\n",
       "    </tr>\n",
       "  </tbody>\n",
       "</table>\n",
       "</div>"
      ],
      "text/plain": [
       "  Партнер    utm_source utm_medium\n",
       "0    СМИ2          smi2        cpm\n",
       "1     РБК           rbc        cpc\n",
       "2   Infox         infox        cpc\n",
       "3   Infox  infox-action        cpa"
      ]
     },
     "execution_count": 33,
     "metadata": {},
     "output_type": "execute_result"
    }
   ],
   "source": [
    "data_top.head()"
   ]
  },
  {
   "cell_type": "code",
   "execution_count": 42,
   "metadata": {},
   "outputs": [
    {
     "data": {
      "text/html": [
       "<div>\n",
       "<style scoped>\n",
       "    .dataframe tbody tr th:only-of-type {\n",
       "        vertical-align: middle;\n",
       "    }\n",
       "\n",
       "    .dataframe tbody tr th {\n",
       "        vertical-align: top;\n",
       "    }\n",
       "\n",
       "    .dataframe thead th {\n",
       "        text-align: right;\n",
       "    }\n",
       "</style>\n",
       "<table border=\"1\" class=\"dataframe\">\n",
       "  <thead>\n",
       "    <tr style=\"text-align: right;\">\n",
       "      <th></th>\n",
       "      <th>utm_source</th>\n",
       "      <th>utm_medium</th>\n",
       "      <th>sales</th>\n",
       "    </tr>\n",
       "  </thead>\n",
       "  <tbody>\n",
       "    <tr>\n",
       "      <th>0</th>\n",
       "      <td>infox</td>\n",
       "      <td>cpc</td>\n",
       "      <td>1534</td>\n",
       "    </tr>\n",
       "    <tr>\n",
       "      <th>1</th>\n",
       "      <td>smi2</td>\n",
       "      <td>cpm</td>\n",
       "      <td>1495</td>\n",
       "    </tr>\n",
       "    <tr>\n",
       "      <th>2</th>\n",
       "      <td>infox-action</td>\n",
       "      <td>cpa</td>\n",
       "      <td>735</td>\n",
       "    </tr>\n",
       "    <tr>\n",
       "      <th>3</th>\n",
       "      <td>rbc</td>\n",
       "      <td>cpc</td>\n",
       "      <td>59</td>\n",
       "    </tr>\n",
       "  </tbody>\n",
       "</table>\n",
       "</div>"
      ],
      "text/plain": [
       "     utm_source utm_medium  sales\n",
       "0         infox        cpc   1534\n",
       "1          smi2        cpm   1495\n",
       "2  infox-action        cpa    735\n",
       "3           rbc        cpc     59"
      ]
     },
     "execution_count": 42,
     "metadata": {},
     "output_type": "execute_result"
    }
   ],
   "source": [
    "data_bottom.head()"
   ]
  },
  {
   "cell_type": "code",
   "execution_count": 50,
   "metadata": {},
   "outputs": [],
   "source": [
    "result = pd.merge(data_top, data_bottom, how='outer', on=['utm_source', 'utm_medium'])"
   ]
  },
  {
   "cell_type": "code",
   "execution_count": 51,
   "metadata": {},
   "outputs": [
    {
     "data": {
      "text/html": [
       "<div>\n",
       "<style scoped>\n",
       "    .dataframe tbody tr th:only-of-type {\n",
       "        vertical-align: middle;\n",
       "    }\n",
       "\n",
       "    .dataframe tbody tr th {\n",
       "        vertical-align: top;\n",
       "    }\n",
       "\n",
       "    .dataframe thead th {\n",
       "        text-align: right;\n",
       "    }\n",
       "</style>\n",
       "<table border=\"1\" class=\"dataframe\">\n",
       "  <thead>\n",
       "    <tr style=\"text-align: right;\">\n",
       "      <th></th>\n",
       "      <th>Партнер</th>\n",
       "      <th>utm_source</th>\n",
       "      <th>utm_medium</th>\n",
       "      <th>sales</th>\n",
       "    </tr>\n",
       "  </thead>\n",
       "  <tbody>\n",
       "    <tr>\n",
       "      <th>0</th>\n",
       "      <td>СМИ2</td>\n",
       "      <td>smi2</td>\n",
       "      <td>cpm</td>\n",
       "      <td>1495</td>\n",
       "    </tr>\n",
       "    <tr>\n",
       "      <th>1</th>\n",
       "      <td>РБК</td>\n",
       "      <td>rbc</td>\n",
       "      <td>cpc</td>\n",
       "      <td>59</td>\n",
       "    </tr>\n",
       "    <tr>\n",
       "      <th>2</th>\n",
       "      <td>Infox</td>\n",
       "      <td>infox</td>\n",
       "      <td>cpc</td>\n",
       "      <td>1534</td>\n",
       "    </tr>\n",
       "    <tr>\n",
       "      <th>3</th>\n",
       "      <td>Infox</td>\n",
       "      <td>infox-action</td>\n",
       "      <td>cpa</td>\n",
       "      <td>735</td>\n",
       "    </tr>\n",
       "  </tbody>\n",
       "</table>\n",
       "</div>"
      ],
      "text/plain": [
       "  Партнер    utm_source utm_medium  sales\n",
       "0    СМИ2          smi2        cpm   1495\n",
       "1     РБК           rbc        cpc     59\n",
       "2   Infox         infox        cpc   1534\n",
       "3   Infox  infox-action        cpa    735"
      ]
     },
     "execution_count": 51,
     "metadata": {},
     "output_type": "execute_result"
    }
   ],
   "source": [
    "result.head()"
   ]
  },
  {
   "cell_type": "code",
   "execution_count": null,
   "metadata": {},
   "outputs": [],
   "source": []
  }
 ],
 "metadata": {
  "kernelspec": {
   "display_name": "Python 3",
   "language": "python",
   "name": "python3"
  },
  "language_info": {
   "codemirror_mode": {
    "name": "ipython",
    "version": 3
   },
   "file_extension": ".py",
   "mimetype": "text/x-python",
   "name": "python",
   "nbconvert_exporter": "python",
   "pygments_lexer": "ipython3",
   "version": "3.8.5"
  }
 },
 "nbformat": 4,
 "nbformat_minor": 4
}
