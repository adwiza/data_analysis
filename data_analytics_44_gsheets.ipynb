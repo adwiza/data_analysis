{
 "cells": [
  {
   "cell_type": "code",
   "execution_count": 1,
   "metadata": {},
   "outputs": [],
   "source": [
    "import httplib2\n",
    "import argparse\n",
    "import pandas as pd\n",
    "import requests\n",
    "import json\n",
    "from pprint import pprint\n",
    "from datetime import datetime, timedelta\n",
    "from yaml import load, FullLoader\n",
    "from pprint import pprint\n",
    "from oauth2client.file import Storage\n",
    "from oauth2client import tools\n",
    "from oauth2client import client\n",
    "from googleapiclient import discovery"
   ]
  },
  {
   "cell_type": "code",
   "execution_count": 2,
   "metadata": {},
   "outputs": [],
   "source": [
    "SCOPES = ['https://www.googleapis.com/auth/spreadsheets']\n",
    "CLIENT_SECRET_FILE = 'client_secret_grants.json' \n",
    "APPLICATION_NAME = 'Google Sheets API Report'\n",
    "credential_path = 'sheets.googleapis.com-report.json'"
   ]
  },
  {
   "cell_type": "code",
   "execution_count": 3,
   "metadata": {},
   "outputs": [
    {
     "name": "stdout",
     "output_type": "stream",
     "text": [
      "Storing credentials to sheets.googleapis.com-report.json\n"
     ]
    }
   ],
   "source": [
    "store = Storage(credential_path)\n",
    "credentials = store.get()\n",
    "parser = argparse.ArgumentParser(formatter_class=argparse.RawDescriptionHelpFormatter, parents=[tools.argparser])\n",
    "flags = parser.parse_args([])\n",
    "if not credentials or credentials.invalid:\n",
    "    flow = client.flow_from_clientsecrets(CLIENT_SECRET_FILE, SCOPES)\n",
    "    flow.user_agent = APPLICATION_NAME\n",
    "    if flags:\n",
    "        credentials = tools.run_flow(flow, store, flags)\n",
    "print('Storing credentials to ' + credential_path)"
   ]
  },
  {
   "cell_type": "code",
   "execution_count": 4,
   "metadata": {},
   "outputs": [],
   "source": [
    "http = credentials.authorize(httplib2.Http())\n",
    "discoveryUrl = ('https://sheets.googleapis.com/$discovery/rest?version=v4')\n",
    "service = discovery.build('sheets', 'v4', http = http, discoveryServiceUrl = discoveryUrl)\n",
    "spreadsheetId = '1CmQqTVuzqDs5WX7fNAlB43AvTsoOfYqIE266impvCJI'"
   ]
  },
  {
   "cell_type": "code",
   "execution_count": 5,
   "metadata": {},
   "outputs": [],
   "source": [
    "rangeName = 'partners dict!A1:C10'"
   ]
  },
  {
   "cell_type": "code",
   "execution_count": 6,
   "metadata": {},
   "outputs": [],
   "source": [
    "result = service.spreadsheets().values().get(spreadsheetId = spreadsheetId, range = rangeName).execute()\n",
    "values = result.get('values', [])"
   ]
  },
  {
   "cell_type": "code",
   "execution_count": 7,
   "metadata": {},
   "outputs": [
    {
     "name": "stdout",
     "output_type": "stream",
     "text": [
      "[['Партнер', 'utm_source', 'utm_medium'],\n",
      " ['СМИ2', 'smi2', 'cpm'],\n",
      " ['РБК', 'rbc', 'cpc'],\n",
      " ['Infox', 'infox', 'cpc'],\n",
      " ['Infox', 'infox-action', 'cpa']]\n"
     ]
    }
   ],
   "source": [
    "pprint(values)"
   ]
  },
  {
   "cell_type": "code",
   "execution_count": 8,
   "metadata": {},
   "outputs": [],
   "source": [
    "headers = values[0]\n",
    "rows = values[1:]\n",
    "data_top = pd.DataFrame.from_records(rows, columns = headers)\n",
    "data_bottom = pd.read_csv('data/metrika_data.txt', sep = '\\t')"
   ]
  },
  {
   "cell_type": "code",
   "execution_count": 9,
   "metadata": {},
   "outputs": [
    {
     "data": {
      "text/html": [
       "<div>\n",
       "<style scoped>\n",
       "    .dataframe tbody tr th:only-of-type {\n",
       "        vertical-align: middle;\n",
       "    }\n",
       "\n",
       "    .dataframe tbody tr th {\n",
       "        vertical-align: top;\n",
       "    }\n",
       "\n",
       "    .dataframe thead th {\n",
       "        text-align: right;\n",
       "    }\n",
       "</style>\n",
       "<table border=\"1\" class=\"dataframe\">\n",
       "  <thead>\n",
       "    <tr style=\"text-align: right;\">\n",
       "      <th></th>\n",
       "      <th>Партнер</th>\n",
       "      <th>utm_source</th>\n",
       "      <th>utm_medium</th>\n",
       "    </tr>\n",
       "  </thead>\n",
       "  <tbody>\n",
       "    <tr>\n",
       "      <th>0</th>\n",
       "      <td>СМИ2</td>\n",
       "      <td>smi2</td>\n",
       "      <td>cpm</td>\n",
       "    </tr>\n",
       "    <tr>\n",
       "      <th>1</th>\n",
       "      <td>РБК</td>\n",
       "      <td>rbc</td>\n",
       "      <td>cpc</td>\n",
       "    </tr>\n",
       "    <tr>\n",
       "      <th>2</th>\n",
       "      <td>Infox</td>\n",
       "      <td>infox</td>\n",
       "      <td>cpc</td>\n",
       "    </tr>\n",
       "    <tr>\n",
       "      <th>3</th>\n",
       "      <td>Infox</td>\n",
       "      <td>infox-action</td>\n",
       "      <td>cpa</td>\n",
       "    </tr>\n",
       "  </tbody>\n",
       "</table>\n",
       "</div>"
      ],
      "text/plain": [
       "  Партнер    utm_source utm_medium\n",
       "0    СМИ2          smi2        cpm\n",
       "1     РБК           rbc        cpc\n",
       "2   Infox         infox        cpc\n",
       "3   Infox  infox-action        cpa"
      ]
     },
     "execution_count": 9,
     "metadata": {},
     "output_type": "execute_result"
    }
   ],
   "source": [
    "data_top.head()"
   ]
  },
  {
   "cell_type": "code",
   "execution_count": 10,
   "metadata": {},
   "outputs": [
    {
     "data": {
      "text/html": [
       "<div>\n",
       "<style scoped>\n",
       "    .dataframe tbody tr th:only-of-type {\n",
       "        vertical-align: middle;\n",
       "    }\n",
       "\n",
       "    .dataframe tbody tr th {\n",
       "        vertical-align: top;\n",
       "    }\n",
       "\n",
       "    .dataframe thead th {\n",
       "        text-align: right;\n",
       "    }\n",
       "</style>\n",
       "<table border=\"1\" class=\"dataframe\">\n",
       "  <thead>\n",
       "    <tr style=\"text-align: right;\">\n",
       "      <th></th>\n",
       "      <th>utm_source</th>\n",
       "      <th>utm_medium</th>\n",
       "      <th>sales</th>\n",
       "    </tr>\n",
       "  </thead>\n",
       "  <tbody>\n",
       "    <tr>\n",
       "      <th>0</th>\n",
       "      <td>infox</td>\n",
       "      <td>cpc</td>\n",
       "      <td>1534</td>\n",
       "    </tr>\n",
       "    <tr>\n",
       "      <th>1</th>\n",
       "      <td>smi2</td>\n",
       "      <td>cpm</td>\n",
       "      <td>1495</td>\n",
       "    </tr>\n",
       "    <tr>\n",
       "      <th>2</th>\n",
       "      <td>infox-action</td>\n",
       "      <td>cpa</td>\n",
       "      <td>735</td>\n",
       "    </tr>\n",
       "    <tr>\n",
       "      <th>3</th>\n",
       "      <td>rbc</td>\n",
       "      <td>cpc</td>\n",
       "      <td>59</td>\n",
       "    </tr>\n",
       "  </tbody>\n",
       "</table>\n",
       "</div>"
      ],
      "text/plain": [
       "     utm_source utm_medium  sales\n",
       "0         infox        cpc   1534\n",
       "1          smi2        cpm   1495\n",
       "2  infox-action        cpa    735\n",
       "3           rbc        cpc     59"
      ]
     },
     "execution_count": 10,
     "metadata": {},
     "output_type": "execute_result"
    }
   ],
   "source": [
    "data_bottom.head()"
   ]
  },
  {
   "cell_type": "code",
   "execution_count": 11,
   "metadata": {},
   "outputs": [],
   "source": [
    "result = pd.merge(data_top, data_bottom, how='outer', on=['utm_source', 'utm_medium'])"
   ]
  },
  {
   "cell_type": "code",
   "execution_count": 12,
   "metadata": {},
   "outputs": [
    {
     "data": {
      "text/html": [
       "<div>\n",
       "<style scoped>\n",
       "    .dataframe tbody tr th:only-of-type {\n",
       "        vertical-align: middle;\n",
       "    }\n",
       "\n",
       "    .dataframe tbody tr th {\n",
       "        vertical-align: top;\n",
       "    }\n",
       "\n",
       "    .dataframe thead th {\n",
       "        text-align: right;\n",
       "    }\n",
       "</style>\n",
       "<table border=\"1\" class=\"dataframe\">\n",
       "  <thead>\n",
       "    <tr style=\"text-align: right;\">\n",
       "      <th></th>\n",
       "      <th>Партнер</th>\n",
       "      <th>utm_source</th>\n",
       "      <th>utm_medium</th>\n",
       "      <th>sales</th>\n",
       "    </tr>\n",
       "  </thead>\n",
       "  <tbody>\n",
       "    <tr>\n",
       "      <th>0</th>\n",
       "      <td>СМИ2</td>\n",
       "      <td>smi2</td>\n",
       "      <td>cpm</td>\n",
       "      <td>1495</td>\n",
       "    </tr>\n",
       "    <tr>\n",
       "      <th>1</th>\n",
       "      <td>РБК</td>\n",
       "      <td>rbc</td>\n",
       "      <td>cpc</td>\n",
       "      <td>59</td>\n",
       "    </tr>\n",
       "    <tr>\n",
       "      <th>2</th>\n",
       "      <td>Infox</td>\n",
       "      <td>infox</td>\n",
       "      <td>cpc</td>\n",
       "      <td>1534</td>\n",
       "    </tr>\n",
       "    <tr>\n",
       "      <th>3</th>\n",
       "      <td>Infox</td>\n",
       "      <td>infox-action</td>\n",
       "      <td>cpa</td>\n",
       "      <td>735</td>\n",
       "    </tr>\n",
       "  </tbody>\n",
       "</table>\n",
       "</div>"
      ],
      "text/plain": [
       "  Партнер    utm_source utm_medium  sales\n",
       "0    СМИ2          smi2        cpm   1495\n",
       "1     РБК           rbc        cpc     59\n",
       "2   Infox         infox        cpc   1534\n",
       "3   Infox  infox-action        cpa    735"
      ]
     },
     "execution_count": 12,
     "metadata": {},
     "output_type": "execute_result"
    }
   ],
   "source": [
    "result.head()"
   ]
  },
  {
   "cell_type": "markdown",
   "metadata": {},
   "source": [
    "## Параметры Яндекс метрики"
   ]
  },
  {
   "cell_type": "code",
   "execution_count": 13,
   "metadata": {},
   "outputs": [],
   "source": [
    "config_file = open('config.yaml', 'r')\n",
    "config = load(config_file, Loader=FullLoader)\n",
    "token = config['token']\n",
    "headers = {'Authorization': 'OAuth ' + token}\n",
    "API_URL = 'https://api-metrika.yandex.ru/stat/v1/data'\n",
    "counter = '51583145'\n",
    "startDate = '2018-12-01'\n",
    "endDate = '2020-12-31'\n",
    "dimensions = ['ym:s:date', 'ym:s:deviceCategory', 'ym:s:hasAdBlocker', 'ym:s:trafficSource']\n",
    "metrics = ['ym:s:visits', 'ym:s:users', 'ym:s:pageviews']\n",
    "metrics_string = ','.join(metrics)\n",
    "dimensions_string = ','.join(dimensions)"
   ]
  },
  {
   "cell_type": "code",
   "execution_count": 14,
   "metadata": {},
   "outputs": [],
   "source": [
    "f = open('data/report_params.yaml', 'r')\n",
    "params = load(f, Loader=FullLoader)\n",
    "API_URL = 'https://api-metrika.yandex.ru/stat/v1/data'\n",
    "startDate = (datetime.now() - timedelta(days = params['reports']['dau']['days_ago'])).strftime('%Y-%m-%d')\n",
    "endDate = (datetime.now() - timedelta(days = 1)).strftime('%Y-%m-%d')\n",
    "dimensions = params['reports']['dau']['dimensions']\n",
    "metrics = params['reports']['dau']['metrics']\n",
    "sortby = params['reports']['dau']['sort']\n",
    "counter = params['metrika counter']"
   ]
  },
  {
   "cell_type": "code",
   "execution_count": 15,
   "metadata": {},
   "outputs": [],
   "source": [
    "def make_request(**kwargs):\n",
    "    \"\"\"Запрос к API Яндекс.Метрики. Возвращает JSON ответа\"\"\"\n",
    "    return requests.get(API_URL, headers=headers, params = kwargs).json()"
   ]
  },
  {
   "cell_type": "code",
   "execution_count": 16,
   "metadata": {},
   "outputs": [],
   "source": [
    "def json_handler(data):\n",
    "    \"\"\"Преобразование ответа JSON в спикок листов\"\"\"\n",
    "    report = []\n",
    "    for line in data['data']:\n",
    "        dimension_list = [x['name'] for x in line['dimensions']]\n",
    "        metrics_list = line['metrics']\n",
    "        report.append(dimension_list + metrics_list)\n",
    "    return report"
   ]
  },
  {
   "cell_type": "code",
   "execution_count": 17,
   "metadata": {},
   "outputs": [],
   "source": [
    "response = make_request(date1 = startDate, date2 = endDate, dimensions = dimensions, metrics = metrics, \n",
    "                    id = counter, sort = sortby, accuracy = 1)"
   ]
  },
  {
   "cell_type": "code",
   "execution_count": 18,
   "metadata": {},
   "outputs": [
    {
     "data": {
      "text/plain": [
       "[['2020-11-27', 109.0, 98.0, 228.0, 25.68807339],\n",
       " ['2020-11-28', 85.0, 75.0, 162.0, 24.70588235],\n",
       " ['2020-11-29', 63.0, 58.0, 104.0, 28.57142857],\n",
       " ['2020-11-30', 84.0, 76.0, 178.0, 21.42857143],\n",
       " ['2020-12-01', 82.0, 77.0, 149.0, 29.26829268],\n",
       " ['2020-12-02', 74.0, 71.0, 128.0, 21.62162162],\n",
       " ['2020-12-03', 70.0, 67.0, 157.0, 25.71428571],\n",
       " ['2020-12-04', 81.0, 75.0, 149.0, 27.16049383],\n",
       " ['2020-12-05', 85.0, 79.0, 164.0, 22.35294118],\n",
       " ['2020-12-06', 66.0, 60.0, 124.0, 30.3030303],\n",
       " ['2020-12-07', 95.0, 89.0, 183.0, 22.10526316],\n",
       " ['2020-12-08', 74.0, 67.0, 139.0, 21.62162162],\n",
       " ['2020-12-09', 89.0, 82.0, 189.0, 21.34831461],\n",
       " ['2020-12-10', 81.0, 79.0, 154.0, 27.16049383],\n",
       " ['2020-12-11', 76.0, 70.0, 140.0, 25.0],\n",
       " ['2020-12-12', 70.0, 67.0, 134.0, 17.14285714],\n",
       " ['2020-12-13', 72.0, 70.0, 141.0, 18.05555556],\n",
       " ['2020-12-14', 65.0, 62.0, 134.0, 13.84615385],\n",
       " ['2020-12-15', 76.0, 70.0, 150.0, 17.10526316],\n",
       " ['2020-12-16', 93.0, 81.0, 181.0, 18.27956989],\n",
       " ['2020-12-17', 89.0, 86.0, 148.0, 24.71910112],\n",
       " ['2020-12-18', 71.0, 66.0, 132.0, 23.94366197],\n",
       " ['2020-12-19', 63.0, 59.0, 131.0, 25.3968254],\n",
       " ['2020-12-20', 65.0, 63.0, 138.0, 21.53846154],\n",
       " ['2020-12-21', 89.0, 83.0, 156.0, 31.46067416],\n",
       " ['2020-12-22', 38.0, 36.0, 75.0, 18.42105263],\n",
       " ['2020-12-23', 33.0, 30.0, 42.0, 24.24242424],\n",
       " ['2020-12-24', 34.0, 32.0, 40.0, 50.0],\n",
       " ['2020-12-25', 41.0, 39.0, 50.0, 41.46341463],\n",
       " ['2020-12-26', 23.0, 20.0, 27.0, 39.13043478]]"
      ]
     },
     "execution_count": 18,
     "metadata": {},
     "output_type": "execute_result"
    }
   ],
   "source": [
    "data = json_handler(response)\n",
    "data"
   ]
  },
  {
   "cell_type": "code",
   "execution_count": 19,
   "metadata": {},
   "outputs": [],
   "source": [
    "range_data = params['reports']['dau']['range_name']\n",
    "range_name = '{}!{}{}:{}{}'.format(range_data['list'], range_data['start'], 2, range_data['end'], len(data) + 1)"
   ]
  },
  {
   "cell_type": "code",
   "execution_count": 20,
   "metadata": {},
   "outputs": [
    {
     "data": {
      "text/plain": [
       "'daily_metrics!A2:E31'"
      ]
     },
     "execution_count": 20,
     "metadata": {},
     "output_type": "execute_result"
    }
   ],
   "source": [
    "range_name"
   ]
  },
  {
   "cell_type": "code",
   "execution_count": 21,
   "metadata": {},
   "outputs": [],
   "source": [
    "body = {'values': data}"
   ]
  },
  {
   "cell_type": "code",
   "execution_count": 22,
   "metadata": {},
   "outputs": [
    {
     "name": "stdout",
     "output_type": "stream",
     "text": [
      "{'values': [['2020-11-27', 109.0, 98.0, 228.0, 25.68807339],\n",
      "            ['2020-11-28', 85.0, 75.0, 162.0, 24.70588235],\n",
      "            ['2020-11-29', 63.0, 58.0, 104.0, 28.57142857],\n",
      "            ['2020-11-30', 84.0, 76.0, 178.0, 21.42857143],\n",
      "            ['2020-12-01', 82.0, 77.0, 149.0, 29.26829268],\n",
      "            ['2020-12-02', 74.0, 71.0, 128.0, 21.62162162],\n",
      "            ['2020-12-03', 70.0, 67.0, 157.0, 25.71428571],\n",
      "            ['2020-12-04', 81.0, 75.0, 149.0, 27.16049383],\n",
      "            ['2020-12-05', 85.0, 79.0, 164.0, 22.35294118],\n",
      "            ['2020-12-06', 66.0, 60.0, 124.0, 30.3030303],\n",
      "            ['2020-12-07', 95.0, 89.0, 183.0, 22.10526316],\n",
      "            ['2020-12-08', 74.0, 67.0, 139.0, 21.62162162],\n",
      "            ['2020-12-09', 89.0, 82.0, 189.0, 21.34831461],\n",
      "            ['2020-12-10', 81.0, 79.0, 154.0, 27.16049383],\n",
      "            ['2020-12-11', 76.0, 70.0, 140.0, 25.0],\n",
      "            ['2020-12-12', 70.0, 67.0, 134.0, 17.14285714],\n",
      "            ['2020-12-13', 72.0, 70.0, 141.0, 18.05555556],\n",
      "            ['2020-12-14', 65.0, 62.0, 134.0, 13.84615385],\n",
      "            ['2020-12-15', 76.0, 70.0, 150.0, 17.10526316],\n",
      "            ['2020-12-16', 93.0, 81.0, 181.0, 18.27956989],\n",
      "            ['2020-12-17', 89.0, 86.0, 148.0, 24.71910112],\n",
      "            ['2020-12-18', 71.0, 66.0, 132.0, 23.94366197],\n",
      "            ['2020-12-19', 63.0, 59.0, 131.0, 25.3968254],\n",
      "            ['2020-12-20', 65.0, 63.0, 138.0, 21.53846154],\n",
      "            ['2020-12-21', 89.0, 83.0, 156.0, 31.46067416],\n",
      "            ['2020-12-22', 38.0, 36.0, 75.0, 18.42105263],\n",
      "            ['2020-12-23', 33.0, 30.0, 42.0, 24.24242424],\n",
      "            ['2020-12-24', 34.0, 32.0, 40.0, 50.0],\n",
      "            ['2020-12-25', 41.0, 39.0, 50.0, 41.46341463],\n",
      "            ['2020-12-26', 23.0, 20.0, 27.0, 39.13043478]]}\n"
     ]
    }
   ],
   "source": [
    "pprint(body)"
   ]
  },
  {
   "cell_type": "code",
   "execution_count": 23,
   "metadata": {},
   "outputs": [
    {
     "data": {
      "text/plain": [
       "{'spreadsheetId': '1CmQqTVuzqDs5WX7fNAlB43AvTsoOfYqIE266impvCJI',\n",
       " 'updatedRange': 'daily_metrics!A2:E31',\n",
       " 'updatedRows': 30,\n",
       " 'updatedColumns': 5,\n",
       " 'updatedCells': 150}"
      ]
     },
     "execution_count": 23,
     "metadata": {},
     "output_type": "execute_result"
    }
   ],
   "source": [
    "service.spreadsheets().values().update(spreadsheetId=spreadsheetId, range=range_name, valueInputOption='USER_ENTERED', body=body).execute()"
   ]
  },
  {
   "cell_type": "code",
   "execution_count": null,
   "metadata": {},
   "outputs": [],
   "source": []
  }
 ],
 "metadata": {
  "kernelspec": {
   "display_name": "Python 3",
   "language": "python",
   "name": "python3"
  },
  "language_info": {
   "codemirror_mode": {
    "name": "ipython",
    "version": 3
   },
   "file_extension": ".py",
   "mimetype": "text/x-python",
   "name": "python",
   "nbconvert_exporter": "python",
   "pygments_lexer": "ipython3",
   "version": "3.8.5"
  }
 },
 "nbformat": 4,
 "nbformat_minor": 4
}
