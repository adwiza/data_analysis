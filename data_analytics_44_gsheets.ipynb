{
 "cells": [
  {
   "cell_type": "code",
   "execution_count": 1,
   "metadata": {},
   "outputs": [],
   "source": [
    "import httplib2\n",
    "import argparse\n",
    "import pandas as pd\n",
    "import requests\n",
    "import json\n",
    "from pprint import pprint\n",
    "from datetime import datetime, timedelta\n",
    "from yaml import load, FullLoader\n",
    "from pprint import pprint\n",
    "from oauth2client.file import Storage\n",
    "from oauth2client import tools\n",
    "from oauth2client import client\n",
    "from googleapiclient import discovery"
   ]
  },
  {
   "cell_type": "code",
   "execution_count": 2,
   "metadata": {},
   "outputs": [],
   "source": [
    "SCOPES = ['https://www.googleapis.com/auth/spreadsheets']\n",
    "CLIENT_SECRET_FILE = 'client_secret_grants.json' \n",
    "APPLICATION_NAME = 'Google Sheets API Report'\n",
    "credential_path = 'sheets.googleapis.com-report.json'"
   ]
  },
  {
   "cell_type": "code",
   "execution_count": 3,
   "metadata": {},
   "outputs": [
    {
     "name": "stdout",
     "output_type": "stream",
     "text": [
      "Storing credentials to sheets.googleapis.com-report.json\n"
     ]
    }
   ],
   "source": [
    "store = Storage(credential_path)\n",
    "credentials = store.get()\n",
    "parser = argparse.ArgumentParser(formatter_class=argparse.RawDescriptionHelpFormatter, parents=[tools.argparser])\n",
    "flags = parser.parse_args([])\n",
    "if not credentials or credentials.invalid:\n",
    "    flow = client.flow_from_clientsecrets(CLIENT_SECRET_FILE, SCOPES)\n",
    "    flow.user_agent = APPLICATION_NAME\n",
    "    if flags:\n",
    "        credentials = tools.run_flow(flow, store, flags)\n",
    "print('Storing credentials to ' + credential_path)"
   ]
  },
  {
   "cell_type": "code",
   "execution_count": 4,
   "metadata": {},
   "outputs": [],
   "source": [
    "http = credentials.authorize(httplib2.Http())\n",
    "discoveryUrl = ('https://sheets.googleapis.com/$discovery/rest?version=v4')\n",
    "service = discovery.build('sheets', 'v4', http = http, discoveryServiceUrl = discoveryUrl)\n",
    "spreadsheetId = '1CmQqTVuzqDs5WX7fNAlB43AvTsoOfYqIE266impvCJI'"
   ]
  },
  {
   "cell_type": "code",
   "execution_count": 5,
   "metadata": {},
   "outputs": [],
   "source": [
    "rangeName = 'partners dict!A1:C10'"
   ]
  },
  {
   "cell_type": "code",
   "execution_count": 6,
   "metadata": {},
   "outputs": [],
   "source": [
    "result = service.spreadsheets().values().get(spreadsheetId = spreadsheetId, range = rangeName).execute()\n",
    "values = result.get('values', [])"
   ]
  },
  {
   "cell_type": "code",
   "execution_count": 7,
   "metadata": {},
   "outputs": [
    {
     "name": "stdout",
     "output_type": "stream",
     "text": [
      "[['Партнер', 'utm_source', 'utm_medium'],\n",
      " ['СМИ2', 'smi2', 'cpm'],\n",
      " ['РБК', 'rbc', 'cpc'],\n",
      " ['Infox', 'infox', 'cpc'],\n",
      " ['Infox', 'infox-action', 'cpa']]\n"
     ]
    }
   ],
   "source": [
    "pprint(values)"
   ]
  },
  {
   "cell_type": "code",
   "execution_count": 8,
   "metadata": {},
   "outputs": [],
   "source": [
    "headers = values[0]\n",
    "rows = values[1:]\n",
    "data_top = pd.DataFrame.from_records(rows, columns = headers)\n",
    "data_bottom = pd.read_csv('data/metrika_data.txt', sep = '\\t')"
   ]
  },
  {
   "cell_type": "code",
   "execution_count": 9,
   "metadata": {},
   "outputs": [
    {
     "data": {
      "text/html": [
       "<div>\n",
       "<style scoped>\n",
       "    .dataframe tbody tr th:only-of-type {\n",
       "        vertical-align: middle;\n",
       "    }\n",
       "\n",
       "    .dataframe tbody tr th {\n",
       "        vertical-align: top;\n",
       "    }\n",
       "\n",
       "    .dataframe thead th {\n",
       "        text-align: right;\n",
       "    }\n",
       "</style>\n",
       "<table border=\"1\" class=\"dataframe\">\n",
       "  <thead>\n",
       "    <tr style=\"text-align: right;\">\n",
       "      <th></th>\n",
       "      <th>Партнер</th>\n",
       "      <th>utm_source</th>\n",
       "      <th>utm_medium</th>\n",
       "    </tr>\n",
       "  </thead>\n",
       "  <tbody>\n",
       "    <tr>\n",
       "      <th>0</th>\n",
       "      <td>СМИ2</td>\n",
       "      <td>smi2</td>\n",
       "      <td>cpm</td>\n",
       "    </tr>\n",
       "    <tr>\n",
       "      <th>1</th>\n",
       "      <td>РБК</td>\n",
       "      <td>rbc</td>\n",
       "      <td>cpc</td>\n",
       "    </tr>\n",
       "    <tr>\n",
       "      <th>2</th>\n",
       "      <td>Infox</td>\n",
       "      <td>infox</td>\n",
       "      <td>cpc</td>\n",
       "    </tr>\n",
       "    <tr>\n",
       "      <th>3</th>\n",
       "      <td>Infox</td>\n",
       "      <td>infox-action</td>\n",
       "      <td>cpa</td>\n",
       "    </tr>\n",
       "  </tbody>\n",
       "</table>\n",
       "</div>"
      ],
      "text/plain": [
       "  Партнер    utm_source utm_medium\n",
       "0    СМИ2          smi2        cpm\n",
       "1     РБК           rbc        cpc\n",
       "2   Infox         infox        cpc\n",
       "3   Infox  infox-action        cpa"
      ]
     },
     "execution_count": 9,
     "metadata": {},
     "output_type": "execute_result"
    }
   ],
   "source": [
    "data_top.head()"
   ]
  },
  {
   "cell_type": "code",
   "execution_count": 10,
   "metadata": {},
   "outputs": [
    {
     "data": {
      "text/html": [
       "<div>\n",
       "<style scoped>\n",
       "    .dataframe tbody tr th:only-of-type {\n",
       "        vertical-align: middle;\n",
       "    }\n",
       "\n",
       "    .dataframe tbody tr th {\n",
       "        vertical-align: top;\n",
       "    }\n",
       "\n",
       "    .dataframe thead th {\n",
       "        text-align: right;\n",
       "    }\n",
       "</style>\n",
       "<table border=\"1\" class=\"dataframe\">\n",
       "  <thead>\n",
       "    <tr style=\"text-align: right;\">\n",
       "      <th></th>\n",
       "      <th>utm_source</th>\n",
       "      <th>utm_medium</th>\n",
       "      <th>sales</th>\n",
       "    </tr>\n",
       "  </thead>\n",
       "  <tbody>\n",
       "    <tr>\n",
       "      <th>0</th>\n",
       "      <td>infox</td>\n",
       "      <td>cpc</td>\n",
       "      <td>1534</td>\n",
       "    </tr>\n",
       "    <tr>\n",
       "      <th>1</th>\n",
       "      <td>smi2</td>\n",
       "      <td>cpm</td>\n",
       "      <td>1495</td>\n",
       "    </tr>\n",
       "    <tr>\n",
       "      <th>2</th>\n",
       "      <td>infox-action</td>\n",
       "      <td>cpa</td>\n",
       "      <td>735</td>\n",
       "    </tr>\n",
       "    <tr>\n",
       "      <th>3</th>\n",
       "      <td>rbc</td>\n",
       "      <td>cpc</td>\n",
       "      <td>59</td>\n",
       "    </tr>\n",
       "  </tbody>\n",
       "</table>\n",
       "</div>"
      ],
      "text/plain": [
       "     utm_source utm_medium  sales\n",
       "0         infox        cpc   1534\n",
       "1          smi2        cpm   1495\n",
       "2  infox-action        cpa    735\n",
       "3           rbc        cpc     59"
      ]
     },
     "execution_count": 10,
     "metadata": {},
     "output_type": "execute_result"
    }
   ],
   "source": [
    "data_bottom.head()"
   ]
  },
  {
   "cell_type": "code",
   "execution_count": 11,
   "metadata": {},
   "outputs": [],
   "source": [
    "result = pd.merge(data_top, data_bottom, how='outer', on=['utm_source', 'utm_medium'])"
   ]
  },
  {
   "cell_type": "code",
   "execution_count": 12,
   "metadata": {},
   "outputs": [
    {
     "data": {
      "text/html": [
       "<div>\n",
       "<style scoped>\n",
       "    .dataframe tbody tr th:only-of-type {\n",
       "        vertical-align: middle;\n",
       "    }\n",
       "\n",
       "    .dataframe tbody tr th {\n",
       "        vertical-align: top;\n",
       "    }\n",
       "\n",
       "    .dataframe thead th {\n",
       "        text-align: right;\n",
       "    }\n",
       "</style>\n",
       "<table border=\"1\" class=\"dataframe\">\n",
       "  <thead>\n",
       "    <tr style=\"text-align: right;\">\n",
       "      <th></th>\n",
       "      <th>Партнер</th>\n",
       "      <th>utm_source</th>\n",
       "      <th>utm_medium</th>\n",
       "      <th>sales</th>\n",
       "    </tr>\n",
       "  </thead>\n",
       "  <tbody>\n",
       "    <tr>\n",
       "      <th>0</th>\n",
       "      <td>СМИ2</td>\n",
       "      <td>smi2</td>\n",
       "      <td>cpm</td>\n",
       "      <td>1495</td>\n",
       "    </tr>\n",
       "    <tr>\n",
       "      <th>1</th>\n",
       "      <td>РБК</td>\n",
       "      <td>rbc</td>\n",
       "      <td>cpc</td>\n",
       "      <td>59</td>\n",
       "    </tr>\n",
       "    <tr>\n",
       "      <th>2</th>\n",
       "      <td>Infox</td>\n",
       "      <td>infox</td>\n",
       "      <td>cpc</td>\n",
       "      <td>1534</td>\n",
       "    </tr>\n",
       "    <tr>\n",
       "      <th>3</th>\n",
       "      <td>Infox</td>\n",
       "      <td>infox-action</td>\n",
       "      <td>cpa</td>\n",
       "      <td>735</td>\n",
       "    </tr>\n",
       "  </tbody>\n",
       "</table>\n",
       "</div>"
      ],
      "text/plain": [
       "  Партнер    utm_source utm_medium  sales\n",
       "0    СМИ2          smi2        cpm   1495\n",
       "1     РБК           rbc        cpc     59\n",
       "2   Infox         infox        cpc   1534\n",
       "3   Infox  infox-action        cpa    735"
      ]
     },
     "execution_count": 12,
     "metadata": {},
     "output_type": "execute_result"
    }
   ],
   "source": [
    "result.head()"
   ]
  },
  {
   "cell_type": "markdown",
   "metadata": {},
   "source": [
    "## Параметры Яндекс метрики"
   ]
  },
  {
   "cell_type": "code",
   "execution_count": 13,
   "metadata": {},
   "outputs": [],
   "source": [
    "config_file = open('config.yaml', 'r')\n",
    "config = load(config_file, Loader=FullLoader)\n",
    "token = config['token']\n",
    "headers = {'Authorization': 'OAuth ' + token}\n",
    "API_URL = 'https://api-metrika.yandex.ru/stat/v1/data'\n",
    "counter = '51583145'\n",
    "startDate = '2020-10-01'\n",
    "endDate = '2021-01-31'\n",
    "dimensions = ['ym:s:date', 'ym:s:deviceCategory', 'ym:s:hasAdBlocker', 'ym:s:trafficSource']\n",
    "metrics = ['ym:s:visits', 'ym:s:users', 'ym:s:pageviews']\n",
    "metrics_string = ','.join(metrics)\n",
    "dimensions_string = ','.join(dimensions)"
   ]
  },
  {
   "cell_type": "code",
   "execution_count": 14,
   "metadata": {},
   "outputs": [],
   "source": [
    "f = open('data/report_params.yaml', 'r')\n",
    "params = load(f, Loader=FullLoader)\n",
    "API_URL = 'https://api-metrika.yandex.ru/stat/v1/data'\n",
    "# startDate = (datetime.now() - timedelta(days = params['reports']['dau']['days_ago'])).strftime('%Y-%m-%d')\n",
    "# endDate = (datetime.now() - timedelta(days = 1)).strftime('%Y-%m-%d')\n",
    "dimensions = params['reports']['dau']['dimensions']\n",
    "metrics = params['reports']['dau']['metrics']\n",
    "sortby = params['reports']['dau']['sort']\n",
    "counter = params['metrika counter']"
   ]
  },
  {
   "cell_type": "code",
   "execution_count": 15,
   "metadata": {},
   "outputs": [],
   "source": [
    "def make_request(**kwargs):\n",
    "    \"\"\"Запрос к API Яндекс.Метрики. Возвращает JSON ответа\"\"\"\n",
    "    return requests.get(API_URL, headers=headers, params = kwargs).json()"
   ]
  },
  {
   "cell_type": "code",
   "execution_count": 16,
   "metadata": {},
   "outputs": [],
   "source": [
    "def json_handler(data):\n",
    "    \"\"\"Преобразование ответа JSON в спикок листов\"\"\"\n",
    "    report = []\n",
    "    for line in data['data']:\n",
    "        dimension_list = [x['name'] for x in line['dimensions']]\n",
    "        metrics_list = line['metrics']\n",
    "        report.append(dimension_list + metrics_list)\n",
    "    return report"
   ]
  },
  {
   "cell_type": "code",
   "execution_count": 17,
   "metadata": {},
   "outputs": [],
   "source": [
    "response = make_request(date1 = startDate, date2 = endDate, dimensions = dimensions, metrics = metrics, \n",
    "                    id = counter, sort = sortby, accuracy = 1)"
   ]
  },
  {
   "cell_type": "code",
   "execution_count": 24,
   "metadata": {},
   "outputs": [
    {
     "name": "stdout",
     "output_type": "stream",
     "text": [
      "2021-01-31\n"
     ]
    },
    {
     "data": {
      "text/plain": [
       "[['2020-10-01', 100.0, 89.0, 232.0, 14.0],\n",
       " ['2020-10-02', 79.0, 73.0, 178.0, 20.25316456],\n",
       " ['2020-10-03', 54.0, 51.0, 107.0, 12.96296296],\n",
       " ['2020-10-04', 68.0, 60.0, 123.0, 20.58823529],\n",
       " ['2020-10-05', 91.0, 80.0, 211.0, 19.78021978],\n",
       " ['2020-10-06', 105.0, 92.0, 208.0, 19.04761905],\n",
       " ['2020-10-07', 60.0, 58.0, 130.0, 21.66666667],\n",
       " ['2020-10-08', 86.0, 80.0, 165.0, 22.09302326],\n",
       " ['2020-10-09', 80.0, 75.0, 161.0, 18.75],\n",
       " ['2020-10-10', 68.0, 65.0, 161.0, 19.11764706],\n",
       " ['2020-10-11', 78.0, 74.0, 142.0, 23.07692308],\n",
       " ['2020-10-12', 82.0, 80.0, 196.0, 25.6097561],\n",
       " ['2020-10-13', 88.0, 80.0, 170.0, 13.63636364],\n",
       " ['2020-10-14', 64.0, 57.0, 116.0, 18.75],\n",
       " ['2020-10-15', 87.0, 79.0, 166.0, 25.28735632],\n",
       " ['2020-10-16', 86.0, 80.0, 186.0, 24.41860465],\n",
       " ['2020-10-17', 47.0, 42.0, 98.0, 23.40425532],\n",
       " ['2020-10-18', 53.0, 50.0, 107.0, 16.98113208],\n",
       " ['2020-10-19', 96.0, 88.0, 195.0, 21.875],\n",
       " ['2020-10-20', 86.0, 80.0, 211.0, 24.41860465],\n",
       " ['2020-10-21', 68.0, 65.0, 151.0, 23.52941176],\n",
       " ['2020-10-22', 93.0, 86.0, 185.0, 21.50537634],\n",
       " ['2020-10-23', 87.0, 73.0, 173.0, 14.94252874],\n",
       " ['2020-10-24', 82.0, 77.0, 166.0, 25.6097561],\n",
       " ['2020-10-25', 72.0, 71.0, 115.0, 30.55555556],\n",
       " ['2020-10-26', 94.0, 86.0, 184.0, 18.08510638],\n",
       " ['2020-10-27', 83.0, 79.0, 157.0, 26.5060241],\n",
       " ['2020-10-28', 52.0, 44.0, 111.0, 11.53846154],\n",
       " ['2020-10-29', 95.0, 85.0, 193.0, 25.26315789],\n",
       " ['2020-10-30', 81.0, 78.0, 152.0, 27.16049383],\n",
       " ['2020-10-31', 91.0, 87.0, 148.0, 40.65934066],\n",
       " ['2020-11-01', 85.0, 77.0, 162.0, 20.0],\n",
       " ['2020-11-02', 110.0, 104.0, 239.0, 20.0],\n",
       " ['2020-11-03', 102.0, 96.0, 198.0, 24.50980392],\n",
       " ['2020-11-04', 64.0, 63.0, 145.0, 15.625],\n",
       " ['2020-11-05', 94.0, 83.0, 200.0, 17.0212766],\n",
       " ['2020-11-06', 108.0, 100.0, 232.0, 23.14814815],\n",
       " ['2020-11-07', 52.0, 52.0, 129.0, 21.15384615],\n",
       " ['2020-11-08', 74.0, 65.0, 153.0, 25.67567568],\n",
       " ['2020-11-09', 109.0, 101.0, 194.0, 25.68807339],\n",
       " ['2020-11-10', 92.0, 81.0, 178.0, 18.47826087],\n",
       " ['2020-11-11', 87.0, 83.0, 167.0, 28.73563218],\n",
       " ['2020-11-12', 78.0, 76.0, 136.0, 39.74358974],\n",
       " ['2020-11-13', 114.0, 97.0, 217.0, 22.80701754],\n",
       " ['2020-11-14', 59.0, 57.0, 118.0, 23.72881356],\n",
       " ['2020-11-15', 65.0, 62.0, 118.0, 20.0],\n",
       " ['2020-11-16', 84.0, 81.0, 149.0, 23.80952381],\n",
       " ['2020-11-17', 110.0, 99.0, 226.0, 15.45454545],\n",
       " ['2020-11-18', 95.0, 89.0, 208.0, 17.89473684],\n",
       " ['2020-11-19', 52.0, 47.0, 114.0, 17.30769231],\n",
       " ['2020-11-20', 89.0, 77.0, 212.0, 20.2247191],\n",
       " ['2020-11-21', 32.0, 29.0, 56.0, 15.625],\n",
       " ['2020-11-22', 31.0, 28.0, 49.0, 12.90322581],\n",
       " ['2020-11-23', 49.0, 45.0, 114.0, 6.12244898],\n",
       " ['2020-11-24', 33.0, 29.0, 64.0, 9.09090909],\n",
       " ['2020-11-25', 91.0, 81.0, 197.0, 23.07692308],\n",
       " ['2020-11-26', 86.0, 78.0, 180.0, 17.44186047],\n",
       " ['2020-11-27', 109.0, 98.0, 228.0, 25.68807339],\n",
       " ['2020-11-28', 85.0, 75.0, 162.0, 24.70588235],\n",
       " ['2020-11-29', 63.0, 58.0, 104.0, 28.57142857],\n",
       " ['2020-11-30', 84.0, 76.0, 178.0, 21.42857143],\n",
       " ['2020-12-01', 82.0, 77.0, 149.0, 29.26829268],\n",
       " ['2020-12-02', 74.0, 71.0, 128.0, 21.62162162],\n",
       " ['2020-12-03', 70.0, 67.0, 157.0, 25.71428571],\n",
       " ['2020-12-04', 81.0, 75.0, 149.0, 27.16049383],\n",
       " ['2020-12-05', 85.0, 79.0, 164.0, 22.35294118],\n",
       " ['2020-12-06', 66.0, 60.0, 124.0, 30.3030303],\n",
       " ['2020-12-07', 95.0, 89.0, 183.0, 22.10526316],\n",
       " ['2020-12-08', 74.0, 67.0, 139.0, 21.62162162],\n",
       " ['2020-12-09', 89.0, 82.0, 189.0, 21.34831461],\n",
       " ['2020-12-10', 81.0, 79.0, 154.0, 27.16049383],\n",
       " ['2020-12-11', 76.0, 70.0, 140.0, 25.0],\n",
       " ['2020-12-12', 70.0, 67.0, 134.0, 17.14285714],\n",
       " ['2020-12-13', 72.0, 70.0, 141.0, 18.05555556],\n",
       " ['2020-12-14', 65.0, 62.0, 134.0, 13.84615385],\n",
       " ['2020-12-15', 76.0, 70.0, 150.0, 17.10526316],\n",
       " ['2020-12-16', 93.0, 81.0, 181.0, 18.27956989],\n",
       " ['2020-12-17', 89.0, 86.0, 148.0, 24.71910112],\n",
       " ['2020-12-18', 71.0, 66.0, 132.0, 23.94366197],\n",
       " ['2020-12-19', 63.0, 59.0, 131.0, 25.3968254],\n",
       " ['2020-12-20', 65.0, 63.0, 138.0, 21.53846154],\n",
       " ['2020-12-21', 89.0, 83.0, 156.0, 31.46067416],\n",
       " ['2020-12-22', 38.0, 36.0, 75.0, 18.42105263],\n",
       " ['2020-12-23', 33.0, 30.0, 42.0, 24.24242424],\n",
       " ['2020-12-24', 34.0, 32.0, 40.0, 50.0],\n",
       " ['2020-12-25', 41.0, 39.0, 50.0, 41.46341463],\n",
       " ['2020-12-26', 23.0, 20.0, 27.0, 39.13043478],\n",
       " ['2020-12-27', 11.0, 10.0, 13.0, 54.54545455],\n",
       " ['2020-12-28', 4.0, 3.0, 5.0, 50.0],\n",
       " ['2020-12-29', 6.0, 6.0, 6.0, 83.33333333],\n",
       " ['2020-12-30', 51.0, 49.0, 62.0, 50.98039216],\n",
       " ['2020-12-31', 42.0, 39.0, 47.0, 28.57142857],\n",
       " ['2021-01-01', 41.0, 37.0, 49.0, 26.82926829],\n",
       " ['2021-01-02', 50.0, 46.0, 55.0, 34.0],\n",
       " ['2021-01-03', 20.0, 19.0, 27.0, 25.0],\n",
       " ['2021-01-04', 9.0, 9.0, 9.0, 66.66666667],\n",
       " ['2021-01-05', 1.0, 1.0, 2.0, 0.0],\n",
       " ['2021-01-06', 1.0, 1.0, 3.0, 0.0],\n",
       " ['2021-01-10', 9.0, 8.0, 12.0, 22.22222222],\n",
       " ['2021-01-11', 56.0, 55.0, 64.0, 55.35714286]]"
      ]
     },
     "execution_count": 24,
     "metadata": {},
     "output_type": "execute_result"
    }
   ],
   "source": [
    "data = json_handler(response)\n",
    "data"
   ]
  },
  {
   "cell_type": "code",
   "execution_count": 19,
   "metadata": {},
   "outputs": [],
   "source": [
    "range_data = params['reports']['dau']['range_name']\n",
    "range_name = '{}!{}{}:{}{}'.format(range_data['list'], range_data['start'], 2, range_data['end'], len(data) + 1)"
   ]
  },
  {
   "cell_type": "code",
   "execution_count": 20,
   "metadata": {},
   "outputs": [
    {
     "data": {
      "text/plain": [
       "'daily_metrics!A2:E101'"
      ]
     },
     "execution_count": 20,
     "metadata": {},
     "output_type": "execute_result"
    }
   ],
   "source": [
    "range_name"
   ]
  },
  {
   "cell_type": "code",
   "execution_count": 21,
   "metadata": {},
   "outputs": [],
   "source": [
    "body = {'values': data}"
   ]
  },
  {
   "cell_type": "code",
   "execution_count": 22,
   "metadata": {},
   "outputs": [
    {
     "name": "stdout",
     "output_type": "stream",
     "text": [
      "{'values': [['2020-10-01', 100.0, 89.0, 232.0, 14.0],\n",
      "            ['2020-10-02', 79.0, 73.0, 178.0, 20.25316456],\n",
      "            ['2020-10-03', 54.0, 51.0, 107.0, 12.96296296],\n",
      "            ['2020-10-04', 68.0, 60.0, 123.0, 20.58823529],\n",
      "            ['2020-10-05', 91.0, 80.0, 211.0, 19.78021978],\n",
      "            ['2020-10-06', 105.0, 92.0, 208.0, 19.04761905],\n",
      "            ['2020-10-07', 60.0, 58.0, 130.0, 21.66666667],\n",
      "            ['2020-10-08', 86.0, 80.0, 165.0, 22.09302326],\n",
      "            ['2020-10-09', 80.0, 75.0, 161.0, 18.75],\n",
      "            ['2020-10-10', 68.0, 65.0, 161.0, 19.11764706],\n",
      "            ['2020-10-11', 78.0, 74.0, 142.0, 23.07692308],\n",
      "            ['2020-10-12', 82.0, 80.0, 196.0, 25.6097561],\n",
      "            ['2020-10-13', 88.0, 80.0, 170.0, 13.63636364],\n",
      "            ['2020-10-14', 64.0, 57.0, 116.0, 18.75],\n",
      "            ['2020-10-15', 87.0, 79.0, 166.0, 25.28735632],\n",
      "            ['2020-10-16', 86.0, 80.0, 186.0, 24.41860465],\n",
      "            ['2020-10-17', 47.0, 42.0, 98.0, 23.40425532],\n",
      "            ['2020-10-18', 53.0, 50.0, 107.0, 16.98113208],\n",
      "            ['2020-10-19', 96.0, 88.0, 195.0, 21.875],\n",
      "            ['2020-10-20', 86.0, 80.0, 211.0, 24.41860465],\n",
      "            ['2020-10-21', 68.0, 65.0, 151.0, 23.52941176],\n",
      "            ['2020-10-22', 93.0, 86.0, 185.0, 21.50537634],\n",
      "            ['2020-10-23', 87.0, 73.0, 173.0, 14.94252874],\n",
      "            ['2020-10-24', 82.0, 77.0, 166.0, 25.6097561],\n",
      "            ['2020-10-25', 72.0, 71.0, 115.0, 30.55555556],\n",
      "            ['2020-10-26', 94.0, 86.0, 184.0, 18.08510638],\n",
      "            ['2020-10-27', 83.0, 79.0, 157.0, 26.5060241],\n",
      "            ['2020-10-28', 52.0, 44.0, 111.0, 11.53846154],\n",
      "            ['2020-10-29', 95.0, 85.0, 193.0, 25.26315789],\n",
      "            ['2020-10-30', 81.0, 78.0, 152.0, 27.16049383],\n",
      "            ['2020-10-31', 91.0, 87.0, 148.0, 40.65934066],\n",
      "            ['2020-11-01', 85.0, 77.0, 162.0, 20.0],\n",
      "            ['2020-11-02', 110.0, 104.0, 239.0, 20.0],\n",
      "            ['2020-11-03', 102.0, 96.0, 198.0, 24.50980392],\n",
      "            ['2020-11-04', 64.0, 63.0, 145.0, 15.625],\n",
      "            ['2020-11-05', 94.0, 83.0, 200.0, 17.0212766],\n",
      "            ['2020-11-06', 108.0, 100.0, 232.0, 23.14814815],\n",
      "            ['2020-11-07', 52.0, 52.0, 129.0, 21.15384615],\n",
      "            ['2020-11-08', 74.0, 65.0, 153.0, 25.67567568],\n",
      "            ['2020-11-09', 109.0, 101.0, 194.0, 25.68807339],\n",
      "            ['2020-11-10', 92.0, 81.0, 178.0, 18.47826087],\n",
      "            ['2020-11-11', 87.0, 83.0, 167.0, 28.73563218],\n",
      "            ['2020-11-12', 78.0, 76.0, 136.0, 39.74358974],\n",
      "            ['2020-11-13', 114.0, 97.0, 217.0, 22.80701754],\n",
      "            ['2020-11-14', 59.0, 57.0, 118.0, 23.72881356],\n",
      "            ['2020-11-15', 65.0, 62.0, 118.0, 20.0],\n",
      "            ['2020-11-16', 84.0, 81.0, 149.0, 23.80952381],\n",
      "            ['2020-11-17', 110.0, 99.0, 226.0, 15.45454545],\n",
      "            ['2020-11-18', 95.0, 89.0, 208.0, 17.89473684],\n",
      "            ['2020-11-19', 52.0, 47.0, 114.0, 17.30769231],\n",
      "            ['2020-11-20', 89.0, 77.0, 212.0, 20.2247191],\n",
      "            ['2020-11-21', 32.0, 29.0, 56.0, 15.625],\n",
      "            ['2020-11-22', 31.0, 28.0, 49.0, 12.90322581],\n",
      "            ['2020-11-23', 49.0, 45.0, 114.0, 6.12244898],\n",
      "            ['2020-11-24', 33.0, 29.0, 64.0, 9.09090909],\n",
      "            ['2020-11-25', 91.0, 81.0, 197.0, 23.07692308],\n",
      "            ['2020-11-26', 86.0, 78.0, 180.0, 17.44186047],\n",
      "            ['2020-11-27', 109.0, 98.0, 228.0, 25.68807339],\n",
      "            ['2020-11-28', 85.0, 75.0, 162.0, 24.70588235],\n",
      "            ['2020-11-29', 63.0, 58.0, 104.0, 28.57142857],\n",
      "            ['2020-11-30', 84.0, 76.0, 178.0, 21.42857143],\n",
      "            ['2020-12-01', 82.0, 77.0, 149.0, 29.26829268],\n",
      "            ['2020-12-02', 74.0, 71.0, 128.0, 21.62162162],\n",
      "            ['2020-12-03', 70.0, 67.0, 157.0, 25.71428571],\n",
      "            ['2020-12-04', 81.0, 75.0, 149.0, 27.16049383],\n",
      "            ['2020-12-05', 85.0, 79.0, 164.0, 22.35294118],\n",
      "            ['2020-12-06', 66.0, 60.0, 124.0, 30.3030303],\n",
      "            ['2020-12-07', 95.0, 89.0, 183.0, 22.10526316],\n",
      "            ['2020-12-08', 74.0, 67.0, 139.0, 21.62162162],\n",
      "            ['2020-12-09', 89.0, 82.0, 189.0, 21.34831461],\n",
      "            ['2020-12-10', 81.0, 79.0, 154.0, 27.16049383],\n",
      "            ['2020-12-11', 76.0, 70.0, 140.0, 25.0],\n",
      "            ['2020-12-12', 70.0, 67.0, 134.0, 17.14285714],\n",
      "            ['2020-12-13', 72.0, 70.0, 141.0, 18.05555556],\n",
      "            ['2020-12-14', 65.0, 62.0, 134.0, 13.84615385],\n",
      "            ['2020-12-15', 76.0, 70.0, 150.0, 17.10526316],\n",
      "            ['2020-12-16', 93.0, 81.0, 181.0, 18.27956989],\n",
      "            ['2020-12-17', 89.0, 86.0, 148.0, 24.71910112],\n",
      "            ['2020-12-18', 71.0, 66.0, 132.0, 23.94366197],\n",
      "            ['2020-12-19', 63.0, 59.0, 131.0, 25.3968254],\n",
      "            ['2020-12-20', 65.0, 63.0, 138.0, 21.53846154],\n",
      "            ['2020-12-21', 89.0, 83.0, 156.0, 31.46067416],\n",
      "            ['2020-12-22', 38.0, 36.0, 75.0, 18.42105263],\n",
      "            ['2020-12-23', 33.0, 30.0, 42.0, 24.24242424],\n",
      "            ['2020-12-24', 34.0, 32.0, 40.0, 50.0],\n",
      "            ['2020-12-25', 41.0, 39.0, 50.0, 41.46341463],\n",
      "            ['2020-12-26', 23.0, 20.0, 27.0, 39.13043478],\n",
      "            ['2020-12-27', 11.0, 10.0, 13.0, 54.54545455],\n",
      "            ['2020-12-28', 4.0, 3.0, 5.0, 50.0],\n",
      "            ['2020-12-29', 6.0, 6.0, 6.0, 83.33333333],\n",
      "            ['2020-12-30', 51.0, 49.0, 62.0, 50.98039216],\n",
      "            ['2020-12-31', 42.0, 39.0, 47.0, 28.57142857],\n",
      "            ['2021-01-01', 41.0, 37.0, 49.0, 26.82926829],\n",
      "            ['2021-01-02', 50.0, 46.0, 55.0, 34.0],\n",
      "            ['2021-01-03', 20.0, 19.0, 27.0, 25.0],\n",
      "            ['2021-01-04', 9.0, 9.0, 9.0, 66.66666667],\n",
      "            ['2021-01-05', 1.0, 1.0, 2.0, 0.0],\n",
      "            ['2021-01-06', 1.0, 1.0, 3.0, 0.0],\n",
      "            ['2021-01-10', 9.0, 8.0, 12.0, 22.22222222],\n",
      "            ['2021-01-11', 56.0, 55.0, 64.0, 55.35714286]]}\n"
     ]
    }
   ],
   "source": [
    "pprint(body)"
   ]
  },
  {
   "cell_type": "code",
   "execution_count": 23,
   "metadata": {},
   "outputs": [
    {
     "data": {
      "text/plain": [
       "{'spreadsheetId': '1CmQqTVuzqDs5WX7fNAlB43AvTsoOfYqIE266impvCJI',\n",
       " 'updatedRange': 'daily_metrics!A2:E101',\n",
       " 'updatedRows': 100,\n",
       " 'updatedColumns': 5,\n",
       " 'updatedCells': 500}"
      ]
     },
     "execution_count": 23,
     "metadata": {},
     "output_type": "execute_result"
    }
   ],
   "source": [
    "service.spreadsheets().values().update(spreadsheetId=spreadsheetId, range=range_name, valueInputOption='USER_ENTERED', body=body).execute()"
   ]
  },
  {
   "cell_type": "code",
   "execution_count": null,
   "metadata": {},
   "outputs": [],
   "source": []
  },
  {
   "cell_type": "code",
   "execution_count": null,
   "metadata": {},
   "outputs": [],
   "source": []
  }
 ],
 "metadata": {
  "kernelspec": {
   "display_name": "Python 3",
   "language": "python",
   "name": "python3"
  },
  "language_info": {
   "codemirror_mode": {
    "name": "ipython",
    "version": 3
   },
   "file_extension": ".py",
   "mimetype": "text/x-python",
   "name": "python",
   "nbconvert_exporter": "python",
   "pygments_lexer": "ipython3",
   "version": "3.8.5"
  }
 },
 "nbformat": 4,
 "nbformat_minor": 4
}
