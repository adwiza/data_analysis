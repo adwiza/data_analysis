{
 "cells": [
  {
   "cell_type": "code",
   "execution_count": 1,
   "metadata": {},
   "outputs": [],
   "source": [
    "# !pip install --upgrade python-telegram-bot"
   ]
  },
  {
   "cell_type": "code",
   "execution_count": 2,
   "metadata": {},
   "outputs": [],
   "source": [
    "import telegram\n",
    "from yaml import load, SafeLoader"
   ]
  },
  {
   "cell_type": "code",
   "execution_count": 3,
   "metadata": {},
   "outputs": [],
   "source": [
    "with open('config.yaml') as cfg_file:\n",
    "    config = load(cfg_file, Loader=SafeLoader)\n",
    "    token = config['bot_token']"
   ]
  },
  {
   "cell_type": "code",
   "execution_count": 4,
   "metadata": {},
   "outputs": [],
   "source": [
    "bot = telegram.Bot(token)"
   ]
  },
  {
   "cell_type": "code",
   "execution_count": 5,
   "metadata": {},
   "outputs": [
    {
     "name": "stdout",
     "output_type": "stream",
     "text": [
      "{'update_id': 995188624, 'message': {'message_id': 8, 'date': 1611310297, 'chat': {'id': -1001362982920, 'type': 'supergroup', 'title': 'MP REPORTS'}, 'entities': [], 'caption_entities': [], 'photo': [], 'new_chat_members': [{'id': 190149641, 'first_name': 'Chat ID Echo', 'is_bot': True, 'username': 'chatid_echo_bot'}], 'new_chat_photo': [], 'delete_chat_photo': False, 'group_chat_created': False, 'supergroup_chat_created': False, 'channel_chat_created': False, 'from': {'id': 449671146, 'first_name': 'Alisher', 'is_bot': False, 'last_name': 'Soliyev', 'username': 'VillageOfDiamond'}}}\n",
      "{'update_id': 995188625, 'message': {'message_id': 10, 'date': 1611310361, 'chat': {'id': -1001362982920, 'type': 'supergroup', 'title': 'MP REPORTS'}, 'entities': [], 'caption_entities': [], 'photo': [], 'new_chat_members': [], 'left_chat_member': {'id': 190149641, 'first_name': 'Chat ID Echo', 'is_bot': True, 'username': 'chatid_echo_bot'}, 'new_chat_photo': [], 'delete_chat_photo': False, 'group_chat_created': False, 'supergroup_chat_created': False, 'channel_chat_created': False, 'from': {'id': 1362608, 'first_name': 'Sarvar', 'is_bot': False, 'last_name': 'Azimov', 'username': 'SarriuS'}}}\n",
      "{'update_id': 995188626, 'message': {'message_id': 11, 'date': 1611310536, 'chat': {'id': -1001362982920, 'type': 'supergroup', 'title': 'MP REPORTS'}, 'entities': [], 'caption_entities': [], 'photo': [], 'new_chat_members': [{'id': 190149641, 'first_name': 'Chat ID Echo', 'is_bot': True, 'username': 'chatid_echo_bot'}], 'new_chat_photo': [], 'delete_chat_photo': False, 'group_chat_created': False, 'supergroup_chat_created': False, 'channel_chat_created': False, 'from': {'id': 1362608, 'first_name': 'Sarvar', 'is_bot': False, 'last_name': 'Azimov', 'username': 'SarriuS'}}}\n",
      "{'update_id': 995188627, 'message': {'message_id': 13, 'date': 1611310588, 'chat': {'id': -1001362982920, 'type': 'supergroup', 'title': 'MP REPORTS'}, 'entities': [], 'caption_entities': [], 'photo': [], 'new_chat_members': [], 'left_chat_member': {'id': 190149641, 'first_name': 'Chat ID Echo', 'is_bot': True, 'username': 'chatid_echo_bot'}, 'new_chat_photo': [], 'delete_chat_photo': False, 'group_chat_created': False, 'supergroup_chat_created': False, 'channel_chat_created': False, 'from': {'id': 1362608, 'first_name': 'Sarvar', 'is_bot': False, 'last_name': 'Azimov', 'username': 'SarriuS'}}}\n",
      "{'update_id': 995188628, 'message': {'message_id': 14, 'date': 1611310861, 'chat': {'id': -1001362982920, 'type': 'supergroup', 'title': 'MP REPORTS'}, 'entities': [], 'caption_entities': [], 'photo': [], 'new_chat_members': [{'id': 190149641, 'first_name': 'Chat ID Echo', 'is_bot': True, 'username': 'chatid_echo_bot'}], 'new_chat_photo': [], 'delete_chat_photo': False, 'group_chat_created': False, 'supergroup_chat_created': False, 'channel_chat_created': False, 'from': {'id': 1362608, 'first_name': 'Sarvar', 'is_bot': False, 'last_name': 'Azimov', 'username': 'SarriuS'}}}\n",
      "{'update_id': 995188629, 'message': {'message_id': 16, 'date': 1611310879, 'chat': {'id': -1001362982920, 'type': 'supergroup', 'title': 'MP REPORTS'}, 'entities': [], 'caption_entities': [], 'photo': [], 'new_chat_members': [], 'left_chat_member': {'id': 190149641, 'first_name': 'Chat ID Echo', 'is_bot': True, 'username': 'chatid_echo_bot'}, 'new_chat_photo': [], 'delete_chat_photo': False, 'group_chat_created': False, 'supergroup_chat_created': False, 'channel_chat_created': False, 'from': {'id': 1362608, 'first_name': 'Sarvar', 'is_bot': False, 'last_name': 'Azimov', 'username': 'SarriuS'}}}\n",
      "{'update_id': 995188630, 'message': {'message_id': 17, 'date': 1611310918, 'chat': {'id': -1001362982920, 'type': 'supergroup', 'title': 'MP REPORTS'}, 'entities': [], 'caption_entities': [], 'photo': [], 'new_chat_members': [{'id': 186675376, 'first_name': 'GetIDs Bot', 'is_bot': True, 'username': 'getidsbot'}], 'new_chat_photo': [], 'delete_chat_photo': False, 'group_chat_created': False, 'supergroup_chat_created': False, 'channel_chat_created': False, 'from': {'id': 1362608, 'first_name': 'Sarvar', 'is_bot': False, 'last_name': 'Azimov', 'username': 'SarriuS'}}}\n",
      "{'update_id': 995188631, 'message': {'message_id': 18, 'date': 1611310930, 'chat': {'id': -1001362982920, 'type': 'supergroup', 'title': 'MP REPORTS'}, 'text': '/start@getidsbot', 'entities': [{'type': 'bot_command', 'offset': 0, 'length': 16}], 'caption_entities': [], 'photo': [], 'new_chat_members': [], 'new_chat_photo': [], 'delete_chat_photo': False, 'group_chat_created': False, 'supergroup_chat_created': False, 'channel_chat_created': False, 'from': {'id': 449671146, 'first_name': 'Alisher', 'is_bot': False, 'last_name': 'Soliyev', 'username': 'VillageOfDiamond'}}}\n",
      "{'update_id': 995188632, 'message': {'message_id': 19, 'date': 1611310934, 'chat': {'id': -1001362982920, 'type': 'supergroup', 'title': 'MP REPORTS'}, 'text': '/start@getidsbot', 'entities': [{'type': 'bot_command', 'offset': 0, 'length': 16}], 'caption_entities': [], 'photo': [], 'new_chat_members': [], 'new_chat_photo': [], 'delete_chat_photo': False, 'group_chat_created': False, 'supergroup_chat_created': False, 'channel_chat_created': False, 'from': {'id': 1362608, 'first_name': 'Sarvar', 'is_bot': False, 'last_name': 'Azimov', 'username': 'SarriuS'}}}\n",
      "{'update_id': 995188633, 'message': {'message_id': 20, 'date': 1611310953, 'chat': {'id': -1001362982920, 'type': 'supergroup', 'title': 'MP REPORTS'}, 'entities': [], 'caption_entities': [], 'photo': [], 'new_chat_members': [], 'left_chat_member': {'id': 186675376, 'first_name': 'GetIDs Bot', 'is_bot': True, 'username': 'getidsbot'}, 'new_chat_photo': [], 'delete_chat_photo': False, 'group_chat_created': False, 'supergroup_chat_created': False, 'channel_chat_created': False, 'from': {'id': 1362608, 'first_name': 'Sarvar', 'is_bot': False, 'last_name': 'Azimov', 'username': 'SarriuS'}}}\n",
      "{'update_id': 995188634, 'message': {'message_id': 9, 'date': 1611311252, 'chat': {'id': 449671146, 'type': 'private', 'username': 'VillageOfDiamond', 'first_name': 'Alisher', 'last_name': 'Soliyev'}, 'text': '/start', 'entities': [{'type': 'bot_command', 'offset': 0, 'length': 6}], 'caption_entities': [], 'photo': [], 'new_chat_members': [], 'new_chat_photo': [], 'delete_chat_photo': False, 'group_chat_created': False, 'supergroup_chat_created': False, 'channel_chat_created': False, 'from': {'id': 449671146, 'first_name': 'Alisher', 'is_bot': False, 'last_name': 'Soliyev', 'username': 'VillageOfDiamond'}}}\n",
      "{'update_id': 995188635, 'message': {'message_id': 22, 'date': 1611317587, 'chat': {'id': -1001362982920, 'type': 'supergroup', 'title': 'MP REPORTS'}, 'entities': [], 'caption_entities': [], 'photo': [], 'new_chat_members': [{'id': 1597418329, 'first_name': 'report_sender', 'is_bot': True, 'username': 'Report_Sender_Bot'}, {'id': 1506952942, 'first_name': 'sender_d', 'is_bot': True, 'username': 'sales_senderbot'}], 'new_chat_photo': [], 'delete_chat_photo': False, 'group_chat_created': False, 'supergroup_chat_created': False, 'channel_chat_created': False, 'from': {'id': 119364605, 'first_name': 'Gayrat', 'is_bot': False, 'last_name': 'AK', 'username': 'kgaGo'}}}\n",
      "{'update_id': 995188636, 'message': {'message_id': 23, 'date': 1611317836, 'chat': {'id': -1001362982920, 'type': 'supergroup', 'title': 'MP REPORTS'}, 'entities': [], 'caption_entities': [], 'photo': [], 'new_chat_members': [{'id': 190149641, 'first_name': 'Chat ID Echo', 'is_bot': True, 'username': 'chatid_echo_bot'}], 'new_chat_photo': [], 'delete_chat_photo': False, 'group_chat_created': False, 'supergroup_chat_created': False, 'channel_chat_created': False, 'from': {'id': 119364605, 'first_name': 'Gayrat', 'is_bot': False, 'last_name': 'AK', 'username': 'kgaGo'}}}\n",
      "{'update_id': 995188637, 'message': {'message_id': 25, 'date': 1611317890, 'chat': {'id': -1001362982920, 'type': 'supergroup', 'title': 'MP REPORTS'}, 'entities': [], 'caption_entities': [], 'photo': [], 'new_chat_members': [], 'left_chat_member': {'id': 190149641, 'first_name': 'Chat ID Echo', 'is_bot': True, 'username': 'chatid_echo_bot'}, 'new_chat_photo': [], 'delete_chat_photo': False, 'group_chat_created': False, 'supergroup_chat_created': False, 'channel_chat_created': False, 'from': {'id': 1362608, 'first_name': 'Sarvar', 'is_bot': False, 'last_name': 'Azimov', 'username': 'SarriuS'}}}\n",
      "{'update_id': 995188638, 'message': {'message_id': 26, 'date': 1611320934, 'chat': {'id': -1001362982920, 'type': 'supergroup', 'title': 'MP REPORTS'}, 'forward_from': {'id': 769184672, 'first_name': 'report_sender', 'is_bot': True, 'username': 'clientmp_bot'}, 'forward_date': 1611320890, 'text': '   22-01-2021 18:10\\n      Филиал      \\n1.QORATOSH  : 10\\xa0979$\\n2.NUKUS     : 9\\xa0579$\\n3.SERGELI   : 9\\xa0185$\\n4.ROHAT     : 9\\xa0003$\\n5.URGANCH   : 7\\xa0719$\\n6.GORKIY    : 6\\xa0701$\\n7.CHILONZOR : 5\\xa0439$\\n8.YUNUSOBOD : 4\\xa0980$\\n9.QARSHI    : 4\\xa0321$\\n10.JIZZAX    : 4\\xa0056$\\n11.GIJDUVON  : 3\\xa0172$\\n12.ONLINE    : 3\\xa0019$\\n13.UCHTEPA   : 2\\xa0750$\\n14.QOQON     : 2\\xa0614$\\n15.DEPO      : 2\\xa0590$\\n16.SAMARQAND : 2\\xa0174$\\n17.NOVOMOSKOV: 1\\xa0722$\\n18.YANGI QOQON: 1\\xa0650$\\n19.FARGONA   : 1\\xa0153$\\n20.KELES     : 1\\xa0127$\\n21.QOYLIQ    : 1\\xa0099$\\n  Итог       : 95\\xa0031$\\n\\n       Отдел      \\n1.КБТ ОТДЕЛ     :34\\xa0101$\\n2.ТЕЛЕФОН ОТДЕЛ :22\\xa0080$\\n3.ТВ ОТДЕЛ      :20\\xa0767$\\n4.КОМПЮТЕР ОТДЕЛ:15\\xa0756$\\n5.МБТ ОТДЕЛ     :2\\xa0310$\\n6.ДОСТАВКА  И ПАКЕТ:17$\\n  Итог       : 95\\xa0031$\\n\\n       Артел КБТ \\n1.КБТ ОТДЕЛ     :23\\xa0820$\\n2.ТВ ОТДЕЛ      :18\\xa0261$\\n3.ТЕЛЕФОН ОТДЕЛ :1\\xa0440$\\n  Итог       : 43\\xa0522$', 'entities': [{'type': 'code', 'offset': 0, 'length': 19}, {'type': 'code', 'offset': 20, 'length': 6}, {'type': 'bold', 'offset': 26, 'length': 6}, {'type': 'code', 'offset': 32, 'length': 6}, {'type': 'code', 'offset': 39, 'length': 455}, {'type': 'code', 'offset': 494, 'length': 2}, {'type': 'bold', 'offset': 496, 'length': 4}, {'type': 'code', 'offset': 500, 'length': 9}, {'type': 'bold', 'offset': 509, 'length': 7}, {'type': 'code', 'offset': 518, 'length': 7}, {'type': 'bold', 'offset': 525, 'length': 5}, {'type': 'code', 'offset': 530, 'length': 6}, {'type': 'code', 'offset': 537, 'length': 148}, {'type': 'code', 'offset': 685, 'length': 2}, {'type': 'bold', 'offset': 687, 'length': 4}, {'type': 'code', 'offset': 691, 'length': 9}, {'type': 'bold', 'offset': 700, 'length': 7}, {'type': 'code', 'offset': 709, 'length': 7}, {'type': 'bold', 'offset': 716, 'length': 9}, {'type': 'code', 'offset': 725, 'length': 1}, {'type': 'code', 'offset': 727, 'length': 74}, {'type': 'code', 'offset': 801, 'length': 2}, {'type': 'bold', 'offset': 803, 'length': 4}, {'type': 'code', 'offset': 807, 'length': 9}, {'type': 'bold', 'offset': 816, 'length': 7}], 'caption_entities': [], 'photo': [], 'new_chat_members': [], 'new_chat_photo': [], 'delete_chat_photo': False, 'group_chat_created': False, 'supergroup_chat_created': False, 'channel_chat_created': False, 'from': {'id': 1362608, 'first_name': 'Sarvar', 'is_bot': False, 'last_name': 'Azimov', 'username': 'SarriuS'}}}\n",
      "{'update_id': 995188639, 'message': {'message_id': 27, 'date': 1611321465, 'chat': {'id': -1001362982920, 'type': 'supergroup', 'title': 'MP REPORTS'}, 'text': \"Texnik sabablarga ko'ra, savdo danniylari tushmayabdi. \\nXatolik topilguncha danniylar bo'lmaydi.\", 'entities': [], 'caption_entities': [], 'photo': [], 'new_chat_members': [], 'new_chat_photo': [], 'delete_chat_photo': False, 'group_chat_created': False, 'supergroup_chat_created': False, 'channel_chat_created': False, 'from': {'id': 1362608, 'first_name': 'Sarvar', 'is_bot': False, 'last_name': 'Azimov', 'username': 'SarriuS'}}}\n",
      "{'update_id': 995188640, 'message': {'message_id': 28, 'date': 1611321875, 'chat': {'id': -1001362982920, 'type': 'supergroup', 'title': 'MP REPORTS'}, 'entities': [], 'caption_entities': [], 'photo': [], 'new_chat_members': [{'id': 140657674, 'first_name': \"What's my Telegram ID?\", 'is_bot': True, 'username': 'my_id_bot'}], 'new_chat_photo': [], 'delete_chat_photo': False, 'group_chat_created': False, 'supergroup_chat_created': False, 'channel_chat_created': False, 'from': {'id': 1362608, 'first_name': 'Sarvar', 'is_bot': False, 'last_name': 'Azimov', 'username': 'SarriuS'}}}\n",
      "{'update_id': 995188641, 'message': {'message_id': 30, 'date': 1611321892, 'chat': {'id': -1001362982920, 'type': 'supergroup', 'title': 'MP REPORTS'}, 'entities': [], 'caption_entities': [], 'photo': [], 'new_chat_members': [], 'left_chat_member': {'id': 140657674, 'first_name': \"What's my Telegram ID?\", 'is_bot': True, 'username': 'my_id_bot'}, 'new_chat_photo': [], 'delete_chat_photo': False, 'group_chat_created': False, 'supergroup_chat_created': False, 'channel_chat_created': False, 'from': {'id': 1362608, 'first_name': 'Sarvar', 'is_bot': False, 'last_name': 'Azimov', 'username': 'SarriuS'}}}\n",
      "{'update_id': 995188642, 'message': {'message_id': 31, 'date': 1611376407, 'chat': {'id': -1001362982920, 'type': 'supergroup', 'title': 'MP REPORTS'}, 'text': '[22.01.2021]\\nСавдо умумий: 117,859$ \\nСавдо онлайн 3,016 $\\n(Рассрочка: 40,429)\\n(Терминал: 19,046)\\n(Наличные: 58,384 )\\n(Савдо ARTEL: 52,831)\\nОнлайн заявка сони: 53\\nОнлайн заявка рассрочка сони  39  \\nЧек сони: 634\\nВходящие звон', 'entities': [], 'caption_entities': [], 'photo': [], 'new_chat_members': [], 'new_chat_photo': [], 'delete_chat_photo': False, 'group_chat_created': False, 'supergroup_chat_created': False, 'channel_chat_created': False, 'from': {'id': 647265832, 'first_name': 'JASUR', 'is_bot': False}}}\n",
      "{'update_id': 995188643, 'message': {'message_id': 32, 'date': 1611376422, 'chat': {'id': -1001362982920, 'type': 'supergroup', 'title': 'MP REPORTS'}, 'entities': [], 'caption_entities': [], 'document': {'file_id': 'BQACAgIAAx0CUT14CAADIGALpyYXMUAcBl8SwYJv6XCvavOjAAKZCQACPQVgSC8vOYF4M126HgQ', 'file_unique_id': 'AgADmQkAAj0FYEg', 'thumb': {'file_id': 'AAMCAgADHQJRPXgIAAMgYAunJhcxQBwGXxLBgm_pcK9q86MAApkJAAI9BWBILy85gXgzXbrXNnOgLgADAQAHbQADQBgAAh4E', 'file_unique_id': 'AQAD1zZzoC4AA0AYAAI', 'width': 257, 'height': 201, 'file_size': 17339}, 'file_name': 'image_2021-01-23_09-33-40.png', 'mime_type': 'image/png', 'file_size': 7262}, 'photo': [], 'new_chat_members': [], 'new_chat_photo': [], 'delete_chat_photo': False, 'group_chat_created': False, 'supergroup_chat_created': False, 'channel_chat_created': False, 'from': {'id': 647265832, 'first_name': 'JASUR', 'is_bot': False}}}\n",
      "{'update_id': 995188644, 'message': {'message_id': 33, 'date': 1611376430, 'chat': {'id': -1001362982920, 'type': 'supergroup', 'title': 'MP REPORTS'}, 'entities': [], 'caption_entities': [], 'photo': [{'file_id': 'AgACAgIAAx0CUT14CAADIWALpy7piINohC3Ma24vncZbQBQ_AAJgsDEbPQVgSD5H6iOgeaHsa88Pmy4AAwEAAwIAA20AA0vfAAIeBA', 'file_unique_id': 'AQADa88Pmy4AA0vfAAI', 'width': 276, 'height': 161, 'file_size': 13081}], 'new_chat_members': [], 'new_chat_photo': [], 'delete_chat_photo': False, 'group_chat_created': False, 'supergroup_chat_created': False, 'channel_chat_created': False, 'from': {'id': 647265832, 'first_name': 'JASUR', 'is_bot': False}}}\n",
      "{'update_id': 995188645, 'message': {'message_id': 10, 'date': 1611391227, 'chat': {'id': -349244427, 'type': 'group', 'title': 'Мои боты', 'all_members_are_administrators': True}, 'entities': [], 'caption_entities': [], 'photo': [], 'new_chat_members': [], 'new_chat_photo': [], 'delete_chat_photo': False, 'group_chat_created': True, 'supergroup_chat_created': False, 'channel_chat_created': False, 'from': {'id': 417208825, 'first_name': 'Алексей', 'is_bot': False, 'last_name': 'Елохин', 'username': 'adwiz', 'language_code': 'ru'}}}\n",
      "{'update_id': 995188646, 'message': {'message_id': 11, 'date': 1611391338, 'chat': {'id': 417208825, 'type': 'private', 'username': 'adwiz', 'first_name': 'Алексей', 'last_name': 'Елохин'}, 'text': '/start', 'entities': [{'type': 'bot_command', 'offset': 0, 'length': 6}], 'caption_entities': [], 'photo': [], 'new_chat_members': [], 'new_chat_photo': [], 'delete_chat_photo': False, 'group_chat_created': False, 'supergroup_chat_created': False, 'channel_chat_created': False, 'from': {'id': 417208825, 'first_name': 'Алексей', 'is_bot': False, 'last_name': 'Елохин', 'username': 'adwiz', 'language_code': 'ru'}}}\n"
     ]
    }
   ],
   "source": [
    "for last_update in bot.get_updates():\n",
    "    print(last_update)"
   ]
  },
  {
   "cell_type": "code",
   "execution_count": 6,
   "metadata": {},
   "outputs": [],
   "source": [
    "chat_id = last_update.message.chat_id"
   ]
  },
  {
   "cell_type": "code",
   "execution_count": 7,
   "metadata": {},
   "outputs": [
    {
     "data": {
      "text/plain": [
       "<telegram.message.Message at 0x1f79d754370>"
      ]
     },
     "execution_count": 7,
     "metadata": {},
     "output_type": "execute_result"
    }
   ],
   "source": [
    "bot.sendMessage(chat_id=chat_id, text='Всё офигенно завершилось')\n",
    "bot.send_document(chat_id=chat_id, document=open('data.txt', 'rb'))"
   ]
  },
  {
   "cell_type": "code",
   "execution_count": null,
   "metadata": {},
   "outputs": [],
   "source": []
  },
  {
   "cell_type": "code",
   "execution_count": null,
   "metadata": {},
   "outputs": [],
   "source": []
  }
 ],
 "metadata": {
  "kernelspec": {
   "display_name": "Python 3",
   "language": "python",
   "name": "python3"
  },
  "language_info": {
   "codemirror_mode": {
    "name": "ipython",
    "version": 3
   },
   "file_extension": ".py",
   "mimetype": "text/x-python",
   "name": "python",
   "nbconvert_exporter": "python",
   "pygments_lexer": "ipython3",
   "version": "3.8.5"
  }
 },
 "nbformat": 4,
 "nbformat_minor": 4
}
