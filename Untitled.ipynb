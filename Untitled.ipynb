{
 "cells": [
  {
   "cell_type": "code",
   "execution_count": 1,
   "metadata": {},
   "outputs": [],
   "source": [
    "import google_auth_oauthlib"
   ]
  },
  {
   "cell_type": "code",
   "execution_count": null,
   "metadata": {},
   "outputs": [
    {
     "name": "stdout",
     "output_type": "stream",
     "text": [
      "Please visit this URL to authorize this application: https://accounts.google.com/o/oauth2/auth?response_type=code&client_id=386714884883-f828qeb2vldi1ndgkjol55rm9shgll7v.apps.googleusercontent.com&redirect_uri=urn%3Aietf%3Awg%3Aoauth%3A2.0%3Aoob&scope=https%3A%2F%2Fwww.googleapis.com%2Fauth%2Fanalytics.readonly&state=Fc41sx978ruKluhR5tY8PDsW8tzH2V&prompt=consent&access_type=offline\n"
     ]
    }
   ],
   "source": [
    "\n",
    "\n",
    "# TODO: Create a client ID for your project.\n",
    "client_id = \"386714884883-f828qeb2vldi1ndgkjol55rm9shgll7v.apps.googleusercontent.com\"\n",
    "client_secret = \"fJGmy71KPg4FI7ARj-AG9ONd\"\n",
    "\n",
    "# TODO: Choose the needed scopes for your applications.\n",
    "scopes = ['https://www.googleapis.com/auth/analytics.readonly']\n",
    "\n",
    "credentials = google_auth_oauthlib.get_user_credentials(\n",
    "    scopes, client_id, client_secret\n",
    ")\n",
    "\n",
    "# 1. Open the link.\n",
    "# 2. Authorize the application to have access to your account.\n",
    "# 3. Copy and paste the authorization code to the prompt.\n",
    "\n",
    "# Use the credentials to construct a client for Google APIs.\n",
    "from google.cloud import bigquery\n",
    "\n",
    "bigquery_client = bigquery.Client(\n",
    "    credentials=credentials, project=\"learn-ga-299112\"\n",
    ")\n",
    "print(list(bigquery_client.query(\"SELECT 1\").result()))"
   ]
  },
  {
   "cell_type": "code",
   "execution_count": null,
   "metadata": {},
   "outputs": [],
   "source": []
  }
 ],
 "metadata": {
  "kernelspec": {
   "display_name": "Python 3",
   "language": "python",
   "name": "python3"
  },
  "language_info": {
   "codemirror_mode": {
    "name": "ipython",
    "version": 3
   },
   "file_extension": ".py",
   "mimetype": "text/x-python",
   "name": "python",
   "nbconvert_exporter": "python",
   "pygments_lexer": "ipython3",
   "version": "3.8.5"
  }
 },
 "nbformat": 4,
 "nbformat_minor": 4
}
