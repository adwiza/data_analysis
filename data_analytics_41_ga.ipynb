{
 "cells": [
  {
   "cell_type": "code",
   "execution_count": 1,
   "metadata": {},
   "outputs": [],
   "source": [
    "import httplib2\n",
    "import argparse\n",
    "from oauth2client import file\n",
    "from oauth2client import client\n",
    "from oauth2client import tools\n",
    "from googleapiclient.discovery import build"
   ]
  },
  {
   "cell_type": "code",
   "execution_count": 2,
   "metadata": {},
   "outputs": [],
   "source": [
    "profile_id = '186677014'"
   ]
  },
  {
   "cell_type": "code",
   "execution_count": 3,
   "metadata": {},
   "outputs": [
    {
     "name": "stdout",
     "output_type": "stream",
     "text": [
      "\n",
      "Your browser has been opened to visit:\n",
      "\n",
      "    https://accounts.google.com/o/oauth2/auth?client_id=386714884883-f828qeb2vldi1ndgkjol55rm9shgll7v.apps.googleusercontent.com&redirect_uri=http%3A%2F%2Flocalhost%3A8080%2F&scope=https%3A%2F%2Fwww.googleapis.com%2Fauth%2Fanalytics.readonly&access_type=offline&response_type=code\n",
      "\n",
      "If your browser is on a different machine then exit and re-run this\n",
      "application with the command-line parameter\n",
      "\n",
      "  --noauth_local_webserver\n",
      "\n",
      "Authentication successful.\n"
     ]
    }
   ],
   "source": [
    "scope = ['https://www.googleapis.com/auth/analytics.readonly']\n",
    "# scope = ['https://www.googleapis.com/auth/androidpublisher']\n",
    "api_name = 'analytics'\n",
    "api_version = 'v3'\n",
    "client_secrets_path = 'client_secret.json'\n",
    "parser = argparse.ArgumentParser(formatter_class=argparse.RawDescriptionHelpFormatter, parents=[tools.argparser])\n",
    "flags = parser.parse_args([])\n",
    "flow = client.flow_from_clientsecrets(client_secrets_path, scope=scope, message=tools.message_if_missing(client_secrets_path))\n",
    "storage = file.Storage(api_name + '.dat')\n",
    "credentials = storage.get()\n",
    "credentials = tools.run_flow(flow, storage, flags)"
   ]
  },
  {
   "cell_type": "code",
   "execution_count": 4,
   "metadata": {},
   "outputs": [],
   "source": [
    "http = credentials.authorize(http=httplib2.Http())\n",
    "service = build(api_name, api_version, http=http)"
   ]
  },
  {
   "cell_type": "code",
   "execution_count": 5,
   "metadata": {},
   "outputs": [
    {
     "data": {
      "text/plain": [
       "{'kind': 'analytics#gaData',\n",
       " 'id': 'https://www.googleapis.com/analytics/v3/data/ga?ids=ga:186677014&dimensions=ga:source,ga:browser&metrics=ga:visits&sort=-ga:visits&filters=ga:medium%3D%3Dorganic&start-date=2018-01-01&end-date=2020-01-15&start-index=1&max-results=25',\n",
       " 'query': {'start-date': '2018-01-01',\n",
       "  'end-date': '2020-01-15',\n",
       "  'ids': 'ga:186677014',\n",
       "  'dimensions': 'ga:source,ga:browser',\n",
       "  'metrics': ['ga:visits'],\n",
       "  'sort': ['-ga:visits'],\n",
       "  'filters': 'ga:medium==organic',\n",
       "  'start-index': 1,\n",
       "  'max-results': 25},\n",
       " 'itemsPerPage': 25,\n",
       " 'totalResults': 24,\n",
       " 'selfLink': 'https://www.googleapis.com/analytics/v3/data/ga?ids=ga:186677014&dimensions=ga:source,ga:browser&metrics=ga:visits&sort=-ga:visits&filters=ga:medium%3D%3Dorganic&start-date=2018-01-01&end-date=2020-01-15&start-index=1&max-results=25',\n",
       " 'profileInfo': {'profileId': '186677014',\n",
       "  'accountId': '131017686',\n",
       "  'webPropertyId': 'UA-131017686-1',\n",
       "  'internalWebPropertyId': '190489411',\n",
       "  'profileName': 'Все данные по веб-сайту',\n",
       "  'tableId': 'ga:186677014'},\n",
       " 'containsSampledData': False,\n",
       " 'columnHeaders': [{'name': 'ga:source',\n",
       "   'columnType': 'DIMENSION',\n",
       "   'dataType': 'STRING'},\n",
       "  {'name': 'ga:browser', 'columnType': 'DIMENSION', 'dataType': 'STRING'},\n",
       "  {'name': 'ga:visits', 'columnType': 'METRIC', 'dataType': 'INTEGER'}],\n",
       " 'totalsForAllResults': {'ga:visits': '452'},\n",
       " 'rows': [['yandex', 'Chrome', '100'],\n",
       "  ['yandex', 'YaBrowser', '76'],\n",
       "  ['yandex', 'Android Webview', '64'],\n",
       "  ['google', 'Chrome', '61'],\n",
       "  ['yandex', 'Firefox', '35'],\n",
       "  ['google', 'Safari', '26'],\n",
       "  ['yandex', 'Safari', '22'],\n",
       "  ['bing', 'Internet Explorer', '16'],\n",
       "  ['yandex', 'Internet Explorer', '16'],\n",
       "  ['yandex', 'Edge', '9'],\n",
       "  ['yandex', 'Opera', '9'],\n",
       "  ['rambler', 'Chrome', '5'],\n",
       "  ['yahoo', 'Safari', '2'],\n",
       "  ['duckduckgo', 'YaBrowser', '1'],\n",
       "  ['google', 'Firefox', '1'],\n",
       "  ['google', 'Internet Explorer', '1'],\n",
       "  ['google', 'Opera', '1'],\n",
       "  ['google', 'Samsung Internet', '1'],\n",
       "  ['rambler', 'Edge', '1'],\n",
       "  ['rambler', 'Internet Explorer', '1'],\n",
       "  ['rambler', 'Opera', '1'],\n",
       "  ['rambler', 'YaBrowser', '1'],\n",
       "  ['yandex', 'Opera Mini', '1'],\n",
       "  ['yandex', 'Samsung Internet', '1']]}"
      ]
     },
     "execution_count": 5,
     "metadata": {},
     "output_type": "execute_result"
    }
   ],
   "source": [
    "service.data().ga().get(\n",
    "    ids='ga:' + profile_id,\n",
    "    start_date='2018-01-01',\n",
    "    end_date='2020-01-15',\n",
    "    metrics='ga:visits',\n",
    "    dimensions='ga:source,ga:browser',\n",
    "    sort='-ga:visits',\n",
    "    filters='ga:medium==organic',\n",
    "    start_index='1',\n",
    "    max_results='25')\\\n",
    ".execute()"
   ]
  },
  {
   "cell_type": "code",
   "execution_count": null,
   "metadata": {},
   "outputs": [],
   "source": []
  },
  {
   "cell_type": "code",
   "execution_count": null,
   "metadata": {},
   "outputs": [],
   "source": []
  },
  {
   "cell_type": "code",
   "execution_count": null,
   "metadata": {},
   "outputs": [],
   "source": []
  }
 ],
 "metadata": {
  "kernelspec": {
   "display_name": "Python 3",
   "language": "python",
   "name": "python3"
  },
  "language_info": {
   "codemirror_mode": {
    "name": "ipython",
    "version": 3
   },
   "file_extension": ".py",
   "mimetype": "text/x-python",
   "name": "python",
   "nbconvert_exporter": "python",
   "pygments_lexer": "ipython3",
   "version": "3.8.5"
  }
 },
 "nbformat": 4,
 "nbformat_minor": 4
}
