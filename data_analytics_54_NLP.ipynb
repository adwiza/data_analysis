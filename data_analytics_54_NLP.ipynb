{
 "cells": [
  {
   "cell_type": "markdown",
   "metadata": {},
   "source": [
    "# Классификатор *отзывов*"
   ]
  },
  {
   "cell_type": "code",
   "execution_count": 6,
   "metadata": {},
   "outputs": [],
   "source": [
    "from nltk.stem import SnowballStemmer\n",
    "from yaml import load, SafeLoader"
   ]
  },
  {
   "cell_type": "code",
   "execution_count": 7,
   "metadata": {},
   "outputs": [],
   "source": [
    "snowball_stemmer = SnowballStemmer('russian')"
   ]
  },
  {
   "cell_type": "code",
   "execution_count": 8,
   "metadata": {},
   "outputs": [
    {
     "data": {
      "text/plain": [
       "'великолепн'"
      ]
     },
     "execution_count": 8,
     "metadata": {},
     "output_type": "execute_result"
    }
   ],
   "source": [
    "snowball_stemmer.stem('великолепный')"
   ]
  },
  {
   "cell_type": "code",
   "execution_count": 11,
   "metadata": {},
   "outputs": [],
   "source": [
    "params = load(open('params.yaml', mode='r', encoding='utf-8'), Loader=SafeLoader)"
   ]
  },
  {
   "cell_type": "code",
   "execution_count": 15,
   "metadata": {},
   "outputs": [],
   "source": [
    "def clear_punctuation(text):\n",
    "    \"\"\"Удаление знаков пунктуации их текста text\"\"\"\n",
    "    symbols = '.,!()\"<>'\n",
    "    spaces = ' ' * len(symbols)\n",
    "    \n",
    "    return text.translate(text.maketrans(symbols, spaces))"
   ]
  },
  {
   "cell_type": "code",
   "execution_count": 18,
   "metadata": {},
   "outputs": [],
   "source": [
    "def classifier(text):\n",
    "    \"\"\"Классификация отзыва text на 'positive', 'negative' и 'undef' по совпадающим основам слов из params.yaml\"\"\"\n",
    "    \n",
    "    text = clear_punctuation(text)\n",
    "    \n",
    "    positive_word_count = len([x for x in text.split(' ') if snowball_stemmer.stem(x) in params['positive']])\n",
    "    negative_word_count = len([x for x in text.split(' ') if snowball_stemmer.stem(x) in params['negative']])\n",
    "                                                                                           \n",
    "    if positive_word_count > negative_word_count:\n",
    "        return 'positive'\n",
    "    \n",
    "    elif positive_word_count < negative_word_count:\n",
    "        return 'negative'\n",
    "    return 'undef'\n",
    "                                                                                           "
   ]
  },
  {
   "cell_type": "code",
   "execution_count": 21,
   "metadata": {},
   "outputs": [
    {
     "data": {
      "text/plain": [
       "'positive'"
      ]
     },
     "execution_count": 21,
     "metadata": {},
     "output_type": "execute_result"
    }
   ],
   "source": [
    "classifier('Интерьер понравился, обслуживание достаточно хорошее, но цены ужасные')"
   ]
  },
  {
   "cell_type": "code",
   "execution_count": null,
   "metadata": {},
   "outputs": [],
   "source": []
  }
 ],
 "metadata": {
  "kernelspec": {
   "display_name": "Python 3",
   "language": "python",
   "name": "python3"
  },
  "language_info": {
   "codemirror_mode": {
    "name": "ipython",
    "version": 3
   },
   "file_extension": ".py",
   "mimetype": "text/x-python",
   "name": "python",
   "nbconvert_exporter": "python",
   "pygments_lexer": "ipython3",
   "version": "3.8.5"
  }
 },
 "nbformat": 4,
 "nbformat_minor": 4
}
