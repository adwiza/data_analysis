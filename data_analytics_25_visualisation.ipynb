{
  "nbformat": 4,
  "nbformat_minor": 0,
  "metadata": {
    "colab": {
      "name": "Копия блокнота \"data_analytics_25_visualisation.ipynb\"",
      "provenance": [],
      "collapsed_sections": [],
      "authorship_tag": "ABX9TyPUsfLY9DqBCfzf2UjUtd2d"
    },
    "kernelspec": {
      "name": "python3",
      "display_name": "Python 3"
    }
  },
  "cells": [
    {
      "cell_type": "code",
      "metadata": {
        "id": "Wp7x9aqJDLTI"
      },
      "source": [
        "import matplotlib.pyplot as plt\n",
        "import seaborn as sns"
      ],
      "execution_count": null,
      "outputs": []
    },
    {
      "cell_type": "code",
      "metadata": {
        "id": "69sWNh2nDVlQ"
      },
      "source": [
        "sns.set()"
      ],
      "execution_count": null,
      "outputs": []
    },
    {
      "cell_type": "code",
      "metadata": {
        "id": "DN6-gPhEDZLd"
      },
      "source": [
        "flights_long = sns.load_dataset('flights')\n",
        "flights"
      ],
      "execution_count": null,
      "outputs": []
    },
    {
      "cell_type": "code",
      "metadata": {
        "id": "upFU_mB5D2st"
      },
      "source": [
        ""
      ],
      "execution_count": null,
      "outputs": []
    }
  ]
}