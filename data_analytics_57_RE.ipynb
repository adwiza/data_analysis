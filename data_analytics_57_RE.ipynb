{
 "cells": [
  {
   "cell_type": "code",
   "execution_count": 1,
   "metadata": {},
   "outputs": [],
   "source": [
    "import re"
   ]
  },
  {
   "cell_type": "code",
   "execution_count": 10,
   "metadata": {},
   "outputs": [],
   "source": [
    "pattern = re.compile(r'.\\*\\/\\d{8}-.*')"
   ]
  },
  {
   "cell_type": "code",
   "execution_count": 7,
   "metadata": {},
   "outputs": [
    {
     "name": "stdout",
     "output_type": "stream",
     "text": [
      "/politics/36188461-s-marta-zhizn-rossiyan-suschestvenno-izmenitsya-iz-za-novyh-zakonov/\n",
      "/world/36007585-tramp-pridumal-kak-reshit-ukrainskiy-vopros/\n",
      "/science/36157853-nasa-sobiraet-ekstrennuyu-press-konferentsiyu-na-temu-vnezemnoy-zhizni/\n",
      "/video/36001498-poyavilis-pervye-podrobnosti-gibeli-natali-melamed/\n",
      "/world/36007585-tramp-pridumal-kak-reshit-ukrainskiy-vopros/?smi2=1\n",
      "/middleeast/36131117-divizion-s-400-ne-zametil-ataki-f-35-pod-damaskom/\n",
      "/economics/36065674-rossiyane-vozmutilis-minimalnymi-zarplatami-v-stranah-es/\n",
      "/politics/36118047-otets-24-detey-potreboval-izvineniy-ot-soloveva/?smi2=1\n",
      "/travel/36194479-v-sheremetevo-passazhiry-ustroili-bunt/\n",
      "/politics/35638742-nesolidno-mariya-zaharova-sdelala-neozhidannoe-priznanie/\n",
      "/video/36012692-tramp-otkrestilsya-ot-rossii-i-putina/\n",
      "/starlife/36174817-guzeeva-rasstalas-s-muzhem/\n",
      "/health/36149308-predlozheno-prostoe-sredstvo-ot-insulta/\n",
      "/science/36139723-set-vzbudorazhila-novost-o-sensatsii-nasa/\n",
      "/cis/36229699-poroshenko-obyavil-vseukrainskiy-traur/\n",
      "/incidents/36225203-tonnel-obrushilsya-v-novoy-moskve-pod-zavalami-lyudi/\n",
      "/politics/36118047-otets-24-detey-potreboval-izvineniy-ot-soloveva/\n",
      "/world/36075956-na-granitse-s-krymom-zahvachena-baza-krymsko-tatarskogo-batalona/\n",
      "/politics/36115220-mid-vystupil-s-preduprezhdeniem-k-rossiyanam/\n",
      "/world/36018565-sbu-opublikovala-zapis-peregovorov-plotnitskogo-o-sbitom-il-76/\n",
      "/politics/36150505-stala-izvestna-prichina-smerti-churkina/\n",
      "/middleeast/36131117-divizion-s-400-ne-zametil-ataki-f-35-pod-damaskom/?smi2=1\n",
      "/sport/36055585-fiyon-maye-my-prouchili-russkih-moshennikov-na-trasse/\n",
      "/crazy-world/36193471-seks-bezhentsy-vernulis-v-germaniyu-iz-novosibirskoy-glubinki/\n",
      "/crazy-world/36087352-moskvicha-shokirovala-nahodka-v-steyke/\n",
      "/incidents/36096689-rossiyskih-turistov-dvazhdy-zakidali-kamnyami-v-abhazii/\n",
      "/video/36225009-otschet-poshel-zaharchenko-nazval-srok-likvidatsii-ukrainy/\n",
      "/health/36139780-opredelen-reshayuschiy-faktor-zdorovya-zubov/\n",
      "/business/36187789-v-rf-hotyat-povysit-nalogi-dlya-obychnyh-grazhdan/\n",
      "/video/35930625-dozvonivshiysya-v-efir-ukrainskogo-tv-rasskazal-o-zhizni-v-krymu/?smi2=1\n",
      "/head/36214416-u-zheny-karachentsova-nashli-alkogol-v-krovi/\n",
      "/head/36038043-foto-otdyhayuschiy-obama-vzbudorazhil-set/slides/\n",
      "/cis/36189830-kiev-arestoval-imuschestvo-v-krymu/\n",
      "/video/36006794-pogibshaya-melamed-ostavila-predsmertnuyu-zapisku/\n",
      "/video/36082961-nikol-kidman-prishla-na-britanskiy-oskar-v-neprilichnom-plate/\n",
      "/incidents/36173928-v-ekaterinburge-migranty-ustroili-bunt/\n",
      "/video/36151719-petrosyanu-grozit-sud/\n",
      "/business/36102731-rubl-rezko-otreagiroval-na-soobscheniya-o-vstreche-putina-s-oreshkinym/\n",
      "/articles/36193368-donbass-reshil-udarit-pervym/\n",
      "/science/36178249-rasshifrovano-predskazanie-nostradamusa-na-2017-god/\n",
      "/world/36206871-na-ukraine-nachalsya-shturm-uchastnikov-blokady-donbassa/\n",
      "/science/36233829-sozdano-lekarstvo-ot-vseh-vidov-raka/\n",
      "/politics/36093799-sbezhavshuyu-iz-rossii-maksakovu-uvolili-iz-gnesinki/\n",
      "/cis/36144647-v-tsentr-kieva-styagivayut-voennuyu-tehniku/\n",
      "/starlife/36140271-skandalnoe-foto-britni-spirs-vzorvalo-instagram/\n",
      "/finances/36043911-rublyu-predrekli-dvoynoy-udar/\n",
      "/starlife/36135554-doch-valerii-snyalas-v-otkrovennoy-fotosessii/\n",
      "/starlife/36005664-dzhennifer-lopes-vzorvala-internet-intimnym-foto/\n",
      "/starlife/36240935-dzhigurde-postavili-diagnoz/\n",
      "/politics/36233197-times-britaniya-peregnula-palku-s-krymom/\n",
      "/articles/36213214-vozmozhna-bolshaya-voyna/\n",
      "/articles/36142564-ukrainu-ureguliruyut-po-tihomu/\n",
      "/starlife/36044627-u-malyshevoy-sdali-nervy-na-peredache/\n",
      "/starlife/36053306-dzhigarhanyan-dal-shokiruyuschee-intervyu-o-byvshih-zhenah/\n",
      "/business/36184872-udar-po-schetchiku-rossiyane-stolknulis-s-dikim-skachkom-tarifov-zhkh/\n",
      "/world/36195262-deputat-savchenko-predlozhila-ukraintsam-posledovat-za-krymom/\n",
      "/starlife/36014715-evelina-bledans-vyshla-v-svet-bez-nizhnego-belya/\n",
      "/europe/36046038-v-parizhskom-metro-progremel-vzryv/\n",
      "/middleeast/36024757-v-sekretnoy-tyurme-v-sirii-povesheny-13-tysyach-chelovek/\n",
      "/video/36202662-nakazanie-dlya-lukashenko-rossiya-nashla-zhestkiy-rychag-protiv-belorussii/\n",
      "/articles/36170146-rossiya-reshila-postavlyat-ugol-napryamuyu-v-donbass/\n",
      "/business/36016781-sberbank-cib-nazval-sroki-devalvatsii-rublya/\n",
      "/politics/36229424-rossiya-vyrazila-protest-bolgarii/\n",
      "/kinomusic/36016432-igorya-krutogo-prooperirovali-v-amerike/\n",
      "/starlife/36008814-minus-odin-nyusha-otkazalas-ehat-v-kiev-na-evrovidenie/\n",
      "/lifestyle/36185060-uchenye-rasskazali-kak-v-buduschem-izmenitsya-seks/\n",
      "/articles/36082911-pribaltika-i-ukraina-v-panike-ili-igla-byvaet-ne-tolko-neftyanaya/\n",
      "/politics/36203629-v-gosdume-obyasnili-perenos-dnya-zaschitnika-otechestva/\n",
      "/economics/36097033-a-zhit-za-schet-rossii-vy-gotovy/?smi2=1\n",
      "/incidents/36003455-natalya-melamed-pered-gibelyu-prozhila-v-lesu-dva-dnya/\n",
      "/starlife/36131560-maksakova-shokirovala-otkrovennymi-fotografiyami/\n",
      "/sport/36235520-v-britanii-razgorelsya-krupneyshiy-doping-skandal-v-istorii/\n",
      "/articles/36093326-shturmovat-donetsk-i-lugansk-budut-pidzhaki/\n",
      "/video/36214784-panayotov-sdelal-shokiruyuschee-priznanie/\n",
      "/world/36215106-lider-ig-obratilsya-k-boevikam-s-proschalnoy-rechyu/\n",
      "/articles/36066499-iz-za-zvaniy-anny-netrebko-i-zary-razgorelis-skandaly/\n",
      "/starlife/36096316-u-lyudmily-maksakovoy-sdali-nervy-posle-pobega-docheri-na-ukrainu/?24smi=1\n",
      "/economics/36097033-a-zhit-za-schet-rossii-vy-gotovy/\n",
      "/starlife/36096182-vdova-valeriya-zolotuhina-vstretila-novuyu-lyubov/\n",
      "/cis/35984145-kreml-prokommentiroval-soobscheniya-smi-o-vozmozhnom-razvale-eaes-iz-za-belorussii/?24smi=1\n",
      "/video/36071019-olimpiyskie-obekty-rio-prevratilis-v-ruiny/\n",
      "/science/36151301-nazvano-posledstvie-zloupotrebleniya-alkogolem/\n",
      "/incidents/36027330-vospitatelnitsu-zatravili-za-erotichnoe-foto-s-vedrom/\n",
      "/world/36103095-dominikanskih-zhurnalistov-ubili-v-pryamom-efire/\n"
     ]
    }
   ],
   "source": [
    "with open('data/URLs.txt', 'r') as f:\n",
    "    for line in f:\n",
    "        line = line.strip()\n",
    "        if pattern.match(line):\n",
    "            print(line)"
   ]
  },
  {
   "cell_type": "code",
   "execution_count": null,
   "metadata": {},
   "outputs": [],
   "source": []
  }
 ],
 "metadata": {
  "kernelspec": {
   "display_name": "Python 3",
   "language": "python",
   "name": "python3"
  },
  "language_info": {
   "codemirror_mode": {
    "name": "ipython",
    "version": 3
   },
   "file_extension": ".py",
   "mimetype": "text/x-python",
   "name": "python",
   "nbconvert_exporter": "python",
   "pygments_lexer": "ipython3",
   "version": "3.8.5"
  }
 },
 "nbformat": 4,
 "nbformat_minor": 4
}
