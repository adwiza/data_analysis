{
 "cells": [
  {
   "cell_type": "code",
   "execution_count": 1,
   "metadata": {},
   "outputs": [],
   "source": [
    "from pymystem3 import Mystem"
   ]
  },
  {
   "cell_type": "code",
   "execution_count": 2,
   "metadata": {},
   "outputs": [],
   "source": [
    "m = Mystem()"
   ]
  },
  {
   "cell_type": "code",
   "execution_count": 6,
   "metadata": {},
   "outputs": [
    {
     "name": "stdout",
     "output_type": "stream",
     "text": [
      "вк вк\n",
      "\n",
      "одноклассники одноклассник\n",
      "\n",
      "порно порно\n",
      "\n",
      "ютуб ютуб\n",
      "\n",
      "вконтакте вконтакте\n",
      "\n",
      "одноклассники моя страница одноклассник мой страница\n",
      "\n",
      "майл майл\n",
      "\n",
      "авито авито\n",
      "\n",
      "переводчик переводчик\n",
      "\n",
      "яндекс яндекс\n",
      "\n",
      "сбербанк онлайн сбербанк онлайн\n",
      "\n",
      "mail mail\n",
      "\n"
     ]
    }
   ],
   "source": [
    "i = 0\n",
    "with open('data/keywords.txt', 'r', encoding='utf-8') as f:\n",
    "    for line in f:\n",
    "        line = line.strip().split('\\t')\n",
    "        word = line[0]\n",
    "        word_count = line[1]\n",
    "        lemmas = m.lemmatize(word)\n",
    "        print(word, ''.join(lemmas))\n",
    "        if i > 10:\n",
    "            break\n",
    "        i += 1"
   ]
  },
  {
   "cell_type": "code",
   "execution_count": null,
   "metadata": {},
   "outputs": [],
   "source": []
  }
 ],
 "metadata": {
  "kernelspec": {
   "display_name": "Python 3",
   "language": "python",
   "name": "python3"
  },
  "language_info": {
   "codemirror_mode": {
    "name": "ipython",
    "version": 3
   },
   "file_extension": ".py",
   "mimetype": "text/x-python",
   "name": "python",
   "nbconvert_exporter": "python",
   "pygments_lexer": "ipython3",
   "version": "3.8.5"
  }
 },
 "nbformat": 4,
 "nbformat_minor": 4
}
