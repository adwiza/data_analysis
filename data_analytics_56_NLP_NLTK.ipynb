{
 "cells": [
  {
   "cell_type": "code",
   "execution_count": 4,
   "metadata": {},
   "outputs": [],
   "source": [
    "from nltk.stem import SnowballStemmer"
   ]
  },
  {
   "cell_type": "code",
   "execution_count": 5,
   "metadata": {},
   "outputs": [
    {
     "name": "stdout",
     "output_type": "stream",
     "text": [
      "вк вк\n",
      "одноклассники одноклассник\n",
      "порно порн\n",
      "ютуб ютуб\n",
      "вконтакте вконтакт\n",
      "одноклассники моя страница одноклассники моя страниц\n",
      "майл майл\n",
      "авито авит\n",
      "переводчик переводчик\n",
      "яндекс яндекс\n",
      "сбербанк онлайн сбербанк онлайн\n",
      "mail mail\n"
     ]
    }
   ],
   "source": [
    "snowball_stemmer = SnowballStemmer('russian')\n",
    "i = 0\n",
    "with open('data/keywords.txt', 'r', encoding='utf-8') as f:\n",
    "    for line in f:\n",
    "        line = line.strip().split('\\t')\n",
    "        word = line[0]\n",
    "        word_count = line[1]\n",
    "        stem = snowball_stemmer.stem(word)\n",
    "        print(word, ''.join(stem))\n",
    "        if i > 10:\n",
    "            break\n",
    "        i += 1"
   ]
  },
  {
   "cell_type": "code",
   "execution_count": null,
   "metadata": {},
   "outputs": [],
   "source": []
  }
 ],
 "metadata": {
  "kernelspec": {
   "display_name": "Python 3",
   "language": "python",
   "name": "python3"
  },
  "language_info": {
   "codemirror_mode": {
    "name": "ipython",
    "version": 3
   },
   "file_extension": ".py",
   "mimetype": "text/x-python",
   "name": "python",
   "nbconvert_exporter": "python",
   "pygments_lexer": "ipython3",
   "version": "3.8.5"
  }
 },
 "nbformat": 4,
 "nbformat_minor": 4
}
