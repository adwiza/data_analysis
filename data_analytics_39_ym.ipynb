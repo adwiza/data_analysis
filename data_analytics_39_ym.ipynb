{
 "cells": [
  {
   "cell_type": "code",
   "execution_count": 1,
   "metadata": {},
   "outputs": [],
   "source": [
    "import requests\n",
    "from pprint import pprint\n",
    "from yaml import load, FullLoader"
   ]
  },
  {
   "cell_type": "code",
   "execution_count": 2,
   "metadata": {},
   "outputs": [],
   "source": [
    "config_file = open('config.yaml', 'r')\n",
    "config = load(config_file, Loader=FullLoader)"
   ]
  },
  {
   "cell_type": "code",
   "execution_count": 3,
   "metadata": {},
   "outputs": [],
   "source": [
    "token = config['token']\n",
    "headers = {'Authorization': 'OAuth ' + token}\n",
    "API_URL = 'https://api-metrika.yandex.ru/stat/v1/data'\n",
    "counter = '51583145'\n",
    "startDate = '2012-12-01'\n",
    "endDate = '2020-12-31'\n",
    "metrics = ['ym:s:visits']\n",
    "dimensions = ['ym:s:dateTime']"
   ]
  },
  {
   "cell_type": "code",
   "execution_count": 4,
   "metadata": {},
   "outputs": [],
   "source": [
    "def make_request(**kwargs):\n",
    "    \"\"\" Запрос к API Яндекс метрики с произворльным\n",
    "    числом параметров\"\"\"\n",
    "    \n",
    "    return requests.get(API_URL, headers=headers, params=kwargs).json()"
   ]
  },
  {
   "cell_type": "code",
   "execution_count": 5,
   "metadata": {},
   "outputs": [],
   "source": [
    "preset = 'traffic'\n",
    "filters = \"ym:s:regionCountryName=='Россия'\"\n",
    "params = {\n",
    "    'date1': startDate,\n",
    "    'date2': endDate,\n",
    "    'id': counter,\n",
    "    'preset': preset,\n",
    "    'filters': filters,\n",
    "}"
   ]
  },
  {
   "cell_type": "code",
   "execution_count": 6,
   "metadata": {},
   "outputs": [],
   "source": [
    "data = make_request(date1=startDate, date2=endDate, id=counter, filters=filters, preset=preset)\n",
    "# data = requests.get(API_URL, headers=headers, params=params).json()"
   ]
  },
  {
   "cell_type": "code",
   "execution_count": 7,
   "metadata": {},
   "outputs": [
    {
     "name": "stdout",
     "output_type": "stream",
     "text": [
      "['ym:s:visits',\n",
      " 'ym:s:users',\n",
      " 'ym:s:pageviews',\n",
      " 'ym:s:percentNewVisitors',\n",
      " 'ym:s:bounceRate',\n",
      " 'ym:s:pageDepth',\n",
      " 'ym:s:avgVisitDurationSeconds']\n",
      "7\n"
     ]
    }
   ],
   "source": [
    "pprint(data['query']['metrics'])\n",
    "print(len(data['query']['metrics']))\n"
   ]
  },
  {
   "cell_type": "code",
   "execution_count": 8,
   "metadata": {},
   "outputs": [
    {
     "name": "stdout",
     "output_type": "stream",
     "text": [
      "{'query': {'ids': [51583145], 'preset': 'traffic', 'dimensions': ['ym:s:datePeriodWeek'], 'metrics': ['ym:s:visits', 'ym:s:users', 'ym:s:pageviews', 'ym:s:percentNewVisitors', 'ym:s:bounceRate', 'ym:s:pageDepth', 'ym:s:avgVisitDurationSeconds'], 'sort': ['-ym:s:datePeriodWeek'], 'date1': '2012-12-01', 'date2': '2020-12-31', 'filters': \"ym:s:regionCountryName=='Россия'\", 'limit': 100, 'offset': 1, 'group': 'Week', 'auto_group_size': '1', 'attr_name': '', 'quantile': '50', 'offline_window': '21', 'attribution': 'LastSign', 'currency': 'RUB', 'adfox_event_id': '0'}, 'data': [{'dimensions': [{'name': '2020-12-14 - 2020-12-20', 'from': '2020-12-14', 'to': '2020-12-20', 'id': '2020-12-14'}], 'metrics': [2000.0, 2000.0, 3000.0, 100.0, 50.0, 1.5, 110.5]}, {'dimensions': [{'name': '2020-12-07 - 2020-12-13', 'from': '2020-12-07', 'to': '2020-12-13', 'id': '2020-12-07'}], 'metrics': [1000.0, 1000.0, 2000.0, 100.0, 0.0, 2.0, 19.0]}, {'dimensions': [{'name': '2020-11-16 - 2020-11-22', 'from': '2020-11-16', 'to': '2020-11-22', 'id': '2020-11-16'}], 'metrics': [1000.0, 1000.0, 1000.0, 100.0, 100.0, 1.0, 0.0]}, {'dimensions': [{'name': '2020-11-09 - 2020-11-15', 'from': '2020-11-09', 'to': '2020-11-15', 'id': '2020-11-09'}], 'metrics': [2000.0, 2000.0, 4000.0, 100.0, 0.0, 2.0, 62.5]}, {'dimensions': [{'name': '2020-10-26 - 2020-11-01', 'from': '2020-10-26', 'to': '2020-11-01', 'id': '2020-10-26'}], 'metrics': [3000.0, 3000.0, 4000.0, 100.0, 33.33333333, 1.33333333, 10.33333333]}, {'dimensions': [{'name': '2020-10-19 - 2020-10-25', 'from': '2020-10-19', 'to': '2020-10-25', 'id': '2020-10-19'}], 'metrics': [2000.0, 2000.0, 5000.0, 100.0, 50.0, 2.5, 5.0]}, {'dimensions': [{'name': '2020-10-05 - 2020-10-11', 'from': '2020-10-05', 'to': '2020-10-11', 'id': '2020-10-05'}], 'metrics': [1000.0, 1000.0, 1000.0, 100.0, 0.0, 1.0, 16.0]}, {'dimensions': [{'name': '2020-09-28 - 2020-10-04', 'from': '2020-09-28', 'to': '2020-10-04', 'id': '2020-09-28'}], 'metrics': [1000.0, 1000.0, 2000.0, 100.0, 0.0, 2.0, 6.0]}, {'dimensions': [{'name': '2020-08-10 - 2020-08-16', 'from': '2020-08-10', 'to': '2020-08-16', 'id': '2020-08-10'}], 'metrics': [3000.0, 1000.0, 3000.0, 100.0, 100.0, 1.0, 0.0]}, {'dimensions': [{'name': '2020-08-03 - 2020-08-09', 'from': '2020-08-03', 'to': '2020-08-09', 'id': '2020-08-03'}], 'metrics': [1000.0, 1000.0, 1000.0, 100.0, 0.0, 1.0, 14.0]}, {'dimensions': [{'name': '2020-07-20 - 2020-07-26', 'from': '2020-07-20', 'to': '2020-07-26', 'id': '2020-07-20'}], 'metrics': [1000.0, 1000.0, 1000.0, 100.0, 100.0, 1.0, 0.0]}, {'dimensions': [{'name': '2020-06-15 - 2020-06-21', 'from': '2020-06-15', 'to': '2020-06-21', 'id': '2020-06-15'}], 'metrics': [1000.0, 1000.0, 4000.0, 100.0, 0.0, 4.0, 81.0]}, {'dimensions': [{'name': '2020-05-18 - 2020-05-24', 'from': '2020-05-18', 'to': '2020-05-24', 'id': '2020-05-18'}], 'metrics': [1000.0, 1000.0, 2000.0, 100.0, 0.0, 2.0, 18.0]}, {'dimensions': [{'name': '2020-04-06 - 2020-04-12', 'from': '2020-04-06', 'to': '2020-04-12', 'id': '2020-04-06'}], 'metrics': [2000.0, 2000.0, 6000.0, 100.0, 0.0, 3.0, 208.5]}, {'dimensions': [{'name': '2020-03-16 - 2020-03-22', 'from': '2020-03-16', 'to': '2020-03-22', 'id': '2020-03-16'}], 'metrics': [1000.0, 1000.0, 2000.0, 100.0, 0.0, 2.0, 15.0]}, {'dimensions': [{'name': '2020-03-09 - 2020-03-15', 'from': '2020-03-09', 'to': '2020-03-15', 'id': '2020-03-09'}], 'metrics': [2000.0, 1000.0, 12000.0, 100.0, 0.0, 6.0, 133.5]}, {'dimensions': [{'name': '2020-01-13 - 2020-01-19', 'from': '2020-01-13', 'to': '2020-01-19', 'id': '2020-01-13'}], 'metrics': [1000.0, 1000.0, 1000.0, 100.0, 0.0, 1.0, 15.0]}, {'dimensions': [{'name': '2019-12-23 - 2019-12-29', 'from': '2019-12-23', 'to': '2019-12-29', 'id': '2019-12-23'}], 'metrics': [1000.0, 1000.0, 2000.0, 100.0, 0.0, 2.0, 386.0]}, {'dimensions': [{'name': '2019-12-16 - 2019-12-22', 'from': '2019-12-16', 'to': '2019-12-22', 'id': '2019-12-16'}], 'metrics': [1000.0, 1000.0, 2000.0, 100.0, 0.0, 2.0, 36.0]}, {'dimensions': [{'name': '2019-12-09 - 2019-12-15', 'from': '2019-12-09', 'to': '2019-12-15', 'id': '2019-12-09'}], 'metrics': [1000.0, 1000.0, 2000.0, 100.0, 0.0, 2.0, 18.0]}, {'dimensions': [{'name': '2019-11-18 - 2019-11-24', 'from': '2019-11-18', 'to': '2019-11-24', 'id': '2019-11-18'}], 'metrics': [3000.0, 2000.0, 4000.0, 100.0, 0.0, 1.33333333, 85.0]}, {'dimensions': [{'name': '2019-11-11 - 2019-11-17', 'from': '2019-11-11', 'to': '2019-11-17', 'id': '2019-11-11'}], 'metrics': [2000.0, 2000.0, 3000.0, 100.0, 50.0, 1.5, 23.0]}, {'dimensions': [{'name': '2019-11-04 - 2019-11-10', 'from': '2019-11-04', 'to': '2019-11-10', 'id': '2019-11-04'}], 'metrics': [3000.0, 3000.0, 9000.0, 100.0, 33.33333333, 3.0, 87.66666667]}, {'dimensions': [{'name': '2019-10-28 - 2019-11-03', 'from': '2019-10-28', 'to': '2019-11-03', 'id': '2019-10-28'}], 'metrics': [1000.0, 1000.0, 1000.0, 100.0, 100.0, 1.0, 0.0]}, {'dimensions': [{'name': '2019-10-21 - 2019-10-27', 'from': '2019-10-21', 'to': '2019-10-27', 'id': '2019-10-21'}], 'metrics': [1000.0, 1000.0, 2000.0, 100.0, 0.0, 2.0, 81.0]}, {'dimensions': [{'name': '2019-10-07 - 2019-10-13', 'from': '2019-10-07', 'to': '2019-10-13', 'id': '2019-10-07'}], 'metrics': [1000.0, 1000.0, 2000.0, 100.0, 0.0, 2.0, 1775.0]}, {'dimensions': [{'name': '2019-08-26 - 2019-09-01', 'from': '2019-08-26', 'to': '2019-09-01', 'id': '2019-08-26'}], 'metrics': [2000.0, 2000.0, 6000.0, 100.0, 0.0, 3.0, 116.5]}, {'dimensions': [{'name': '2019-08-19 - 2019-08-25', 'from': '2019-08-19', 'to': '2019-08-25', 'id': '2019-08-19'}], 'metrics': [1000.0, 1000.0, 2000.0, 100.0, 0.0, 2.0, 32.0]}, {'dimensions': [{'name': '2019-07-22 - 2019-07-28', 'from': '2019-07-22', 'to': '2019-07-28', 'id': '2019-07-22'}], 'metrics': [2000.0, 1000.0, 3000.0, 100.0, 50.0, 1.5, 1.0]}, {'dimensions': [{'name': '2019-07-08 - 2019-07-14', 'from': '2019-07-08', 'to': '2019-07-14', 'id': '2019-07-08'}], 'metrics': [1000.0, 1000.0, 2000.0, 100.0, 0.0, 2.0, 4.0]}, {'dimensions': [{'name': '2019-06-24 - 2019-06-30', 'from': '2019-06-24', 'to': '2019-06-30', 'id': '2019-06-24'}], 'metrics': [1000.0, 1000.0, 12000.0, 100.0, 0.0, 12.0, 112.0]}, {'dimensions': [{'name': '2019-06-17 - 2019-06-23', 'from': '2019-06-17', 'to': '2019-06-23', 'id': '2019-06-17'}], 'metrics': [1000.0, 1000.0, 2000.0, 100.0, 0.0, 2.0, 2.0]}, {'dimensions': [{'name': '2019-06-03 - 2019-06-09', 'from': '2019-06-03', 'to': '2019-06-09', 'id': '2019-06-03'}], 'metrics': [4000.0, 2000.0, 18000.0, 100.0, 0.0, 4.5, 19.25]}, {'dimensions': [{'name': '2019-05-27 - 2019-06-02', 'from': '2019-05-27', 'to': '2019-06-02', 'id': '2019-05-27'}], 'metrics': [1000.0, 1000.0, 3000.0, 100.0, 0.0, 3.0, 156.0]}, {'dimensions': [{'name': '2019-05-20 - 2019-05-26', 'from': '2019-05-20', 'to': '2019-05-26', 'id': '2019-05-20'}], 'metrics': [1000.0, 1000.0, 3000.0, 100.0, 0.0, 3.0, 5.0]}, {'dimensions': [{'name': '2019-05-13 - 2019-05-19', 'from': '2019-05-13', 'to': '2019-05-19', 'id': '2019-05-13'}], 'metrics': [2000.0, 2000.0, 6000.0, 100.0, 0.0, 3.0, 15.5]}, {'dimensions': [{'name': '2019-05-06 - 2019-05-12', 'from': '2019-05-06', 'to': '2019-05-12', 'id': '2019-05-06'}], 'metrics': [2000.0, 2000.0, 5000.0, 100.0, 50.0, 2.5, 11.5]}, {'dimensions': [{'name': '2019-04-22 - 2019-04-28', 'from': '2019-04-22', 'to': '2019-04-28', 'id': '2019-04-22'}], 'metrics': [2000.0, 2000.0, 11000.0, 100.0, 0.0, 5.5, 10.0]}, {'dimensions': [{'name': '2019-04-15 - 2019-04-21', 'from': '2019-04-15', 'to': '2019-04-21', 'id': '2019-04-15'}], 'metrics': [1000.0, 1000.0, 2000.0, 100.0, 0.0, 2.0, 6.0]}, {'dimensions': [{'name': '2019-04-08 - 2019-04-14', 'from': '2019-04-08', 'to': '2019-04-14', 'id': '2019-04-08'}], 'metrics': [1000.0, 1000.0, 2000.0, 100.0, 0.0, 2.0, 2.0]}, {'dimensions': [{'name': '2019-03-18 - 2019-03-24', 'from': '2019-03-18', 'to': '2019-03-24', 'id': '2019-03-18'}], 'metrics': [1000.0, 1000.0, 3000.0, 100.0, 0.0, 3.0, 7.0]}, {'dimensions': [{'name': '2019-03-11 - 2019-03-17', 'from': '2019-03-11', 'to': '2019-03-17', 'id': '2019-03-11'}], 'metrics': [1000.0, 1000.0, 2000.0, 100.0, 0.0, 2.0, 8.0]}, {'dimensions': [{'name': '2019-03-04 - 2019-03-10', 'from': '2019-03-04', 'to': '2019-03-10', 'id': '2019-03-04'}], 'metrics': [3000.0, 1000.0, 6000.0, 100.0, 0.0, 2.0, 16.33333333]}, {'dimensions': [{'name': '2019-02-18 - 2019-02-24', 'from': '2019-02-18', 'to': '2019-02-24', 'id': '2019-02-18'}], 'metrics': [1000.0, 1000.0, 1000.0, 100.0, 100.0, 1.0, 0.0]}, {'dimensions': [{'name': '2019-02-11 - 2019-02-17', 'from': '2019-02-11', 'to': '2019-02-17', 'id': '2019-02-11'}], 'metrics': [2000.0, 2000.0, 6000.0, 100.0, 0.0, 3.0, 7.5]}, {'dimensions': [{'name': '2019-02-04 - 2019-02-10', 'from': '2019-02-04', 'to': '2019-02-10', 'id': '2019-02-04'}], 'metrics': [3000.0, 2000.0, 27000.0, 100.0, 0.0, 9.0, 109.66666667]}, {'dimensions': [{'name': '2019-01-21 - 2019-01-27', 'from': '2019-01-21', 'to': '2019-01-27', 'id': '2019-01-21'}], 'metrics': [1000.0, 1000.0, 2000.0, 100.0, 0.0, 2.0, 22.0]}, {'dimensions': [{'name': '2019-01-14 - 2019-01-20', 'from': '2019-01-14', 'to': '2019-01-20', 'id': '2019-01-14'}], 'metrics': [1000.0, 1000.0, 2000.0, 100.0, 0.0, 2.0, 2.0]}, {'dimensions': [{'name': '2018-12-31 - 2019-01-06', 'from': '2018-12-31', 'to': '2019-01-06', 'id': '2018-12-31'}], 'metrics': [1000.0, 1000.0, 2000.0, 100.0, 0.0, 2.0, 12.0]}, {'dimensions': [{'name': '2018-12-24 - 2018-12-30', 'from': '2018-12-24', 'to': '2018-12-30', 'id': '2018-12-24'}], 'metrics': [1000.0, 1000.0, 66000.0, 100.0, 0.0, 66.0, 60.0]}], 'total_rows': 50, 'total_rows_rounded': False, 'sampled': True, 'contains_sensitive_data': False, 'sample_share': 0.001, 'sample_size': 1331064, 'sample_space': 1331064337, 'data_lag': 136, 'totals': [77000.0, 65000.0, 275000.0, 100.0, 18.18181818, 3.57142857, 69.14285714], 'min': [1000.0, 1000.0, 1000.0, 100.0, 0.0, 1.0, 0.0], 'max': [4000.0, 3000.0, 66000.0, 100.0, 100.0, 66.0, 1775.0]}\n"
     ]
    }
   ],
   "source": [
    "print(data)"
   ]
  },
  {
   "cell_type": "code",
   "execution_count": null,
   "metadata": {},
   "outputs": [],
   "source": []
  },
  {
   "cell_type": "code",
   "execution_count": null,
   "metadata": {},
   "outputs": [],
   "source": []
  }
 ],
 "metadata": {
  "kernelspec": {
   "display_name": "Python 3",
   "language": "python",
   "name": "python3"
  },
  "language_info": {
   "codemirror_mode": {
    "name": "ipython",
    "version": 3
   },
   "file_extension": ".py",
   "mimetype": "text/x-python",
   "name": "python",
   "nbconvert_exporter": "python",
   "pygments_lexer": "ipython3",
   "version": "3.8.5"
  }
 },
 "nbformat": 4,
 "nbformat_minor": 4
}
