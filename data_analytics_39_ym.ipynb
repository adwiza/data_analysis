{
 "cells": [
  {
   "cell_type": "code",
   "execution_count": 1,
   "metadata": {},
   "outputs": [],
   "source": [
    "import requests\n",
    "from pprint import pprint\n",
    "from yaml import load, FullLoader"
   ]
  },
  {
   "cell_type": "code",
   "execution_count": 2,
   "metadata": {},
   "outputs": [],
   "source": [
    "config_file = open('config.yaml', 'r')\n",
    "config = load(config_file, Loader=FullLoader)"
   ]
  },
  {
   "cell_type": "code",
   "execution_count": 3,
   "metadata": {},
   "outputs": [],
   "source": [
    "token = config['token']\n",
    "headers = {'Authorization': 'OAuth ' + token}\n",
    "API_URL = 'https://api-metrika.yandex.ru/stat/v1/data'\n",
    "counter = '51583145'\n",
    "startDate = '2020-12-01'\n",
    "endDate = '2020-12-31'"
   ]
  },
  {
   "cell_type": "code",
   "execution_count": 4,
   "metadata": {},
   "outputs": [],
   "source": [
    "def make_request(**kwargs):\n",
    "    \"\"\" Запрос к API Яндекс метрики с произворльным\n",
    "    числом параметров\"\"\"\n",
    "    \n",
    "    return requests.get(API_URL, headers=headers, params=kwargs).json()"
   ]
  },
  {
   "cell_type": "code",
   "execution_count": 34,
   "metadata": {},
   "outputs": [],
   "source": [
    "preset = 'traffic'\n",
    "filters = \"ym:s:regionCountryName=='Россия'\"\n",
    "params = {\n",
    "    'date1': startDate,\n",
    "    'date2': endDate,\n",
    "    'id': counter,\n",
    "    'preset': preset,\n",
    "    'filters': filters,\n",
    "}"
   ]
  },
  {
   "cell_type": "code",
   "execution_count": 35,
   "metadata": {},
   "outputs": [],
   "source": [
    "data = make_request(date1=startDate, date2=endDate, id=counter, filters=filters, preset=preset)\n",
    "# data = requests.get(API_URL, headers=headers, params=params).json()"
   ]
  },
  {
   "cell_type": "code",
   "execution_count": 36,
   "metadata": {},
   "outputs": [
    {
     "name": "stdout",
     "output_type": "stream",
     "text": [
      "['ym:s:visits',\n",
      " 'ym:s:users',\n",
      " 'ym:s:pageviews',\n",
      " 'ym:s:percentNewVisitors',\n",
      " 'ym:s:bounceRate',\n",
      " 'ym:s:pageDepth',\n",
      " 'ym:s:avgVisitDurationSeconds']\n",
      "7\n"
     ]
    }
   ],
   "source": [
    "pprint(data['query']['metrics'])\n",
    "print(len(data['query']['metrics']))\n"
   ]
  },
  {
   "cell_type": "code",
   "execution_count": 37,
   "metadata": {},
   "outputs": [
    {
     "name": "stdout",
     "output_type": "stream",
     "text": [
      "{'contains_sensitive_data': False,\n",
      " 'data': [{'dimensions': [{'from': '2020-12-07',\n",
      "                           'id': '2020-12-07',\n",
      "                           'name': '2020-12-07 - 2020-12-13',\n",
      "                           'to': '2020-12-13'}],\n",
      "           'metrics': [441.0,\n",
      "                       399.0,\n",
      "                       837.0,\n",
      "                       95.4887218,\n",
      "                       22.44897959,\n",
      "                       1.89795918,\n",
      "                       41.7755102]},\n",
      "          {'dimensions': [{'from': '2020-12-01',\n",
      "                           'id': '2020-11-30',\n",
      "                           'name': '2020-12-01 - 2020-12-06',\n",
      "                           'to': '2020-12-06'}],\n",
      "           'metrics': [440.0,\n",
      "                       404.0,\n",
      "                       829.0,\n",
      "                       92.82178218,\n",
      "                       25.68181818,\n",
      "                       1.88409091,\n",
      "                       46.29545455]}],\n",
      " 'data_lag': 174,\n",
      " 'max': [441.0, 404.0, 837.0, 95.4887218, 25.68181818, 1.89795918, 46.29545455],\n",
      " 'min': [440.0, 399.0, 829.0, 92.82178218, 22.44897959, 1.88409091, 41.7755102],\n",
      " 'query': {'adfox_event_id': '0',\n",
      "           'attr_name': '',\n",
      "           'attribution': 'LastSign',\n",
      "           'auto_group_size': '1',\n",
      "           'currency': 'RUB',\n",
      "           'date1': '2020-12-01',\n",
      "           'date2': '2020-12-31',\n",
      "           'dimensions': ['ym:s:datePeriodWeek'],\n",
      "           'filters': \"ym:s:regionCountryName=='Россия'\",\n",
      "           'group': 'Week',\n",
      "           'ids': [51583145],\n",
      "           'limit': 100,\n",
      "           'metrics': ['ym:s:visits',\n",
      "                       'ym:s:users',\n",
      "                       'ym:s:pageviews',\n",
      "                       'ym:s:percentNewVisitors',\n",
      "                       'ym:s:bounceRate',\n",
      "                       'ym:s:pageDepth',\n",
      "                       'ym:s:avgVisitDurationSeconds'],\n",
      "           'offline_window': '21',\n",
      "           'offset': 1,\n",
      "           'preset': 'traffic',\n",
      "           'quantile': '50',\n",
      "           'sort': ['-ym:s:datePeriodWeek']},\n",
      " 'sample_share': 1.0,\n",
      " 'sample_size': 923,\n",
      " 'sample_space': 923,\n",
      " 'sampled': False,\n",
      " 'total_rows': 2,\n",
      " 'total_rows_rounded': False,\n",
      " 'totals': [881.0,\n",
      "            795.0,\n",
      "            1666.0,\n",
      "            95.09433962,\n",
      "            24.06356413,\n",
      "            1.89103292,\n",
      "            44.03291714]}\n"
     ]
    }
   ],
   "source": [
    "pprint(data)"
   ]
  }
 ],
 "metadata": {
  "kernelspec": {
   "display_name": "Python 3",
   "language": "python",
   "name": "python3"
  },
  "language_info": {
   "codemirror_mode": {
    "name": "ipython",
    "version": 3
   },
   "file_extension": ".py",
   "mimetype": "text/x-python",
   "name": "python",
   "nbconvert_exporter": "python",
   "pygments_lexer": "ipython3",
   "version": "3.8.5"
  }
 },
 "nbformat": 4,
 "nbformat_minor": 4
}
