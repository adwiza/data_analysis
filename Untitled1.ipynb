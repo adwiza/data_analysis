{
 "cells": [
  {
   "cell_type": "code",
   "execution_count": 12,
   "metadata": {},
   "outputs": [],
   "source": [
    "import telegram\n",
    "from yaml import load, SafeLoader"
   ]
  },
  {
   "cell_type": "code",
   "execution_count": 11,
   "metadata": {},
   "outputs": [],
   "source": [
    "class Notifier():\n",
    "    def __init__(self, username):\n",
    "        self.username = username\n",
    "        self.message_counter = 0\n",
    "        self.config = load(open('config.yaml'), Loader=SafeLoader)\n",
    "        self.bot = telegram.Bot(self.config['bot_token'])\n",
    "    def counterUp(self):\n",
    "        self.message_counter += 1\n",
    "    def notification"
   ]
  },
  {
   "cell_type": "code",
   "execution_count": 9,
   "metadata": {},
   "outputs": [],
   "source": [
    "mess = Notifier(me)"
   ]
  },
  {
   "cell_type": "code",
   "execution_count": 10,
   "metadata": {},
   "outputs": [
    {
     "name": "stdout",
     "output_type": "stream",
     "text": [
      "417208825\n"
     ]
    }
   ],
   "source": [
    "print(mess.username)"
   ]
  },
  {
   "cell_type": "code",
   "execution_count": null,
   "metadata": {},
   "outputs": [],
   "source": [
    "class Notifier:\n",
    "    def __init__(self, username):\n",
    "        self.username = username        \n",
    "        self.messages_counter = 0\n",
    "        self.config = load( open('config.yaml', 'r') )\n",
    "        self.bot = telegram.Bot( self.config['bot_token'] )   \n",
    "    def counterUp(self):\n",
    "        self.messages_counter += 1   \n",
    "    def notification(self, message):\n",
    "        if self.username in self.config['users']:\n",
    "            self.bot.sendMessage(chat_id = self.config['users'][self.username], text = message)\n",
    "        else:\n",
    "            print('Имя пользователя не найдено в файле config.yaml')\n"
   ]
  }
 ],
 "metadata": {
  "kernelspec": {
   "display_name": "Python 3",
   "language": "python",
   "name": "python3"
  },
  "language_info": {
   "codemirror_mode": {
    "name": "ipython",
    "version": 3
   },
   "file_extension": ".py",
   "mimetype": "text/x-python",
   "name": "python",
   "nbconvert_exporter": "python",
   "pygments_lexer": "ipython3",
   "version": "3.8.5"
  }
 },
 "nbformat": 4,
 "nbformat_minor": 4
}
